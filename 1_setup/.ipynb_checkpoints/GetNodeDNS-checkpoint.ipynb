{
 "cells": [
  {
   "cell_type": "markdown",
   "id": "75ca6615",
   "metadata": {},
   "source": [
    "# Aggregate all Names and DNS Adresses"
   ]
  },
  {
   "cell_type": "code",
   "execution_count": 18,
   "id": "1f7410af",
   "metadata": {},
   "outputs": [
    {
     "data": {
      "text/plain": [
       "['berndg',\n",
       " 'berndr',\n",
       " 'christian',\n",
       " 'fabian',\n",
       " 'hendrik',\n",
       " 'huimin',\n",
       " 'justin',\n",
       " 'maurice',\n",
       " 'peter',\n",
       " 'philipp',\n",
       " 'reinhold',\n",
       " 'tobias',\n",
       " 'stefan']"
      ]
     },
     "execution_count": 18,
     "metadata": {},
     "output_type": "execute_result"
    }
   ],
   "source": [
    "# read cluster file with list of all created clusters\n",
    "\n",
    "path_cluster_txt=\"1_terraform/clusters_attruvia.txt\"\n",
    "\n",
    "# read file and replace line breaks\n",
    "with open(path_cluster_txt) as f:\n",
    "    participant_list = [w.replace('\\n', '') for w in f.readlines()]\n",
    "    \n",
    "participant_list"
   ]
  },
  {
   "cell_type": "code",
   "execution_count": 39,
   "id": "cb876c3f",
   "metadata": {},
   "outputs": [
    {
     "name": "stdout",
     "output_type": "stream",
     "text": [
      "berndg      dashboard.16b38b1d12fb4974b41a.westeurope.aksapp.io\n",
      "berndr      dashboard.7ffdf52e8a644c2b94ac.westeurope.aksapp.io\n",
      "christian   dashboard.cf9467a6287741678f53.westeurope.aksapp.io\n",
      "fabian      dashboard.3774f6971fd54c339afa.westeurope.aksapp.io\n",
      "hendrik     dashboard.021e81167c3245868d78.westeurope.aksapp.io\n",
      "huimin      dashboard.ce6739f3ae7941d4b175.westeurope.aksapp.io\n",
      "justin      dashboard.8c1f494661af4c7a93ea.westeurope.aksapp.io\n",
      "maurice     dashboard.383eb8c5ca3c41a4a8d7.westeurope.aksapp.io\n",
      "peter       dashboard.46bcb49577a349dba927.westeurope.aksapp.io\n",
      "philipp     not ready   \n",
      "reinhold    not ready   \n",
      "tobias      not ready   \n",
      "stefan      not ready   \n"
     ]
    }
   ],
   "source": [
    "for e in participant_list:\n",
    "    dns_path=\"1_terraform/\"+e+\"-dns.txt\"\n",
    "    try:\n",
    "        with open(dns_path) as f:\n",
    "            dns = \"dashboard.\"+f.readlines()[0]\n",
    "            #print(e,\"\\t\\t\",dns)\n",
    "            print('%-12s%-12s' % (e, dns))\n",
    "    except:\n",
    "        print('%-12s%-12s' % (e, \"not ready\"))\n",
    "    \n"
   ]
  },
  {
   "cell_type": "code",
   "execution_count": 35,
   "id": "3a1df9f0",
   "metadata": {},
   "outputs": [
    {
     "name": "stdout",
     "output_type": "stream",
     "text": [
      "1                     1           \n",
      "10                    20          \n",
      "100                   400         \n",
      "1000                  8000        \n",
      "10000                 160000      \n",
      "100000                3200000     \n",
      "1000000               64000000    \n",
      "10000000              1280000000  \n",
      "100000000             25600000000 \n",
      "1000000000            512000000000\n"
     ]
    }
   ],
   "source": [
    "for i in range(10):\n",
    "    print('%-22s%-12s' % (10 ** i, 20 ** i))"
   ]
  },
  {
   "cell_type": "code",
   "execution_count": null,
   "id": "4d789348",
   "metadata": {},
   "outputs": [],
   "source": []
  }
 ],
 "metadata": {
  "kernelspec": {
   "display_name": "Python 3",
   "language": "python",
   "name": "python3"
  },
  "language_info": {
   "codemirror_mode": {
    "name": "ipython",
    "version": 3
   },
   "file_extension": ".py",
   "mimetype": "text/x-python",
   "name": "python",
   "nbconvert_exporter": "python",
   "pygments_lexer": "ipython3",
   "version": "3.8.10"
  }
 },
 "nbformat": 4,
 "nbformat_minor": 5
}
