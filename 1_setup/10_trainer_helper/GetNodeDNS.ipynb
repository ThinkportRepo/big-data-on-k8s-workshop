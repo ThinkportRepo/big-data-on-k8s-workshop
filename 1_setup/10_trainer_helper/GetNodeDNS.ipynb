{
 "cells": [
  {
   "cell_type": "markdown",
   "id": "655021fb",
   "metadata": {},
   "source": [
    "# Aggregate all Names and DNS Adresses"
   ]
  },
  {
   "cell_type": "markdown",
   "id": "e03f75ab",
   "metadata": {},
   "source": [
    "### get participant list"
   ]
  },
  {
   "cell_type": "code",
   "execution_count": 2,
   "id": "458f9f80",
   "metadata": {},
   "outputs": [
    {
     "data": {
      "text/plain": [
       "['trainer',\n",
       " 'berndg',\n",
       " 'berndr',\n",
       " 'christian',\n",
       " 'fabian',\n",
       " 'hendrik',\n",
       " 'huimin',\n",
       " 'justin',\n",
       " 'maurice',\n",
       " 'peter',\n",
       " 'philipp',\n",
       " 'reinhold',\n",
       " 'tobias',\n",
       " 'stefan']"
      ]
     },
     "execution_count": 2,
     "metadata": {},
     "output_type": "execute_result"
    }
   ],
   "source": [
    "# read cluster file with list of all created clusters\n",
    "\n",
    "path_cluster_txt=\"../1_terraform/clusters_attruvia.txt\"\n",
    "\n",
    "# read file and replace line breaks\n",
    "with open(path_cluster_txt) as f:\n",
    "    participant_list = [w.replace('\\n', '') for w in f.readlines()]\n",
    "    \n",
    "participant_list"
   ]
  },
  {
   "cell_type": "markdown",
   "id": "ca958571",
   "metadata": {},
   "source": [
    "### get participant cluster website "
   ]
  },
  {
   "cell_type": "code",
   "execution_count": 4,
   "id": "ecd37dfd",
   "metadata": {},
   "outputs": [
    {
     "name": "stdout",
     "output_type": "stream",
     "text": [
      "trainer     dashboard.bd7a240249b74b218783.westeurope.aksapp.io\n",
      "berndg      dashboard.16b38b1d12fb4974b41a.westeurope.aksapp.io\n",
      "berndr      dashboard.7ffdf52e8a644c2b94ac.westeurope.aksapp.io\n",
      "christian   dashboard.cf9467a6287741678f53.westeurope.aksapp.io\n",
      "fabian      dashboard.3774f6971fd54c339afa.westeurope.aksapp.io\n",
      "hendrik     dashboard.021e81167c3245868d78.westeurope.aksapp.io\n",
      "huimin      dashboard.ce6739f3ae7941d4b175.westeurope.aksapp.io\n",
      "justin      dashboard.8c1f494661af4c7a93ea.westeurope.aksapp.io\n",
      "maurice     dashboard.383eb8c5ca3c41a4a8d7.westeurope.aksapp.io\n",
      "peter       dashboard.46bcb49577a349dba927.westeurope.aksapp.io\n",
      "philipp     dashboard.7c26f09e2f8045acbc84.westeurope.aksapp.io\n",
      "reinhold    dashboard.6cc393d010214b318dc7.westeurope.aksapp.io\n",
      "tobias      dashboard.9053b5a710934b9b85da.westeurope.aksapp.io\n",
      "stefan      dashboard.949245896c87427b80c2.westeurope.aksapp.io\n"
     ]
    }
   ],
   "source": [
    "for e in participant_list:\n",
    "    dns_path=\"../1_terraform/\"+e+\"-dns.txt\"\n",
    "    try:\n",
    "        with open(dns_path) as f:\n",
    "            dns = \"dashboard.\"+f.readlines()[0]\n",
    "            #print(e,\"\\t\\t\",dns)\n",
    "            print('%-12s%-12s' % (e, dns))\n",
    "    except:\n",
    "        print('%-12s%-12s' % (e, \"not ready\"))"
   ]
  },
  {
   "cell_type": "markdown",
   "id": "27dbdd25",
   "metadata": {},
   "source": [
    "### create kube config for trainer"
   ]
  },
  {
   "cell_type": "code",
   "execution_count": 6,
   "id": "aa34df41",
   "metadata": {},
   "outputs": [],
   "source": [
    "import yaml\n",
    "from yaml.loader import SafeLoader\n",
    "\n",
    "\n",
    "config={}\n",
    "config={\n",
    "    \"apiVersion\":\"v1\",\n",
    "    \"clusters\":[],\n",
    "    \"contexts\":[],\n",
    "    \"users\": []\n",
    "}\n",
    "\n",
    "\n",
    "for e in participant_list:\n",
    "    config_path=\"../1_terraform/\"+e+\".config\"\n",
    "    try:\n",
    "        with open(config_path) as f:\n",
    "            data = yaml.load(f, Loader=SafeLoader)\n",
    "            data[\"contexts\"][0][\"name\"]=e\n",
    "            data[\"contexts\"][0][\"context\"][\"namespace\"]=\"frontend\"\n",
    "            config[\"current-context\"]=e\n",
    "            config[\"clusters\"].append(data[\"clusters\"][0])\n",
    "            config[\"contexts\"].append(data[\"contexts\"][0])\n",
    "            config[\"users\"].append(data[\"users\"][0])\n",
    "\n",
    "            \n",
    "    except:\n",
    "        print(\"not ready\")\n",
    "      \n",
    "#print(yaml.dump(config))\n",
    "with open('../1_terraform/trainer_kubeconfig', 'w') as f:\n",
    "    data = yaml.dump(config, f, sort_keys=False, default_flow_style=False)"
   ]
  },
  {
   "cell_type": "code",
   "execution_count": 77,
   "id": "96e8522e",
   "metadata": {},
   "outputs": [],
   "source": []
  },
  {
   "cell_type": "code",
   "execution_count": null,
   "id": "b6ad30bf",
   "metadata": {},
   "outputs": [],
   "source": []
  }
 ],
 "metadata": {
  "kernelspec": {
   "display_name": "Python 3",
   "language": "python",
   "name": "python3"
  },
  "language_info": {
   "codemirror_mode": {
    "name": "ipython",
    "version": 3
   },
   "file_extension": ".py",
   "mimetype": "text/x-python",
   "name": "python",
   "nbconvert_exporter": "python",
   "pygments_lexer": "ipython3",
   "version": "3.8.10"
  }
 },
 "nbformat": 4,
 "nbformat_minor": 5
}
