{
 "cells": [
  {
   "cell_type": "markdown",
   "id": "655021fb",
   "metadata": {},
   "source": [
    "# Aggregate all Names and DNS Adresses"
   ]
  },
  {
   "cell_type": "markdown",
   "id": "e03f75ab",
   "metadata": {},
   "source": [
    "### get participant list"
   ]
  },
  {
   "cell_type": "code",
   "execution_count": 2,
   "id": "458f9f80",
   "metadata": {},
   "outputs": [
    {
     "data": {
      "text/plain": [
       "['trainer', 'student1']"
      ]
     },
     "execution_count": 2,
     "metadata": {},
     "output_type": "execute_result"
    }
   ],
   "source": [
    "# read cluster file with list of all created clusters\n",
    "\n",
    "path_cluster_txt=\"../1_terraform/clusters.txt\"\n",
    "\n",
    "# read file and replace line breaks\n",
    "with open(path_cluster_txt) as f:\n",
    "    participant_list = [w.replace('\\n', '') for w in f.readlines()]\n",
    "    \n",
    "participant_list"
   ]
  },
  {
   "cell_type": "markdown",
   "id": "ca958571",
   "metadata": {},
   "source": [
    "### get participant cluster website "
   ]
  },
  {
   "cell_type": "code",
   "execution_count": 3,
   "id": "ecd37dfd",
   "metadata": {},
   "outputs": [
    {
     "name": "stdout",
     "output_type": "stream",
     "text": [
      "trainer     not ready   \n",
      "student1    not ready   \n"
     ]
    }
   ],
   "source": [
    "for e in participant_list:\n",
    "    dns_path=\"../1_terraform/\"+e+\"-dns.txt\"\n",
    "    try:\n",
    "        with open(dns_path) as f:\n",
    "            dns = \"dashboard.\"+f.readlines()[0]\n",
    "            #print(e,\"\\t\\t\",dns)\n",
    "            print('%-12s%-12s' % (e, dns))\n",
    "    except:\n",
    "        print('%-12s%-12s' % (e, \"not ready\"))"
   ]
  },
  {
   "cell_type": "markdown",
   "id": "27dbdd25",
   "metadata": {},
   "source": [
    "### create kube config for trainer"
   ]
  },
  {
   "cell_type": "code",
   "execution_count": 6,
   "id": "aa34df41",
   "metadata": {},
   "outputs": [],
   "source": [
    "import yaml\n",
    "from yaml.loader import SafeLoader\n",
    "\n",
    "\n",
    "config={}\n",
    "config={\n",
    "    \"apiVersion\":\"v1\",\n",
    "    \"clusters\":[],\n",
    "    \"contexts\":[],\n",
    "    \"users\": []\n",
    "}\n",
    "\n",
    "\n",
    "for e in participant_list:\n",
    "    config_path=\"../1_terraform/\"+e+\".config\"\n",
    "    try:\n",
    "        with open(config_path) as f:\n",
    "            data = yaml.load(f, Loader=SafeLoader)\n",
    "            data[\"contexts\"][0][\"name\"]=e\n",
    "            data[\"contexts\"][0][\"context\"][\"namespace\"]=\"frontend\"\n",
    "            config[\"current-context\"]=e\n",
    "            config[\"clusters\"].append(data[\"clusters\"][0])\n",
    "            config[\"contexts\"].append(data[\"contexts\"][0])\n",
    "            config[\"users\"].append(data[\"users\"][0])\n",
    "\n",
    "            \n",
    "    except:\n",
    "        print(\"not ready\")\n",
    "      \n",
    "#print(yaml.dump(config))\n",
    "with open('../1_terraform/trainer_kubeconfig', 'w') as f:\n",
    "    data = yaml.dump(config, f, sort_keys=False, default_flow_style=False)"
   ]
  },
  {
   "cell_type": "markdown",
   "id": "7c1046eb",
   "metadata": {},
   "source": [
    "### Set kube confit default to this file"
   ]
  },
  {
   "cell_type": "code",
   "execution_count": null,
   "id": "b6ad30bf",
   "metadata": {},
   "outputs": [],
   "source": []
  }
 ],
 "metadata": {
  "kernelspec": {
   "display_name": "Python 3",
   "language": "python",
   "name": "python3"
  },
  "language_info": {
   "codemirror_mode": {
    "name": "ipython",
    "version": 3
   },
   "file_extension": ".py",
   "mimetype": "text/x-python",
   "name": "python",
   "nbconvert_exporter": "python",
   "pygments_lexer": "ipython3",
   "version": "3.8.10"
  }
 },
 "nbformat": 4,
 "nbformat_minor": 5
}
