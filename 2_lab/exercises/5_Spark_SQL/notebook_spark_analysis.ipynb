{
 "cells": [
  {
   "cell_type": "markdown",
   "id": "5765a06e",
   "metadata": {},
   "source": [
    "# Spark Aufgaben\n",
    "1. Importe laden\n",
    "2. Jupyter Spark starten und Twitter-Streams von Avro lesen\n",
    "3. ETL Strecke: Avro Daten einlesen und als Delta Datei wieder raus schreiben\n",
    "4. Analyse-Aufgaben erledigen \n",
    "5. Verlaufsanalyse durchführen\n",
    "6. **Ausschalten der Spark-App**\n",
    "\n",
    "## Wichtige Hinweise\n",
    "1. Führe alle Anweisungen in der vorgegebenen Reihenfolge aus. Die einzelnen Programmierzellen bauen aufeinander auf.\n",
    "2. **Beende unbedingt am Ende die Spark-Anwendung mit dem untersten Befehl \"spark.stop()\" , wenn du aufhörst an den Daten zu arbeiten.**\n",
    "3. Du kannst jederzeit das Notebook wieder hochfahren, wenn du Schritt 1 & 2 (Laden der Imports & Jupyter Spark und seine Konfigurationen hochfahren) ausführen.\n",
    "4. Mit **\"Strg\" + \"Enter\"** führst du einzelne Zellen direkt aus.\n",
    "5. In der oberen Leiste kannst du über **\"Insert\"** weitere Zellen hinzufügen, um weitere Test-Funktionen zu schreiben. "
   ]
  },
  {
   "cell_type": "markdown",
   "id": "03c9d1f3",
   "metadata": {},
   "source": [
    "## 1. Laden der Imports\n",
    "Hier werden alle benötigten Libraries für dieses Lab heruntergeladen."
   ]
  },
  {
   "cell_type": "code",
   "execution_count": null,
   "id": "eebe3ff2",
   "metadata": {},
   "outputs": [],
   "source": [
    "from pyspark import SparkContext, SparkConf\n",
    "from pyspark.sql import SparkSession\n",
    "from pyspark.sql import SQLContext\n",
    "from pyspark.sql.types import *\n",
    "from pyspark.sql.window import Window\n",
    "from pyspark.sql import Row\n",
    "from pyspark.sql.functions import explode\n",
    "from pyspark.sql.functions import lower, col\n",
    "import pyspark.sql.functions as f\n",
    "\n",
    "from delta import *\n",
    "\n",
    "\n",
    "import datetime\n",
    "from datetime import datetime\n",
    "import json\n",
    "\n",
    "\n",
    "# use 95% of the screen for jupyter cell\n",
    "from IPython.core.display import display, HTML\n",
    "display(HTML(\"<style>.container {width:100% !important; }<style>\"))"
   ]
  },
  {
   "cell_type": "markdown",
   "id": "2579b387",
   "metadata": {},
   "source": [
    "## 2. Jupyter Spark & Konfigurationen hochfahren\n",
    "Hier wird die App jupyter-spark konfiguriert und hochgefahren, welche unsere weiteren Schritte ausführt."
   ]
  },
  {
   "cell_type": "code",
   "execution_count": null,
   "id": "a6d15c94",
   "metadata": {},
   "outputs": [],
   "source": [
    "appName=\"jupyter-spark\"\n",
    "\n",
    "conf = SparkConf()\n",
    "\n",
    "# CLUSTER MANAGER\n",
    "################################################################################\n",
    "# set Kubernetes Master as Cluster Manager(“k8s://https://” is NOT a typo, this is how Spark knows the “provider” type).\n",
    "conf.setMaster(\"k8s://https://kubernetes.default.svc.cluster.local:443\")\n",
    "\n",
    "# CONFIGURE KUBERNETES\n",
    "################################################################################\n",
    "# set the namespace that will be used for running the driver and executor pods.\n",
    "conf.set(\"spark.kubernetes.namespace\",\"frontend\")\n",
    "# set the docker image from which the Worker pods are created\n",
    "conf.set(\"spark.kubernetes.container.image\", \"thinkportgmbh/workshops:spark-3.3.1\")\n",
    "conf.set(\"spark.kubernetes.container.image.pullPolicy\", \"Always\")\n",
    "\n",
    "# set service account to be used\n",
    "conf.set(\"spark.kubernetes.authenticate.driver.serviceAccountName\", \"spark\")\n",
    "# authentication for service account(required to create worker pods):\n",
    "conf.set(\"spark.kubernetes.authenticate.caCertFile\", \"/var/run/secrets/kubernetes.io/serviceaccount/ca.crt\")\n",
    "conf.set(\"spark.kubernetes.authenticate.oauthTokenFile\", \"/var/run/secrets/kubernetes.io/serviceaccount/token\")\n",
    "\n",
    "\n",
    "# CONFIGURE SPARK\n",
    "################################################################################\n",
    "conf.set(\"spark.sql.session.timeZone\", \"Europe/Berlin\")\n",
    "# set driver host. In this case the ingres service for the spark driver\n",
    "# find name of the driver service with 'kubectl get services' or in the helm chart configuration\n",
    "conf.set(\"spark.driver.host\", \"jupyter-spark-driver.frontend.svc.cluster.local\")\n",
    "# set the port, If this port is busy, spark-shell tries to bind to another port.\n",
    "conf.set(\"spark.driver.port\", \"29413\")\n",
    "# add the postgres driver jars into session\n",
    "conf.set(\"spark.jars\", \"/opt/spark/jars/spark-sql-kafka-0-10_2.12-3.3.1.jar, /opt/spark/jars/kafka-clients-3.3.1.jar, /opt/spark/jars/spark-avro_2.12-3.3.1.jar\")\n",
    "#conf.set(\"spark.driver.extraClassPath\",\"/opt/spark/jars/spark-sql-kafka-0-10_2.12-3.3.1.jar, /opt/spark/jars/kafka-clients-3.3.1.jar, /opt/spark/jars/spark-avro_2.12-3.3.1.jar\")\n",
    "conf.set(\"spark.executor.extraClassPath\",\"/opt/spark/jars/spark-sql-kafka-0-10_2.12-3.3.1.jar, /opt/spark/jars/kafka-clients-3.3.1.jar, /opt/spark/jars/spark-avro_2.12-3.3.1.jar\")\n",
    "#conf.set(\"spark.executor.extraLibrary\",\"/opt/spark/jars/spark-sql-kafka-0-10_2.12-3.3.1.jar, /opt/spark/jars/kafka-clients-3.3.1.jar\")\n",
    "\n",
    "# CONFIGURE S3 CONNECTOR\n",
    "conf.set(\"spark.hadoop.fs.s3a.endpoint\", \"minio.minio.svc.cluster.local:9000\")\n",
    "conf.set(\"spark.hadoop.fs.s3a.access.key\", \"trainadm\")\n",
    "conf.set(\"spark.hadoop.fs.s3a.secret.key\", \"train@thinkport\")\n",
    "conf.set(\"spark.hadoop.fs.s3a.path.style.access\", \"true\")\n",
    "conf.set(\"spark.hadoop.fs.s3.impl\", \"org.apache.hadoop.fs.s3a.S3AFileSystem\")\n",
    "conf.set(\"spark.hadoop.fs.s3a.aws.credentials.provider\", \"org.apache.hadoop.fs.s3a.SimpleAWSCredentialsProvider\")\n",
    "conf.set(\"spark.hadoop.fs.s3a.connection.ssl.enabled\", \"false\")\n",
    "\n",
    "# conf.set(\"spark.jars.packages\", \"org.apache.spark:spark-sql-kafka-0-10_2.12:3.3.1\")\n",
    "\n",
    "# CONFIGURE WORKER (Customize based on workload)\n",
    "################################################################################\n",
    "# set number of worker pods\n",
    "conf.set(\"spark.executor.instances\", \"1\")\n",
    "# set memory of each worker pod\n",
    "conf.set(\"spark.executor.memory\", \"1G\")\n",
    "# set cpu of each worker pod\n",
    "conf.set(\"spark.executor.cores\", \"2\")\n",
    "# Number of possible tasks = cores * executores\n",
    "\n",
    "# SPARK SESSION\n",
    "################################################################################\n",
    "# and last, create the spark session and pass it the config object\n",
    "\n",
    "spark = SparkSession\\\n",
    "    .builder\\\n",
    "    .config(conf=conf) \\\n",
    "    .config('spark.sql.session.timeZone', 'Europe/Berlin') \\\n",
    "    .appName(appName)\\\n",
    "    .getOrCreate()\n",
    "\n",
    "# also get the spark context\n",
    "sc=spark.sparkContext\n",
    "# change the log level to warning, to see less output\n",
    "sc.setLogLevel('WARN')\n",
    "\n",
    "# get the configuration object to check all the configurations the session was startet with\n",
    "for entry in sc.getConf().getAll():\n",
    "        if entry[0] in [\"spark.app.name\",\"spark.kubernetes.namespace\",\"spark.executor.memory\",\"spark.executor.cores\",\"spark.driver.host\",\"spark.master\"]:\n",
    "            print(entry[0],\"=\",entry[1])"
   ]
  },
  {
   "cell_type": "markdown",
   "id": "9f42ed16",
   "metadata": {},
   "source": [
    "## 3. Einlesen und Schreiben von Daten"
   ]
  },
  {
   "cell_type": "markdown",
   "id": "93cbac52",
   "metadata": {},
   "source": [
    "### 3.1 Einlesen der Daten aus unserem S3 Speicher-Bucket \n",
    "Laden der Daten aus unserem Bucket in \"s3a://twitter/avro\" in einen DataFrame, um auf den Daten zu arbeiten. "
   ]
  },
  {
   "cell_type": "code",
   "execution_count": null,
   "id": "90b65543",
   "metadata": {},
   "outputs": [],
   "source": [
    "df=(spark\n",
    "    .read.format(\"avro\")\n",
    "    # Pfad zu Bucket\n",
    "    .load(\"s3a://twitter/avro\")\n",
    "    # filter retweets raus bei denen das Hashtag truncated wurde\n",
    "    .filter(f.array_contains(f.col(\"hashtags\"),\"BigData\")==True)\n",
    "    # repartition auf 20 um optimierter mit den wenigen cpu zu arbeiten\n",
    "    .repartition(20)\n",
    "   ).cache()"
   ]
  },
  {
   "cell_type": "markdown",
   "id": "0f31f3ee",
   "metadata": {},
   "source": [
    "Erste Ausgabe der Daten in Form eines DataFrames"
   ]
  },
  {
   "cell_type": "code",
   "execution_count": null,
   "id": "5dec3929",
   "metadata": {},
   "outputs": [],
   "source": [
    "df.show()"
   ]
  },
  {
   "cell_type": "markdown",
   "id": "7da71da4",
   "metadata": {},
   "source": [
    "### 3.2 Schreiben der Daten ins Delta-Format\n",
    "Hier werden die Daten direkt im Delta-Format umgewandelt und in den S3-Bucket \"s3a://twitter/delta\" geschrieben. Dieser Schritt ist wichtig, um die Daten passend für Trino zu abzulegen."
   ]
  },
  {
   "cell_type": "code",
   "execution_count": null,
   "id": "d6249e07",
   "metadata": {},
   "outputs": [],
   "source": [
    "writer_delta=(df\n",
    "                .write.partitionBy(\"language\")\n",
    "                .mode(\"overwrite\")\n",
    "                .format(\"delta\")\n",
    "                .option(\"overwriteSchema\", \"true\")\n",
    "                .option(\"userMetadata\", \"Initial Ladung\")\n",
    "                .save(\"s3a://twitter/delta\")\n",
    "             )"
   ]
  },
  {
   "cell_type": "markdown",
   "id": "518be64b",
   "metadata": {},
   "source": [
    "## 4. Analyse-Aufgaben\n"
   ]
  },
  {
   "cell_type": "markdown",
   "id": "f9b79d70",
   "metadata": {},
   "source": [
    "### 4.1 Tweets anschauen und den Aufbau des Dataframes\n",
    "Schau dir den Datensatz einmal genau an. Welche Spalten gibt es? Welche Datentypen sind vorhanden?"
   ]
  },
  {
   "cell_type": "code",
   "execution_count": null,
   "id": "406525a9",
   "metadata": {},
   "outputs": [],
   "source": [
    "df.show()"
   ]
  },
  {
   "cell_type": "markdown",
   "id": "9b4223d1",
   "metadata": {},
   "source": [
    "### 4.2  Das Schema des Datensatzes anzeigen \n",
    "<br>\n",
    "<code> df.printSchema()</code> gibt das Schema des Datensatzes aus."
   ]
  },
  {
   "cell_type": "code",
   "execution_count": null,
   "id": "196c1696",
   "metadata": {},
   "outputs": [],
   "source": [
    "df.printSchema()"
   ]
  },
  {
   "cell_type": "markdown",
   "id": "edc238b9",
   "metadata": {},
   "source": [
    "### 4.3 Zählen der Tweets pro Stunde\n",
    "Schreibe eine Abfrage, die **die Anzahl an Tweets pro Stunde** zählt.\n",
    "<br>\n",
    "<br>\n",
    "<details>\n",
    "<summary> &#8964 Lösung </summary>\n",
    "<p>\n",
    "<code>df_hourly=(df\n",
    "            .withColumn(\"hour\", f.hour(f.col(\"created_at\")))\n",
    "            .groupBy(\"hour\")\n",
    "            .count()\n",
    "            .withColumnRenamed(\"count\",\"total\")\n",
    "            .sort(\"hour\")\n",
    "          )\n",
    "df_hourly.show(20)</code>\n",
    "</details>\n",
    "</p>\n"
   ]
  },
  {
   "cell_type": "code",
   "execution_count": null,
   "id": "1185327b",
   "metadata": {},
   "outputs": [],
   "source": [
    "df_hourly=(df  \n",
    "            ...\n",
    "          )\n",
    "\n",
    "df_hourly.show(20)"
   ]
  },
  {
   "cell_type": "markdown",
   "id": "2f0d5a8f",
   "metadata": {},
   "source": [
    "### 4.4 Top 10 User nach Tweet-Anzahl\n",
    "Schreibe eine Abfrage, die die **Top User** nach ihrer **Anzahl an Tweets** ausgibt. Bedenke dabei, deine Ausgabe auf **10** Einträge zu limitieren.\n",
    "<br>\n",
    "<br>\n",
    "<details>\n",
    "<summary> &#8964 Lösung </summary>\n",
    "<p>\n",
    "<code>df_top_user=(df\n",
    "                .groupBy(\"user_name\")\n",
    "                .agg(\n",
    "                    f.count(\"user_name\").alias(\"numberOfTweets\")\n",
    "                    )\n",
    "                .orderBy(f.col(\"numberOfTweets\").desc())\n",
    "                .limit(10)\n",
    "                .withColumnRenamed(\"user_name\",\"user\")\n",
    "                )\n",
    "df_top_user.show()</code>\n",
    "</details>\n",
    "</p>"
   ]
  },
  {
   "cell_type": "code",
   "execution_count": null,
   "id": "c2a6ca1f",
   "metadata": {},
   "outputs": [],
   "source": [
    "df_top_user=(df\n",
    "                ...\n",
    "                )\n",
    "df_top_user.show()\n"
   ]
  },
  {
   "cell_type": "markdown",
   "id": "75828392",
   "metadata": {},
   "source": [
    "### 4.5 Umgang mit  Arrays\n",
    "Für die folgenden Aufgabe wird die <code>explode</code>-Funktion benötigt. Schreibe eine Abfrage die das Hashtag-array mit <code>explode</code> teilt. Gebe dabei die Spalten \"user_name\", \"tweet_id\"und die explodierte\"hashtags\"- Spalte mit einem Limit von 20 Zeilen aus. \n",
    "<br>\n",
    "<br>\n",
    "<details>\n",
    "<summary> &#8964 Lösung </summary>\n",
    "<p>\n",
    "<code>df_hash=(df\n",
    "         .withColumn(\"hashtags\",explode(\"hashtags\"))\n",
    "        .limit(20)\n",
    "        .select(\"user_name\", \"tweet_id\", \"hashtags\")\n",
    "        )\n",
    "df_hash.show()</code>\n",
    "</details>\n",
    "</p>"
   ]
  },
  {
   "cell_type": "code",
   "execution_count": null,
   "id": "bd44fd32",
   "metadata": {},
   "outputs": [],
   "source": [
    "df_hash=(df\n",
    "         ...\n",
    "        )\n",
    "df_hash.show()"
   ]
  },
  {
   "cell_type": "markdown",
   "id": "58765db1",
   "metadata": {},
   "source": [
    "### 4.6 Top 5 Hashtags der Top 10 User\n",
    "Schreibe eine Abfrage, die die **Top 5 der Hashtags** der **10 User** mit den **meisten Tweets** ausgibt.\n",
    "<br>\n",
    "<br>\n",
    "<details>\n",
    "<summary> &#8964 Lösung </summary>\n",
    "<p>\n",
    "<code>df_top5_per_user=(df_top_user\n",
    "            # filter via join\n",
    "            .join(df,[df_top_user.user==df.user_name],how=\"left\")\n",
    "            # hashtags array in Zeilen Einträge exploden\n",
    "            .withColumn(\"hashtags\",explode(\"hashtags\"))\n",
    "            # hashtags lowercase schreiben um Doppelungen zu entfernen\n",
    "            .withColumn(\"hashtags\", lower(col('hashtags')))\n",
    "            # groupieren und counten by hashtag\n",
    "            .groupBy(\"hashtags\").agg(f.count(\"hashtags\"))\n",
    "            # rückwärts sortieren\n",
    "            .sort(f.col(\"count(hashtags)\").desc())\n",
    "            # top 5 selectieren\n",
    "            .limit(5) \n",
    "                 )\n",
    "df_top5_per_user.show()</code>\n",
    "</details>\n",
    "</p>"
   ]
  },
  {
   "cell_type": "code",
   "execution_count": null,
   "id": "f0bd4d64",
   "metadata": {
    "scrolled": true
   },
   "outputs": [],
   "source": [
    "df_top5_per_user=(df_top_user\n",
    "                ...\n",
    "                 )\n",
    "df_top5_per_user.show()"
   ]
  },
  {
   "cell_type": "markdown",
   "id": "cbb68e6c",
   "metadata": {},
   "source": [
    " ### 4.7 Top 10 Influencer (User mit #BigData-tweets mit den meisten Followern) \n",
    " Schreibe eine Abfrage, die die **Top 10 Influencer** mit den **meisten Follower** zählt und sortiert anzeigt.\n",
    " <br>\n",
    "<br>\n",
    "<details>\n",
    "<summary> &#8964 Lösung </summary>\n",
    "<p>\n",
    "<code>df_top_influencer=(df\n",
    "                .groupBy(\"user_name\")\n",
    "                .agg(\n",
    "                    f.max(\"user_follower_count\").alias(\"follower\")\n",
    "                    )\n",
    "                .orderBy(f.col(\"follower\").desc())\n",
    "                )\n",
    "df_top_influencer.show(10)</code>\n",
    "</details>\n",
    "</p>"
   ]
  },
  {
   "cell_type": "code",
   "execution_count": null,
   "id": "79b5113b",
   "metadata": {},
   "outputs": [],
   "source": [
    "df_top_influencer=(df\n",
    "                ...\n",
    "                )\n",
    "df_top_influencer.show(10)"
   ]
  },
  {
   "cell_type": "markdown",
   "id": "935e6148",
   "metadata": {},
   "source": [
    "### 4.8 Top 10 Influencer und ihre Anzahl an tweets\n",
    "Schreibe eine Abfrage, die die **Top 10 Influencer**, ihre Follower und die **Anzahl ihrer Tweets** ausgibt. außeredem soll es sortiert nach den Anzahl ihrer Follower sein. \n",
    "<br>\n",
    "<br>\n",
    "<details>\n",
    "<summary> &#8964 Lösung </summary>\n",
    "<p>\n",
    "<code>df_withRetweets=(df_top_user\n",
    "            # filter via join auf die Top 10 Influencer\n",
    "            .join(df_top_influencer, [df_top_influencer.user_name==df_top_user.user],how=\"left\")\n",
    "            .orderBy(f.col(\"follower\").desc())\n",
    "            .limit(10)\n",
    "            .drop(\"user_name\")\n",
    "            .select(\"user\",\"follower\",\"numberOfTweets\")\n",
    "    )\n",
    "df_withRetweets.show()</code>\n",
    "</details>\n",
    "</p>"
   ]
  },
  {
   "cell_type": "code",
   "execution_count": null,
   "id": "e47a7c26",
   "metadata": {},
   "outputs": [],
   "source": [
    "df_withRetweets=(df_top_user\n",
    "            ....\n",
    "    )\n",
    "\n",
    "df_withRetweets.show()"
   ]
  },
  {
   "cell_type": "markdown",
   "id": "13676250",
   "metadata": {},
   "source": [
    "### Bonusaufgabe: Filter nach den Top 10 Locations und ihrem Top Hashtag\n",
    "Schreibe eine Abfrage, die die **Top 10 häufigsten Locations** ausgibt und das am **zweitmeisten verwendete Hashtag** dort. Da alle unsere Daten das Hashtag #BigData beinhalten. \n",
    "<br>\n",
    "<br>\n",
    "<details>\n",
    "<summary> &#8964 Lösung </summary>\n",
    "<p>\n",
    "<code>df3=(df\n",
    "    .select(\"user_location\")\n",
    "    .where(~f.col(\"user_location\").isin(\"\",\"null\",\"REMOTE\",\"Earth\"))\n",
    "    .groupBy(\"user_location\")\n",
    "    .count()\n",
    "    .withColumnRenamed(\"count\",\"location_total\")\n",
    "    .orderBy(f.col(\"location_total\").desc())\n",
    "    .limit(10)\n",
    "    )</code>\n",
    "    \n",
    "<code>df4=(df\n",
    "    .select(\"user_location\",\"hashtags\")\n",
    "    .withColumn(\"singletag\",f.explode(f.col(\"hashtags\")))\n",
    "    .groupBy(\"user_location\",\"singletag\")\n",
    "    .count()\n",
    "    .withColumnRenamed(\"count\",\"tags_total\")\n",
    "        )</code>\n",
    "    \n",
    "<code>df5=(df3.alias(\"a\")\n",
    "    .join(f.broadcast(df4.alias(\"b\")),[df3.user_location==df4.user_location],how=\"left\")\n",
    "    .select(\"a.user_location\",\"a.location_total\",\"b.singletag\",\"b.tags_total\")      \n",
    "    .withColumn(\"rank\",f.row_number().over(Window.partitionBy(\"a.user_location\")\n",
    "    .orderBy(f.col(\"b.tags_total\").desc())))\n",
    "    .filter(f.col(\"rank\")==1)\n",
    "    .sort(f.col(\"location_total\").desc())\n",
    "    .limit(10)\n",
    "    )\n",
    "df5.show()</code>\n",
    "</details>\n",
    "</p>"
   ]
  },
  {
   "cell_type": "code",
   "execution_count": null,
   "id": "2f14e0c2",
   "metadata": {},
   "outputs": [],
   "source": []
  },
  {
   "cell_type": "code",
   "execution_count": null,
   "id": "eb05cf17",
   "metadata": {},
   "outputs": [],
   "source": []
  },
  {
   "cell_type": "code",
   "execution_count": null,
   "id": "132149f4",
   "metadata": {},
   "outputs": [],
   "source": []
  },
  {
   "cell_type": "markdown",
   "id": "a081f82e",
   "metadata": {},
   "source": [
    "## 5. Delta History and Time Travel\n",
    "Führe den folgenden Code aus um die aktuelle Delta-Daten-Version upzudaten. Wenn du mehrere Versionen sehen willst schreibe öfter raus mit <code>writer_delta()</code> mit einigen Minuten Abstand."
   ]
  },
  {
   "cell_type": "code",
   "execution_count": null,
   "id": "287ada1c",
   "metadata": {},
   "outputs": [],
   "source": [
    "writer_delta=(df\n",
    "                .write.partitionBy(\"language\")\n",
    "                .mode(\"overwrite\")\n",
    "                .format(\"delta\")\n",
    "                .option(\"overwriteSchema\", \"true\")\n",
    "                .option(\"userMetadata\", \"Update Ladung\")\n",
    "                .save(\"s3a://twitter/delta\")\n",
    "             )"
   ]
  },
  {
   "cell_type": "markdown",
   "id": "52d10e78",
   "metadata": {},
   "source": [
    "### 5.1 Delta Tabelle ausgeben\n",
    "Lade die Delta-Tabelle und lasse dir die ersten 2 Einträge ausgeben.\n",
    "<br>\n",
    "<br>\n",
    "<details>\n",
    "<summary> &#8964 Lösung </summary>\n",
    "<p>\n",
    "<code># Load Delta file in s3 into Delta Table Object\n",
    "dt = DeltaTable.forPath(spark, \"s3a://twitter/delta\")\n",
    "dt.toDF().show(2)</code>\n",
    "</details>\n",
    "</p>"
   ]
  },
  {
   "cell_type": "code",
   "execution_count": null,
   "id": "34f34013",
   "metadata": {},
   "outputs": [],
   "source": [
    "# Load Delta file in s3 into Delta Table Object\n",
    "dt = DeltaTable.forPath(spark, \"s3a://twitter/delta\")\n",
    "dt.toDF().show(2)\n"
   ]
  },
  {
   "cell_type": "markdown",
   "id": "c7862d91",
   "metadata": {},
   "source": [
    "### 5.2  Erzeugen einer Historie\n",
    "1. Führe mehrmals Write to Delta aus und prüfe, wie die Historie neue Einträge hinzufügt  "
   ]
  },
  {
   "cell_type": "code",
   "execution_count": null,
   "id": "5127f540",
   "metadata": {},
   "outputs": [],
   "source": [
    "# get the metadata for the full history of the table\n",
    "fullHistoryDF = dt.history()    \n",
    "\n",
    "# get the metadata for the last operation\n",
    "lastOperationDF = dt.history(1) \n",
    "\n",
    "fullHistoryDF.select(\"version\",\"readVersion\",\"timestamp\",\"userId\",\"operation\",\"operationParameters\",\"operationMetrics\").show()"
   ]
  },
  {
   "cell_type": "markdown",
   "id": "39f0a855",
   "metadata": {},
   "source": [
    "### 5.3 Laden der aktuellen  Versionen \n",
    "Lade eine der Versionen und lasse dir alle `languages` anzeigen (via distinct().show())\n",
    "<br>\n",
    "<br>\n",
    "<details>\n",
    "<summary> &#8964 Lösung </summary>\n",
    "<p>\n",
    "<code>df = spark.read.format(\"delta\").load(\"s3a://solution/twitter_delta\")\n",
    "df.select(\"language\").distinct().show()</code>\n",
    "</details>\n",
    "</p>"
   ]
  },
  {
   "cell_type": "code",
   "execution_count": null,
   "id": "f92161ce",
   "metadata": {},
   "outputs": [],
   "source": [
    "# load latest delta version\n"
   ]
  },
  {
   "cell_type": "markdown",
   "id": "54cee9d7",
   "metadata": {},
   "source": [
    "### 5.4. Laden einer ältere Versionen \n",
    "Lade eine ältere Version und bestätige, dass noch alle Daten vorhanden sind.\n",
    "<br>\n",
    "<br>\n",
    "<details>\n",
    "<summary> &#8964 Lösung </summary>\n",
    "<p>\n",
    "<code>df_timetravel_old = spark.read.format(\"delta\").option(\"versionAsOf\", 2).load(\"s3a://twitter/delta\")\n",
    "df_timetravel_old.select(\"language\").distinct().show()\n",
    "df_timetravel_old.show()</code>\n",
    "</details>\n",
    "</p>"
   ]
  },
  {
   "cell_type": "code",
   "execution_count": null,
   "id": "85e31aad",
   "metadata": {},
   "outputs": [],
   "source": [
    "#load specific historic version\n",
    "df_timetravel_old = spark.read.format(\"delta\").option(\"versionAsOf\", 2).load(\"s3a://twitter/delta\")\n",
    "df_timetravel_old.select(\"language\").distinct().show()\n",
    "df_timetravel_old.show()"
   ]
  },
  {
   "cell_type": "markdown",
   "id": "9144a895",
   "metadata": {},
   "source": [
    "### 5.5 Überschreiben von neueren Version\n",
    "Überschreibe nun mit der älteren Version die Aktuellste. \n",
    "<br>\n",
    "<br>\n",
    "<details>\n",
    "<summary> &#8964 Lösung </summary>\n",
    "<p>\n",
    "<code>df_pasttopresent = (spark\n",
    "                   .read.format(\"delta\").option(\"versionAsOf\", 0).load(\"s3a://twitter/delta\")\n",
    "                   .write.partitionBy(\"language\").mode(\"overwrite\").format(\"delta\").save(\"s3a://twitter/delta\")\n",
    "                   )\n",
    "df = spark.read.format(\"delta\").load(\"s3a://solution/twitter_delta\")\n",
    "df.show()</code>\n",
    "</details>\n",
    "</p>"
   ]
  },
  {
   "cell_type": "code",
   "execution_count": null,
   "id": "49e561fa",
   "metadata": {},
   "outputs": [],
   "source": [
    "# write old version back as latest\n"
   ]
  },
  {
   "cell_type": "markdown",
   "id": "7cde3106",
   "metadata": {},
   "source": [
    "### 5.6 Zurück in die Zukunft\n",
    "Kehre zurück zum aktuellsten Timestamp, indem `timestampAsOf`anstelle von `versionAsOf`verwenden und einem aktuellen timestamp, anstelle der Versionsnummer.\n",
    "<br>\n",
    "<br>\n",
    "<details>\n",
    "<summary> &#8964 Lösung </summary>\n",
    "<p>\n",
    "<code>f_b2future = (spark\n",
    "                .read.format(\"delta\").option(\"timestampAsOf\", \"\\<aktuellsten Stand\\>\").load(\"s3a://twitter/delta\")\n",
    "               )\n",
    "f_b2future.show()</code>\n",
    "</details>\n",
    "</p>"
   ]
  },
  {
   "cell_type": "code",
   "execution_count": null,
   "id": "8be4272d",
   "metadata": {
    "scrolled": true
   },
   "outputs": [],
   "source": [
    "f_b2future = (spark\n",
    "                .read.format(\"delta\").option(\"timestampAsOf\", \"2022-12-08 16:37:54\").load(\"s3a://twitter/delta\")\n",
    "               )\n",
    "f_b2future.show()"
   ]
  },
  {
   "cell_type": "markdown",
   "id": "5d5df865",
   "metadata": {},
   "source": [
    "# 6. Ausschalten der Spark-App\n",
    "**Bitte schließe am Ende die Spark-App wieder mit dem folgenden Befehl `spark.stop()`, wenn du fertig mit der Bearbeitung der Aufgaben bist.** "
   ]
  },
  {
   "cell_type": "code",
   "execution_count": null,
   "id": "bfdb31e3",
   "metadata": {},
   "outputs": [],
   "source": [
    "spark.stop()\n"
   ]
  },
  {
   "cell_type": "code",
   "execution_count": null,
   "id": "bb598b6c",
   "metadata": {},
   "outputs": [],
   "source": []
  }
 ],
 "metadata": {
  "kernelspec": {
   "display_name": "Python 3 (ipykernel)",
   "language": "python",
   "name": "python3"
  },
  "language_info": {
   "codemirror_mode": {
    "name": "ipython",
    "version": 3
   },
   "file_extension": ".py",
   "mimetype": "text/x-python",
   "name": "python",
   "nbconvert_exporter": "python",
   "pygments_lexer": "ipython3",
   "version": "3.9.2"
  }
 },
 "nbformat": 4,
 "nbformat_minor": 5
}
