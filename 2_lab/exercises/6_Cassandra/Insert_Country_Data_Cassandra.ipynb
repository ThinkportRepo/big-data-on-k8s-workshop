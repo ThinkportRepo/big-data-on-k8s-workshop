{
 "cells": [
  {
   "cell_type": "markdown",
   "id": "1e4884ad",
   "metadata": {},
   "source": [
    "# Stammdaten für Cassandra erzeugen\n",
    "\n",
    "Erzeuge exemplarische semi-strukturierte Daten für Cassandra"
   ]
  },
  {
   "cell_type": "code",
   "execution_count": 1,
   "id": "6241b314",
   "metadata": {},
   "outputs": [],
   "source": [
    "from cassandra.cluster import Cluster\n",
    "from cassandra.auth import PlainTextAuthProvider\n",
    "import json"
   ]
  },
  {
   "cell_type": "markdown",
   "id": "f608b3c3",
   "metadata": {},
   "source": [
    "### Configure connection to Cassandra"
   ]
  },
  {
   "cell_type": "code",
   "execution_count": 2,
   "id": "f96d207f",
   "metadata": {
    "scrolled": true
   },
   "outputs": [],
   "source": [
    "auth_provider = PlainTextAuthProvider(username='trainadm', password='train@thinkport')\n",
    "\n",
    "CASSANDRA_SERVER = \"cassandra.nosql.svc.cluster.local\"\n",
    "cluster = Cluster([CASSANDRA_SERVER], port=9042, auth_provider=auth_provider)\n",
    "session = cluster.connect()"
   ]
  },
  {
   "cell_type": "code",
   "execution_count": 3,
   "id": "0fd00346",
   "metadata": {},
   "outputs": [],
   "source": [
    "### Generate some Stammdaten for each Country"
   ]
  },
  {
   "cell_type": "code",
   "execution_count": 9,
   "id": "7939ad51",
   "metadata": {},
   "outputs": [],
   "source": [
    "country_data = [\n",
    "  {\n",
    "    \"id\": 1,\n",
    "    \"name\": \"USA\",\n",
    "    \"code\": \"US\",\n",
    "    \"population\": 329484123,\n",
    "    \"under_20\": 24,\n",
    "    \"urban\": 83,\n",
    "    \"working_age\": 64\n",
    "  },\n",
    "  {\n",
    "    \"id\": 2,\n",
    "    \"name\": \"Brazil\",\n",
    "    \"code\": \"BR\",\n",
    "    \"population\": 212559409,\n",
    "    \"under_20\": 28,\n",
    "    \"urban\": 88,\n",
    "    \"working_age\": 69\n",
    "  },\n",
    "  {\n",
    "    \"id\": 3,\n",
    "    \"name\": \"Spain\",\n",
    "    \"code\": \"ES\",\n",
    "    \"population\": 47351567,\n",
    "    \"under_20\": 19,\n",
    "    \"urban\": 80,\n",
    "    \"working_age\": 66,\n",
    "    \"economic_indicators\": {\n",
    "        \"inflation_rate\": {\"value\": \"3.0\", \"unit\": \"%\"},\n",
    "        \"gdp_per_capita\": {\"value\": \"23450\", \"unit\": \"€\"},\n",
    "        \"goverment_gross_debt\": {\"value\": \"118.7\", \"unit\": \"%\"},\n",
    "        \"unemployment_rate\": {\"value\": \"14.8\", \"unit\": \"%\"},\n",
    "        \"goverment_deficit\": {\"value\": \"-6.9\", \"unit\": \"%\", \"year\": \"2021\"}\n",
    "    }\n",
    "  },\n",
    "  {\n",
    "    \"id\": 4,\n",
    "    \"name\": \"Germany\",\n",
    "    \"code\": \"DE\",\n",
    "    \"population\": 83240525,\n",
    "    \"under_20\": 18,\n",
    "    \"urban\": 76,\n",
    "    \"working_age\": 64,\n",
    "    \"economic_indicators\": {\n",
    "        \"inflation_rate\": {\"value\": \"3.2\", \"unit\": \"%\"},\n",
    "        \"gdp_per_capita\": {\"value\": \"35480\", \"unit\": \"€\"},\n",
    "        \"goverment_gross_debt\": {\"value\": \"69.3\", \"unit\": \"%\"},\n",
    "        \"unemployment_rate\": {\"value\": \"3.7\", \"unit\": \"%\"}\n",
    "    }\n",
    "  },\n",
    "  {\n",
    "    \"id\": 5,\n",
    "    \"name\": \"United Kingdom\",\n",
    "    \"code\": \"UK\",\n",
    "    \"population\": 67215293,\n",
    "    \"under_20\": 23,\n",
    "    \"urban\": 83,\n",
    "    \"working_age\": 63\n",
    "  },\n",
    "  {\n",
    "    \"id\": 6,\n",
    "    \"name\": \"India\",\n",
    "    \"code\": \"IN\",\n",
    "    \"population\": 1380004385,\n",
    "    \"under_20\": 34,\n",
    "    \"urban\": 35,\n",
    "    \"working_age\": 69\n",
    "  },\n",
    "  {\n",
    "    \"id\": 7,\n",
    "    \"name\": \"France\",\n",
    "    \"code\": \"FR\",\n",
    "    \"population\": 67391582,\n",
    "    \"under_20\": 23,\n",
    "    \"urban\": 82,\n",
    "    \"working_age\": 61,\n",
    "    \"economic_indicators\": {\n",
    "        \"inflation_rate\": {\"value\": \"2.1\", \"unit\": \"%\"},\n",
    "        \"gdp_per_capita\": {\"value\": \"32530\", \"unit\": \"€\"},\n",
    "        \"goverment_gross_debt\": {\"value\": \"112.9\", \"unit\": \"%\"},\n",
    "        \"unemployment_rate\": {\"value\": \"7.9\", \"unit\": \"%\"}\n",
    "    }\n",
    "  }\n",
    "]"
   ]
  },
  {
   "cell_type": "markdown",
   "id": "986cccc8",
   "metadata": {},
   "source": [
    "### 1) Create Keyspace"
   ]
  },
  {
   "cell_type": "code",
   "execution_count": 5,
   "id": "fafb30d3",
   "metadata": {},
   "outputs": [
    {
     "data": {
      "text/plain": [
       "<cassandra.cluster.ResultSet at 0x7f12a947a2b0>"
      ]
     },
     "execution_count": 5,
     "metadata": {},
     "output_type": "execute_result"
    }
   ],
   "source": [
    "# nur nötig wenn der Keyspace noch nicht über cqlsh ausgeführt wurde\n",
    "session.execute(\n",
    "    \"\"\"\n",
    "    CREATE KEYSPACE IF NOT EXISTS countries \n",
    "    WITH REPLICATION = { 'class' : 'SimpleStrategy', 'replication_factor' : 1 }\n",
    "    \"\"\"\n",
    ")"
   ]
  },
  {
   "cell_type": "markdown",
   "id": "d14141ad",
   "metadata": {},
   "source": [
    "### 2) Create Table"
   ]
  },
  {
   "cell_type": "code",
   "execution_count": 6,
   "id": "9d60837d",
   "metadata": {},
   "outputs": [
    {
     "data": {
      "text/plain": [
       "<cassandra.cluster.ResultSet at 0x7f12d4c0e490>"
      ]
     },
     "execution_count": 6,
     "metadata": {},
     "output_type": "execute_result"
    }
   ],
   "source": [
    "# nur nötig wenn die Tabelle noch nicht über cqlsh ausgeführt wurde\n",
    "\n",
    "session.execute(\n",
    "    \"\"\"\n",
    "    \n",
    "    CREATE TABLE IF NOT EXISTS countries.population (\n",
    "    id int,\n",
    "    name text,\n",
    "    code text,\n",
    "    population bigint,\n",
    "    under_20 int,\n",
    "    urban int,\n",
    "    working_age int,\n",
    "    economic_indicators frozen<map<text,map<text,text>>>,\n",
    "    PRIMARY KEY ((name),population)\n",
    "    );\n",
    "    \"\"\"\n",
    ")"
   ]
  },
  {
   "cell_type": "markdown",
   "id": "f8793385",
   "metadata": {},
   "source": [
    "### 3) Insert data as JSON"
   ]
  },
  {
   "cell_type": "code",
   "execution_count": 10,
   "id": "6e7ad48e",
   "metadata": {},
   "outputs": [
    {
     "name": "stdout",
     "output_type": "stream",
     "text": [
      "\n",
      "        INSERT INTO countries.population JSON '{\"id\": 1, \"name\": \"USA\", \"code\": \"US\", \"population\": 329484123, \"under_20\": 24, \"urban\": 83, \"working_age\": 64}' \n",
      "        \n",
      "\n",
      "        INSERT INTO countries.population JSON '{\"id\": 2, \"name\": \"Brazil\", \"code\": \"BR\", \"population\": 212559409, \"under_20\": 28, \"urban\": 88, \"working_age\": 69}' \n",
      "        \n",
      "\n",
      "        INSERT INTO countries.population JSON '{\"id\": 3, \"name\": \"Spain\", \"code\": \"ES\", \"population\": 47351567, \"under_20\": 19, \"urban\": 80, \"working_age\": 66, \"economic_indicators\": {\"inflation_rate\": {\"value\": \"3.0\", \"unit\": \"%\"}, \"gdp_per_capita\": {\"value\": \"23450\", \"unit\": \"\\u20ac\"}, \"goverment_gross_debt\": {\"value\": \"118.7\", \"unit\": \"%\"}, \"unemployment_rate\": {\"value\": \"14.8\", \"unit\": \"%\"}, \"goverment_deficit\": {\"value\": \"-6.9\", \"unit\": \"%\", \"year\": \"2021\"}}}' \n",
      "        \n",
      "\n",
      "        INSERT INTO countries.population JSON '{\"id\": 4, \"name\": \"Germany\", \"code\": \"DE\", \"population\": 83240525, \"under_20\": 18, \"urban\": 76, \"working_age\": 64, \"economic_indicators\": {\"inflation_rate\": {\"value\": \"3.2\", \"unit\": \"%\"}, \"gdp_per_capita\": {\"value\": \"35480\", \"unit\": \"\\u20ac\"}, \"goverment_gross_debt\": {\"value\": \"69.3\", \"unit\": \"%\"}, \"unemployment_rate\": {\"value\": \"3.7\", \"unit\": \"%\"}}}' \n",
      "        \n",
      "\n",
      "        INSERT INTO countries.population JSON '{\"id\": 5, \"name\": \"United Kingdom\", \"code\": \"UK\", \"population\": 67215293, \"under_20\": 23, \"urban\": 83, \"working_age\": 63}' \n",
      "        \n",
      "\n",
      "        INSERT INTO countries.population JSON '{\"id\": 6, \"name\": \"India\", \"code\": \"IN\", \"population\": 1380004385, \"under_20\": 34, \"urban\": 35, \"working_age\": 69}' \n",
      "        \n",
      "\n",
      "        INSERT INTO countries.population JSON '{\"id\": 7, \"name\": \"France\", \"code\": \"FR\", \"population\": 67391582, \"under_20\": 23, \"urban\": 82, \"working_age\": 61, \"economic_indicators\": {\"inflation_rate\": {\"value\": \"2.1\", \"unit\": \"%\"}, \"gdp_per_capita\": {\"value\": \"32530\", \"unit\": \"\\u20ac\"}, \"goverment_gross_debt\": {\"value\": \"112.9\", \"unit\": \"%\"}, \"unemployment_rate\": {\"value\": \"7.9\", \"unit\": \"%\"}}}' \n",
      "        \n"
     ]
    }
   ],
   "source": [
    "for country in country_data:\n",
    "    country_json=json.dumps(country)\n",
    "    #print(country)\n",
    "    sql=f\"\"\"\n",
    "        INSERT INTO countries.population JSON '{country_json}' \n",
    "        \"\"\"\n",
    "    print(sql)\n",
    "    session.execute(sql)"
   ]
  },
  {
   "cell_type": "code",
   "execution_count": null,
   "id": "87c3cc3f",
   "metadata": {},
   "outputs": [],
   "source": [
    "# connection wieder schließen\n",
    "cluster.shutdown()"
   ]
  }
 ],
 "metadata": {
  "kernelspec": {
   "display_name": "Python 3 (ipykernel)",
   "language": "python",
   "name": "python3"
  },
  "language_info": {
   "codemirror_mode": {
    "name": "ipython",
    "version": 3
   },
   "file_extension": ".py",
   "mimetype": "text/x-python",
   "name": "python",
   "nbconvert_exporter": "python",
   "pygments_lexer": "ipython3",
   "version": "3.9.2"
  }
 },
 "nbformat": 4,
 "nbformat_minor": 5
}
