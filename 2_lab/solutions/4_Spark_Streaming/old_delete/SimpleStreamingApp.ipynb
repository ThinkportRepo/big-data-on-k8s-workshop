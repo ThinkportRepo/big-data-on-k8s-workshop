{
 "cells": [
  {
   "cell_type": "markdown",
   "id": "0c2a9ecf",
   "metadata": {},
   "source": [
    "# Simple Streaming App - Data Convertion"
   ]
  },
  {
   "cell_type": "code",
   "execution_count": null,
   "id": "ca128574",
   "metadata": {},
   "outputs": [],
   "source": [
    "# !pip install kafka-python\n",
    "\n",
    "from kafka import KafkaConsumer\n",
    "from kafka import KafkaProducer\n",
    "import json\n",
    "from datetime import datetime\n",
    "\n",
    "KAFKA_SERVER = \"kafka-cp-kafka.kafka.svc.cluster.local:9092\"\n",
    "KAFKA_SOURCE_TOPIC = \"twitter-json\"\n",
    "KAFKA_TARGET_TOPIC = \"twitter-table4\""
   ]
  },
  {
   "cell_type": "code",
   "execution_count": null,
   "id": "bac40775",
   "metadata": {},
   "outputs": [],
   "source": [
    "# Initialize consumer variable\n",
    "consumer = KafkaConsumer (KAFKA_SOURCE_TOPIC, group_id ='group15',bootstrap_servers = KAFKA_SERVER, value_deserializer=lambda m: json.loads(m.decode('utf-8')))\n",
    "\n",
    "# Initialize producer variable\n",
    "producer = KafkaProducer(bootstrap_servers=KAFKA_SERVER,value_serializer=lambda x: json.dumps(x).encode('utf-8')) "
   ]
  },
  {
   "cell_type": "code",
   "execution_count": null,
   "id": "ad0ffb76",
   "metadata": {},
   "outputs": [],
   "source": [
    "# iterate forever over all new messages in consumer object\n",
    "# pick relevant fields from json\n",
    "# print result to console\n",
    "# write result to new kafka topic\n",
    "for message in consumer:\n",
    "    result={\n",
    "        \"tweet_id\": int(message.value[\"payload\"][\"Id\"]),\n",
    "        \"created_at\": datetime.fromtimestamp(int(message.value[\"payload\"][\"CreatedAt\"])/1000).strftime('%Y-%m-%d %H:%M:%S'),\n",
    "        \"tweet_message\": message.value[\"payload\"][\"Text\"],\n",
    "        \"user_name\": message.value[\"payload\"][\"User\"][\"ScreenName\"],\n",
    "        \"user_location\": message.value[\"payload\"][\"User\"][\"Location\"],\n",
    "        \"user_follower_count\": int(message.value[\"payload\"][\"User\"][\"FollowersCount\"]),\n",
    "        \"user_friends_count\": int(message.value[\"payload\"][\"User\"][\"FriendsCount\"]),\n",
    "        \"retweet_count\": int(message.value[\"payload\"][\"RetweetCount\"]),\n",
    "        \"language\": message.value[\"payload\"][\"Lang\"],\n",
    "        \"hashtag\": [hashtag[\"Text\"] for hashtag in message.value[\"payload\"][\"HashtagEntities\"]]\n",
    "    }\n",
    "    key=int(message.value[\"payload\"][\"Id\"])\n",
    "    print(\"##########################################################\")\n",
    "    print(json.dumps(result))\n",
    "    producer.send(KAFKA_TARGET_TOPIC,value=result)"
   ]
  },
  {
   "cell_type": "code",
   "execution_count": null,
   "id": "433a50d4",
   "metadata": {},
   "outputs": [],
   "source": [
    "result={\n",
    "    \"created_at\": datetime.fromtimestamp(int(message.value[\"payload\"][\"CreatedAt\"])/1000).strftime('%Y-%m-%d %H:%M:%S'),\n",
    "    \"tweet_id\": int(message.value[\"payload\"][\"Id\"]),\n",
    "    \"tweet_message\": message.value[\"payload\"][\"Text\"],\n",
    "    \"user_name\": message.value[\"payload\"][\"User\"][\"ScreenName\"],\n",
    "    \"user_location\": message.value[\"payload\"][\"User\"][\"Location\"],\n",
    "    \"user_follower_count\": int(message.value[\"payload\"][\"User\"][\"FollowersCount\"]),\n",
    "    \"user_friends_count\": int(message.value[\"payload\"][\"User\"][\"FriendsCount\"]),\n",
    "    \"retweet_count\": int(message.value[\"payload\"][\"RetweetCount\"]),\n",
    "    \"language\": message.value[\"payload\"][\"Lang\"],\n",
    "    \"hashtag\": [hashtag[\"Text\"] for hashtag in message.value[\"payload\"][\"HashtagEntities\"]]\n",
    "}\n",
    "print(json.dumps(result))\n",
    "#print(result)\n"
   ]
  },
  {
   "cell_type": "code",
   "execution_count": null,
   "id": "2e70f3c3",
   "metadata": {},
   "outputs": [],
   "source": []
  },
  {
   "cell_type": "code",
   "execution_count": null,
   "id": "10abf73b",
   "metadata": {},
   "outputs": [],
   "source": []
  },
  {
   "cell_type": "code",
   "execution_count": null,
   "id": "3756df12",
   "metadata": {},
   "outputs": [],
   "source": []
  },
  {
   "cell_type": "code",
   "execution_count": null,
   "id": "93d14b21",
   "metadata": {},
   "outputs": [],
   "source": []
  }
 ],
 "metadata": {
  "kernelspec": {
   "display_name": "Python 3 (ipykernel)",
   "language": "python",
   "name": "python3"
  },
  "language_info": {
   "codemirror_mode": {
    "name": "ipython",
    "version": 3
   },
   "file_extension": ".py",
   "mimetype": "text/x-python",
   "name": "python",
   "nbconvert_exporter": "python",
   "pygments_lexer": "ipython3",
   "version": "3.9.2"
  }
 },
 "nbformat": 4,
 "nbformat_minor": 5
}
