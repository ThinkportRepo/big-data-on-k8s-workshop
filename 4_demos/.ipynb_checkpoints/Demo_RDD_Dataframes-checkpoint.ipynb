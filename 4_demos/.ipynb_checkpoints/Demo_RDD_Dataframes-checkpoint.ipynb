{
 "cells": [
  {
   "cell_type": "code",
   "execution_count": 1,
   "id": "d8fa44dc",
   "metadata": {},
   "outputs": [
    {
     "data": {
      "text/html": [
       "<style>.container {width:100% !important; }<style>"
      ],
      "text/plain": [
       "<IPython.core.display.HTML object>"
      ]
     },
     "metadata": {},
     "output_type": "display_data"
    }
   ],
   "source": [
    "#################################################################################\n",
    "# Laden aller relevate Module\n",
    "#################################################################################\n",
    "import pyspark\n",
    "from pyspark.sql.functions import *\n",
    "import json\n",
    "import csv\n",
    "from datetime import datetime\n",
    "from delta import *\n",
    "import delta\n",
    "\n",
    "# use 95% of the screen for jupyter cell\n",
    "from IPython.core.display import display, HTML\n",
    "display(HTML(\"<style>.container {width:100% !important; }<style>\"))"
   ]
  },
  {
   "cell_type": "code",
   "execution_count": 2,
   "id": "99a1a70f",
   "metadata": {},
   "outputs": [],
   "source": [
    "# first for local usage pip install delta-spark\n",
    "\n",
    "builder = pyspark.sql.SparkSession.builder.appName(\"MyApp\") \\\n",
    "    .config(\"spark.sql.extensions\", \"io.delta.sql.DeltaSparkSessionExtension\") \\\n",
    "    .config(\"spark.sql.extensions\", \"io.delta.sql.DeltaSparkSessionExtension\") \\\n",
    "    .config(\"spark.sql.catalog.spark_catalog\", \"org.apache.spark.sql.delta.catalog.DeltaCatalog\") \\\n",
    "    .config(\"spark.jars\", \"/Users/alor/opt/spark/jars/spark-sql-kafka-0-10_2.12-3.3.1.jar, /Users/alor/opt/spark/jars/kafka-clients-3.3.1.jar, /Users/alor/opt/spark/jars/spark-avro_2.12-3.3.1.jar\") \\\n",
    "    .config(\"spark.driver.extraClassPath\",\"/Users/alor/opt/spark/jars/spark-sql-kafka-0-10_2.12-3.3.1.jar, /Users/alor/opt/spark/jars/kafka-clients-3.3.1.jar, /Users/alor/opt/spark/jars/spark-avro_2.12-3.3.1.jar\") \\\n",
    "    .config(\"spark.executor.extraClassPath\",\"/Users/alor/opt/spark/jars/spark-sql-kafka-0-10_2.12-3.3.1.jar, /Users/alor/opt/spark/jars/kafka-clients-3.3.1.jar, /Users/alor/opt/spark/jars/spark-avro_2.12-3.3.1.jar\")\n",
    "\n",
    "\n",
    "spark = configure_spark_with_delta_pip(builder).getOrCreate()\n",
    "\n",
    "sc=spark.sparkContext\n"
   ]
  },
  {
   "cell_type": "markdown",
   "id": "97d6566a",
   "metadata": {},
   "source": [
    "# Bespiel 1: Tabelle Drop, Filter, Sort"
   ]
  },
  {
   "cell_type": "markdown",
   "id": "2deb5db5",
   "metadata": {},
   "source": [
    "## Dataframe - Drop, Filter, Sort"
   ]
  },
  {
   "cell_type": "code",
   "execution_count": 71,
   "id": "36ec71fa",
   "metadata": {},
   "outputs": [
    {
     "name": "stdout",
     "output_type": "stream",
     "text": [
      "+-------------+------+----------+\n",
      "|         name|anzahl|      date|\n",
      "+-------------+------+----------+\n",
      "|      Bankura|    48|1544861923|\n",
      "|    Beypazarı|    32|1576709032|\n",
      "|      Otranto|    36|1573575340|\n",
      "|    Balıkesir|    50|1567507084|\n",
      "|     Dreieich|    28|1552948625|\n",
      "|  Neunkirchen|    14|1546330649|\n",
      "|Montes Claros|    44|1588255608|\n",
      "|     Avellino|    33|1542196665|\n",
      "|     Santiago|    40|1549252438|\n",
      "|       Lavoir|    16|1596575768|\n",
      "+-------------+------+----------+\n",
      "only showing top 10 rows\n",
      "\n"
     ]
    }
   ],
   "source": [
    "df=(spark\n",
    "    .read\n",
    "    .format(\"csv\")\n",
    "    .option(\"header\",True)\n",
    "    .option(\"delimiter\",\";\")\n",
    "    .load(\"../2_lab/data/simple/\")\n",
    "   )\n",
    "\n",
    "df.show(10)"
   ]
  },
  {
   "cell_type": "code",
   "execution_count": 66,
   "id": "85bac375",
   "metadata": {},
   "outputs": [
    {
     "name": "stdout",
     "output_type": "stream",
     "text": [
      "+--------------------+------+\n",
      "|                name|anzahl|\n",
      "+--------------------+------+\n",
      "|           Warisoulx|    46|\n",
      "|        Vizianagaram|    44|\n",
      "|             Uberaba|    42|\n",
      "|San Benedetto del...|    46|\n",
      "|         Saint-Louis|    47|\n",
      "+--------------------+------+\n",
      "only showing top 5 rows\n",
      "\n"
     ]
    }
   ],
   "source": [
    "df2=(df\n",
    "     .drop(\"date\")\n",
    "     .where(col(\"anzahl\")>40)\n",
    "     .sort(col(\"name\").desc())\n",
    "    )\n",
    "\n",
    "df2.show(5)"
   ]
  },
  {
   "cell_type": "markdown",
   "id": "48b25a53",
   "metadata": {},
   "source": [
    "## RDD - Drop, Filter, Sort"
   ]
  },
  {
   "cell_type": "code",
   "execution_count": 84,
   "id": "900bad73",
   "metadata": {},
   "outputs": [
    {
     "data": {
      "text/plain": [
       "['name;anzahl;date',\n",
       " 'Bankura;48;1544861923',\n",
       " 'Beypazarı;32;1576709032',\n",
       " 'Otranto;36;1573575340',\n",
       " 'Balıkesir;50;1567507084',\n",
       " 'Dreieich;28;1552948625',\n",
       " 'Neunkirchen;14;1546330649',\n",
       " 'Montes Claros;44;1588255608',\n",
       " 'Avellino;33;1542196665',\n",
       " 'Santiago;40;1549252438']"
      ]
     },
     "execution_count": 84,
     "metadata": {},
     "output_type": "execute_result"
    }
   ],
   "source": [
    "rdd=sc.textFile(\"../2_lab/data/simple/\")\n",
    "\n",
    "# Zeilen von Strings\n",
    "rdd.take(10)"
   ]
  },
  {
   "cell_type": "code",
   "execution_count": 85,
   "id": "8fef160e",
   "metadata": {},
   "outputs": [
    {
     "data": {
      "text/plain": [
       "[['Warisoulx', 46],\n",
       " ['Vizianagaram', 44],\n",
       " ['Uberaba', 42],\n",
       " ['San Benedetto del Tronto', 46],\n",
       " ['Saint-Louis', 47]]"
      ]
     },
     "execution_count": 85,
     "metadata": {},
     "output_type": "execute_result"
    }
   ],
   "source": [
    "header=rdd.first()\n",
    "rdd2=(rdd\n",
    "      # remove first line\n",
    "      .filter(lambda line: line != header )\n",
    "      # split string into array\n",
    "      .map(lambda x: x.split(\";\"))\n",
    "      # change second element in array to int, drittes Element entfernen\n",
    "      .map(lambda x: [x[0],int(x[1])])\n",
    "      # filter on second array element (anzahl) < 40\n",
    "      .filter(lambda x: x[1]>40)\n",
    "      # sortby first array element descending\n",
    "      .sortBy(lambda x: x[0],False)\n",
    "     )\n",
    "rdd2.take(5)"
   ]
  },
  {
   "cell_type": "code",
   "execution_count": 86,
   "id": "1f561be7",
   "metadata": {},
   "outputs": [
    {
     "name": "stdout",
     "output_type": "stream",
     "text": [
      "+--------------------+------+\n",
      "|                name|anzahl|\n",
      "+--------------------+------+\n",
      "|           Warisoulx|    46|\n",
      "|        Vizianagaram|    44|\n",
      "|             Uberaba|    42|\n",
      "|San Benedetto del...|    46|\n",
      "|         Saint-Louis|    47|\n",
      "+--------------------+------+\n",
      "only showing top 5 rows\n",
      "\n"
     ]
    }
   ],
   "source": [
    "rdd2.toDF([\"name\",\"anzahl\"]).show(5)"
   ]
  },
  {
   "cell_type": "markdown",
   "id": "69a9bbc1",
   "metadata": {},
   "source": [
    "# Beispiel 2: Word Count Fließtext"
   ]
  },
  {
   "cell_type": "markdown",
   "id": "5653b435",
   "metadata": {},
   "source": [
    "## RDD - reduce by key"
   ]
  },
  {
   "cell_type": "code",
   "execution_count": 94,
   "id": "f4920a32",
   "metadata": {},
   "outputs": [
    {
     "data": {
      "text/plain": [
       "['Es ist Nacht,',\n",
       " 'und mein Herz kommt zu dir,',\n",
       " 'hälts nicht aus,',\n",
       " 'hälts nicht aus mehr bei mir.',\n",
       " 'Legt sich dir auf die Brust,',\n",
       " 'wie ein Stein,',\n",
       " 'sinkt hinein,',\n",
       " 'zu dem deinen hinein.',\n",
       " 'Dort erst,',\n",
       " 'dort erst kommt es zur Ruh,']"
      ]
     },
     "execution_count": 94,
     "metadata": {},
     "output_type": "execute_result"
    }
   ],
   "source": [
    "rdd4=sc.textFile(\"../2_lab/data/word-count/es-ist-nacht.txt\")\n",
    "\n",
    "# Zeilen von Strings\n",
    "rdd4.take(10)"
   ]
  },
  {
   "cell_type": "code",
   "execution_count": 134,
   "id": "92525c87",
   "metadata": {},
   "outputs": [
    {
     "data": {
      "text/plain": [
       "[('zu', 2),\n",
       " ('nicht', 2),\n",
       " ('kommt', 2),\n",
       " ('hälts', 2),\n",
       " ('hinein', 2),\n",
       " ('erst', 2),\n",
       " ('dir', 2),\n",
       " ('aus', 2),\n",
       " ('zur', 1),\n",
       " ('wie', 1)]"
      ]
     },
     "execution_count": 134,
     "metadata": {},
     "output_type": "execute_result"
    }
   ],
   "source": [
    "rdd5=(rdd4\n",
    "      # splitte alles in Einzelworte und einen langen Datensatz\n",
    "      .flatMap(lambda line: line.split(\" \"))\n",
    "      # mape jedes Wort auf ein Tupel mit 1\n",
    "      .map(lambda word: (word,1))\n",
    "      # alles über Keys addieren/reduzieren\n",
    "      .reduceByKey(lambda x,y: x+y)\n",
    "      # über key sortieren\n",
    "      .sortByKey(False)\n",
    "      # über zweite Spalte sortieren\n",
    "      .sortBy(lambda x: x[1],False)\n",
    ")\n",
    "\n",
    "rdd5.take(10)"
   ]
  },
  {
   "cell_type": "markdown",
   "id": "00766188",
   "metadata": {},
   "source": [
    "### Dataframe explode und groupby"
   ]
  },
  {
   "cell_type": "code",
   "execution_count": 135,
   "id": "5f49633b",
   "metadata": {},
   "outputs": [
    {
     "name": "stdout",
     "output_type": "stream",
     "text": [
      "+----------------------------+\n",
      "|value                       |\n",
      "+----------------------------+\n",
      "|Es ist Nacht                |\n",
      "|und mein Herz kommt zu dir  |\n",
      "|hälts nicht aus             |\n",
      "|hälts nicht aus mehr bei mir|\n",
      "|Legt sich dir auf die Brust |\n",
      "|wie ein Stein               |\n",
      "|sinkt hinein                |\n",
      "|zu dem deinen hinein        |\n",
      "|Dort erst                   |\n",
      "|dort erst kommt es zur Ruh  |\n",
      "+----------------------------+\n",
      "only showing top 10 rows\n",
      "\n"
     ]
    }
   ],
   "source": [
    "df4=(spark\n",
    "    .read\n",
    "    .format(\"text\")\n",
    "    .load(\"../2_lab/data/word-count/es-ist-nacht.txt\")\n",
    "   )\n",
    "\n",
    "df4.show(10, truncate=False)"
   ]
  },
  {
   "cell_type": "code",
   "execution_count": 138,
   "id": "afa05f39",
   "metadata": {},
   "outputs": [
    {
     "name": "stdout",
     "output_type": "stream",
     "text": [
      "+------+-----+\n",
      "|word  |count|\n",
      "+------+-----+\n",
      "|zu    |2    |\n",
      "|nicht |2    |\n",
      "|kommt |2    |\n",
      "|hälts |2    |\n",
      "|hinein|2    |\n",
      "|erst  |2    |\n",
      "|dir   |2    |\n",
      "|aus   |2    |\n",
      "|zur   |1    |\n",
      "|wie   |1    |\n",
      "+------+-----+\n",
      "only showing top 10 rows\n",
      "\n"
     ]
    }
   ],
   "source": [
    "df5=(df4\n",
    "     # zeile in array splitten\n",
    "     .withColumn(\"words\",split(col(\"value\"),\" \"))\n",
    "     # array in zeile exploden\n",
    "     .withColumn(\"word\",explode(col(\"words\")))\n",
    "     # nach gleichen Wörtern gruppieren und addieren\n",
    "     .groupBy(\"word\")\n",
    "     .count()\n",
    "     # sortieren nach count und word\n",
    "     .sort(col(\"count\").desc(),col(\"word\").desc())\n",
    "    )\n",
    "\n",
    "df5.show(10,truncate=False)"
   ]
  },
  {
   "cell_type": "code",
   "execution_count": null,
   "id": "7d96f187",
   "metadata": {},
   "outputs": [],
   "source": []
  },
  {
   "cell_type": "code",
   "execution_count": null,
   "id": "adc6872b",
   "metadata": {},
   "outputs": [],
   "source": []
  }
 ],
 "metadata": {
  "kernelspec": {
   "display_name": "Python 3",
   "language": "python",
   "name": "python3"
  },
  "language_info": {
   "codemirror_mode": {
    "name": "ipython",
    "version": 3
   },
   "file_extension": ".py",
   "mimetype": "text/x-python",
   "name": "python",
   "nbconvert_exporter": "python",
   "pygments_lexer": "ipython3",
   "version": "3.8.10"
  }
 },
 "nbformat": 4,
 "nbformat_minor": 5
}
