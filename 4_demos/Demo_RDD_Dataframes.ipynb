{
 "cells": [
  {
   "cell_type": "code",
   "execution_count": null,
   "id": "55cc8168",
   "metadata": {},
   "outputs": [],
   "source": [
    "#################################################################################\n",
    "# Laden aller relevate Module\n",
    "#################################################################################\n",
    "import pyspark\n",
    "from pyspark.sql.functions import *\n",
    "import json\n",
    "import csv\n",
    "from datetime import datetime\n",
    "from delta import *\n",
    "import delta\n",
    "\n",
    "# use 95% of the screen for jupyter cell\n",
    "from IPython.core.display import display, HTML\n",
    "display(HTML(\"<style>.container {width:100% !important; }<style>\"))"
   ]
  },
  {
   "cell_type": "code",
   "execution_count": null,
   "id": "9da29167",
   "metadata": {},
   "outputs": [],
   "source": [
    "# first for local usage pip install delta-spark\n",
    "\n",
    "builder = pyspark.sql.SparkSession.builder.appName(\"MyApp\") \\\n",
    "    .config(\"spark.sql.extensions\", \"io.delta.sql.DeltaSparkSessionExtension\") \\\n",
    "    .config(\"spark.sql.extensions\", \"io.delta.sql.DeltaSparkSessionExtension\") \\\n",
    "    .config(\"spark.sql.catalog.spark_catalog\", \"org.apache.spark.sql.delta.catalog.DeltaCatalog\") \\\n",
    "    .config(\"spark.jars\", \"/Users/alor/opt/spark/jars/spark-sql-kafka-0-10_2.12-3.3.1.jar, /Users/alor/opt/spark/jars/kafka-clients-3.3.1.jar, /Users/alor/opt/spark/jars/spark-avro_2.12-3.3.1.jar\") \\\n",
    "    .config(\"spark.driver.extraClassPath\",\"/Users/alor/opt/spark/jars/spark-sql-kafka-0-10_2.12-3.3.1.jar, /Users/alor/opt/spark/jars/kafka-clients-3.3.1.jar, /Users/alor/opt/spark/jars/spark-avro_2.12-3.3.1.jar\") \\\n",
    "    .config(\"spark.executor.extraClassPath\",\"/Users/alor/opt/spark/jars/spark-sql-kafka-0-10_2.12-3.3.1.jar, /Users/alor/opt/spark/jars/kafka-clients-3.3.1.jar, /Users/alor/opt/spark/jars/spark-avro_2.12-3.3.1.jar\")\n",
    "\n",
    "\n",
    "spark = configure_spark_with_delta_pip(builder).getOrCreate()\n",
    "\n",
    "sc=spark.sparkContext\n",
    "\n",
    "spark.sparkContext.setLogLevel(\"ERROR\")\n",
    "\n"
   ]
  },
  {
   "cell_type": "code",
   "execution_count": null,
   "id": "47151a37",
   "metadata": {},
   "outputs": [],
   "source": [
    "spark"
   ]
  },
  {
   "cell_type": "markdown",
   "id": "1d6cb209",
   "metadata": {},
   "source": [
    "# Bespiel 1: Tabelle Drop, Filter, Sort"
   ]
  },
  {
   "cell_type": "markdown",
   "id": "4ca9b3c3",
   "metadata": {},
   "source": [
    "## Dataframe - Drop, Filter, Sort"
   ]
  },
  {
   "cell_type": "code",
   "execution_count": null,
   "id": "2538bc40",
   "metadata": {},
   "outputs": [],
   "source": [
    "df=(spark\n",
    "    .read\n",
    "    .format(\"csv\")\n",
    "    .option(\"header\",True)\n",
    "    .option(\"delimiter\",\";\")\n",
    "    .load(\"../2_lab/data/simple/\")\n",
    "   )\n",
    "\n",
    "df.show(10)"
   ]
  },
  {
   "cell_type": "code",
   "execution_count": null,
   "id": "bde06462",
   "metadata": {},
   "outputs": [],
   "source": [
    "df2=(df\n",
    "     .where(col(\"anzahl\")>40)\n",
    "     .sort(col(\"name\").desc())\n",
    "     .drop(\"date\")\n",
    "    )\n",
    "\n",
    "df2.show(5)"
   ]
  },
  {
   "cell_type": "code",
   "execution_count": null,
   "id": "6ff48014",
   "metadata": {},
   "outputs": [],
   "source": [
    "df2.createOrReplaceTempView(\"df_view\")\n",
    "\n",
    "spark.sql(\"\"\"\n",
    "    SELECT name, anzahl\n",
    "    FROM df_view\n",
    "    WHERE anzahl > 40\n",
    "    ORDER BY name DESC\n",
    "    LIMIT 5\n",
    "    \n",
    "\"\"\").show()\n",
    "\n"
   ]
  },
  {
   "cell_type": "markdown",
   "id": "ba72a2ee",
   "metadata": {},
   "source": [
    "## RDD - Drop, Filter, Sort"
   ]
  },
  {
   "cell_type": "code",
   "execution_count": null,
   "id": "0e6fdd38",
   "metadata": {},
   "outputs": [],
   "source": [
    "rdd=sc.textFile(\"../2_lab/data/simple/\")\n",
    "\n",
    "# Zeilen von Strings\n",
    "rdd.take(10)"
   ]
  },
  {
   "cell_type": "code",
   "execution_count": null,
   "id": "1bd74d68",
   "metadata": {},
   "outputs": [],
   "source": [
    "header=rdd.first()\n",
    "rdd2=(rdd\n",
    "      # remove first line\n",
    "      .filter(lambda line: line != header )\n",
    "      # split string into array\n",
    "      .map(lambda line: line.split(\";\"))\n",
    "      # change second element in array to int, drittes Element entfernen\n",
    "      .map(lambda x: [x[0],int(x[1])])\n",
    "      # filter on second array element (anzahl) < 40\n",
    "      .filter(lambda x: x[1]>40)\n",
    "      # sortby first array element descending\n",
    "      .sortBy(lambda x: x[0],False)\n",
    "     )\n",
    "rdd2.take(5)"
   ]
  },
  {
   "cell_type": "code",
   "execution_count": null,
   "id": "7f8f5c33",
   "metadata": {},
   "outputs": [],
   "source": [
    "rdd2.toDF([\"name\",\"anzahl\"]).show(5)"
   ]
  },
  {
   "cell_type": "markdown",
   "id": "6058c677",
   "metadata": {},
   "source": [
    "# Beispiel 2: Word Count Fließtext"
   ]
  },
  {
   "cell_type": "markdown",
   "id": "e515603d",
   "metadata": {},
   "source": [
    "## RDD - reduce by key"
   ]
  },
  {
   "cell_type": "code",
   "execution_count": null,
   "id": "e6c8c043",
   "metadata": {},
   "outputs": [],
   "source": [
    "rdd4=sc.textFile(\"../2_lab/data/word-count/es-ist-nacht.txt\")\n",
    "\n",
    "# Zeilen von Strings\n",
    "rdd4.take(10)"
   ]
  },
  {
   "cell_type": "code",
   "execution_count": null,
   "id": "15fa747a",
   "metadata": {},
   "outputs": [],
   "source": [
    "rdd5=(rdd4\n",
    "      # splitte alles in Einzelworte und einen langen Datensatz\n",
    "      .flatMap(lambda line: line.split(\" \"))\n",
    "      # mape jedes Wort auf ein Tupel mit 1\n",
    "      .map(lambda word: (word,1))\n",
    "      # alles über Keys addieren/reduzieren\n",
    "      .reduceByKey(lambda x,y: x+y)\n",
    "      # über key sortieren\n",
    "      .sortByKey(False)\n",
    "      # über zweite Spalte sortieren\n",
    "      .sortBy(lambda x: x[1],False)\n",
    ")\n",
    "\n",
    "rdd5.take(10)"
   ]
  },
  {
   "cell_type": "markdown",
   "id": "5af9dea4",
   "metadata": {},
   "source": [
    "### Dataframe explode und groupby"
   ]
  },
  {
   "cell_type": "code",
   "execution_count": null,
   "id": "190d388f",
   "metadata": {},
   "outputs": [],
   "source": [
    "df4=(spark\n",
    "    .read\n",
    "    .format(\"text\")\n",
    "    .load(\"../2_lab/data/word-count/es-ist-nacht.txt\")\n",
    "   )\n",
    "\n",
    "df4.show(10, truncate=False)"
   ]
  },
  {
   "cell_type": "code",
   "execution_count": null,
   "id": "038fa9c5",
   "metadata": {},
   "outputs": [],
   "source": [
    "df5=(df4\n",
    "     # zeile in array splitten\n",
    "     .withColumn(\"words\",split(col(\"value\"),\" \"))\n",
    "     # array in zeile exploden\n",
    "     .withColumn(\"word\",explode(col(\"words\")))\n",
    "     # nach gleichen Wörtern gruppieren und addieren\n",
    "     .groupBy(\"word\")\n",
    "     .count()\n",
    "     # sortieren nach count und word\n",
    "     .sort(col(\"count\").desc(),col(\"word\").desc())\n",
    "    )\n",
    "\n",
    "df5.show(10,truncate=False)"
   ]
  },
  {
   "cell_type": "markdown",
   "id": "1f50e9e5",
   "metadata": {},
   "source": [
    "# Beispiel 3: Audiodatenverarbeitung mit RDD"
   ]
  },
  {
   "cell_type": "code",
   "execution_count": null,
   "id": "56af729c",
   "metadata": {},
   "outputs": [],
   "source": [
    "import numpy as np\n",
    "from scipy.io.wavfile import write\n",
    "from IPython.display import Audio\n",
    "import librosa"
   ]
  },
  {
   "cell_type": "code",
   "execution_count": null,
   "id": "0fba5668",
   "metadata": {},
   "outputs": [],
   "source": [
    "#%pip install scipy\n",
    "#%pip install librosa"
   ]
  },
  {
   "cell_type": "code",
   "execution_count": null,
   "id": "cc5ee82b",
   "metadata": {},
   "outputs": [],
   "source": [
    "# Daten generierung \n",
    "\n",
    "sr = 22050\n",
    "t = np.linspace(0, 2, 2*sr, endpoint=False)\n",
    "tone = 0.5 * np.sin(2 * np.pi * 440 * t)  # A4 tone\n",
    "\n",
    "write(\"a440.wav\", sr, tone.astype(np.float32))\n"
   ]
  },
  {
   "cell_type": "code",
   "execution_count": null,
   "id": "d6405c5b",
   "metadata": {},
   "outputs": [],
   "source": [
    "Audio(\"a440.wav\")"
   ]
  },
  {
   "cell_type": "code",
   "execution_count": null,
   "id": "9a15035c",
   "metadata": {},
   "outputs": [],
   "source": [
    "import numpy as np\n",
    "from IPython.display import Audio, display\n",
    "import matplotlib.pyplot as plt\n",
    "\n",
    "sr = 22050  # Sample rate\n",
    "duration = 4.0  # seconds\n",
    "t = np.linspace(0, duration, int(sr * duration), endpoint=False)\n",
    "\n",
    "def generate_pulse(freq, beat_interval, pulse_duration=0.05):\n",
    "    \"\"\"Generate periodic pulses at a given interval and tone frequency.\"\"\"\n",
    "    signal = np.zeros_like(t)\n",
    "    beat_samples = int(beat_interval * sr)\n",
    "    pulse_samples = int(pulse_duration * sr)\n",
    "    for i in range(0, len(t), beat_samples):\n",
    "        end = min(i + pulse_samples, len(t))\n",
    "        signal[i:end] += np.sin(2 * np.pi * freq * t[i:end])\n",
    "    return signal * 0.5\n",
    "\n",
    "# Define 10 different patterns\n",
    "examples = [\n",
    "    {\"label\": \"Two Pulse Pitch\", \"freqs\": [300, 220], \"interval\": 0.5,\"pulse_duration\": 0.05},\n",
    "    {\"label\": \"Slow 440Hz Pulse\", \"freq\": 440, \"interval\": 0.6, \"pulse_duration\": 0.05},\n",
    "    {\"label\": \"Double Pulse\", \"freq\": 440, \"interval\": 0.4, \"pulse_duration\": 0.05},\n",
    "    {\"label\": \"Triple Pulse\", \"freq\": 440, \"interval\": 0.3, \"pulse_duration\": 0.05},\n",
    "    {\"label\": \"Low Beat 110Hz\", \"freq\": 110, \"interval\": 0.5, \"pulse_duration\": 0.05},\n",
    "    {\"label\": \"High Beat 880Hz\", \"freq\": 880, \"interval\": 0.5, \"pulse_duration\": 0.05},\n",
    "    {\"label\": \"Short Fast Beat\", \"freq\": 440, \"interval\": 0.1, \"pulse_duration\": 0.01},\n",
    "    {\"label\": \"Long Slow Beat\", \"freq\": 440, \"interval\": 0.8, \"pulse_duration\": 0.2},\n",
    "    #{\"label\": \"Increasing Tempo\", \"freq\": 440, \"intervals\": [0.6, 0.4, 0.2, 0.1], \"pulse_duration\": 0.05},\n",
    "    {\"label\": \"Alternating Pitch\", \"freqs\": [220, 440, 660], \"interval\": 0.3, \"pulse_duration\": 0.05}\n",
    "]\n",
    "\n",
    "# Generate and display\n",
    "for i, ex in enumerate(examples):\n",
    "    if \"intervals\" in ex:\n",
    "        # Tempo changes\n",
    "        y = np.zeros_like(t)\n",
    "        idx = 0\n",
    "        for interval in ex[\"intervals\"]:\n",
    "            beat_samples = int(interval * sr)\n",
    "            pulse = np.sin(2 * np.pi * ex[\"freq\"] * t[:beat_samples])\n",
    "            pulse = np.pad(pulse, (idx, len(t) - idx - len(pulse)), 'constant')\n",
    "            y += pulse * 0.3\n",
    "            idx += beat_samples\n",
    "    elif \"freqs\" in ex:\n",
    "        # Alternate pitches\n",
    "        y = np.zeros_like(t)\n",
    "        beat_samples = int(ex[\"interval\"] * sr)\n",
    "        for i in range(0, len(t), beat_samples):\n",
    "            freq = ex[\"freqs\"][(i // beat_samples) % len(ex[\"freqs\"])]\n",
    "            end = min(i + int(0.05 * sr), len(t))\n",
    "            y[i:end] += np.sin(2 * np.pi * freq * t[i:end]) * 0.5\n",
    "    else:\n",
    "        y = generate_pulse(\n",
    "            ex[\"freq\"],\n",
    "            ex[\"interval\"],\n",
    "            ex.get(\"pulse_duration\", 0.05)\n",
    "        )\n",
    "\n",
    "    # Normalize\n",
    "    y = y / np.max(np.abs(y))\n",
    "    \n",
    "    # Save audio to WAV file\n",
    "    write(f\"audio_wav/{ex['label'].replace(' ', '_').lower()}.wav\", sr, (y * 32767).astype(np.int16))\n",
    "\n",
    "    # Display\n",
    "    # Beat detection with librosa\n",
    "    tempo, beat_frames = librosa.beat.beat_track(y=y.astype(np.float32), sr=sr)\n",
    "    beat_times = librosa.frames_to_time(beat_frames, sr=sr)\n",
    "\n",
    "    # Display results\n",
    "    print(f\"🔊 {ex['label']}\")\n",
    "    print(f\"🕺 Interval: {ex['interval']}, Pulse Duration: {ex['pulse_duration']}  --> Estimated Tempo: {float(tempo):.2f} BPM\")  # Explicit cast to float\n",
    "    #print(\"🟡 Beat times (s):\", \", \".join(f\"{bt:.2f}\" for bt in beat_times))\n",
    "    display(Audio(y, rate=sr))"
   ]
  },
  {
   "cell_type": "code",
   "execution_count": null,
   "id": "41f8e78d",
   "metadata": {},
   "outputs": [],
   "source": [
    "import librosa\n",
    "# === Beat detection ===\n",
    "tempo, beats = librosa.beat.beat_track(y=y.astype(np.float32), sr=sr)"
   ]
  },
  {
   "cell_type": "code",
   "execution_count": null,
   "id": "9b9bd4e0",
   "metadata": {},
   "outputs": [],
   "source": [
    "beats"
   ]
  },
  {
   "cell_type": "code",
   "execution_count": null,
   "id": "634d4d36",
   "metadata": {},
   "outputs": [],
   "source": [
    "# Beat detection with librosa\n",
    "tempo, beat_frames = librosa.beat.beat_track(y=y.astype(np.float32), sr=sr)\n",
    "beat_times = librosa.frames_to_time(beat_frames, sr=sr)\n",
    "\n",
    "# Display results\n",
    "print(f\"🔊 {ex['label']}\")\n",
    "print(f\"🕺 Estimated Tempo: {float(tempo):.2f} BPM\")  # Explicit cast to float\n",
    "print(\"🟡 Beat times (s):\", \", \".join(f\"{bt:.2f}\" for bt in beat_times))\n",
    "display(Audio(y, rate=sr))"
   ]
  },
  {
   "cell_type": "code",
   "execution_count": null,
   "id": "2659a461",
   "metadata": {},
   "outputs": [],
   "source": []
  }
 ],
 "metadata": {
  "kernelspec": {
   "display_name": "Python 3 (ipykernel)",
   "language": "python",
   "name": "python3"
  },
  "language_info": {
   "codemirror_mode": {
    "name": "ipython",
    "version": 3
   },
   "file_extension": ".py",
   "mimetype": "text/x-python",
   "name": "python",
   "nbconvert_exporter": "python",
   "pygments_lexer": "ipython3",
   "version": "3.9.2"
  }
 },
 "nbformat": 4,
 "nbformat_minor": 5
}
