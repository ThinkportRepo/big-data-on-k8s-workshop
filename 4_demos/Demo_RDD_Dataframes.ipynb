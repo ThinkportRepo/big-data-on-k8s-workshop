{
 "cells": [
  {
   "cell_type": "code",
   "execution_count": null,
   "id": "55cc8168",
   "metadata": {},
   "outputs": [],
   "source": [
    "#################################################################################\n",
    "# Laden aller relevate Module\n",
    "#################################################################################\n",
    "import pyspark\n",
    "from pyspark.sql.functions import *\n",
    "import json\n",
    "import csv\n",
    "from datetime import datetime\n",
    "from delta import *\n",
    "import delta\n",
    "\n",
    "# use 95% of the screen for jupyter cell\n",
    "from IPython.core.display import display, HTML\n",
    "display(HTML(\"<style>.container {width:100% !important; }<style>\"))"
   ]
  },
  {
   "cell_type": "code",
   "execution_count": null,
   "id": "9da29167",
   "metadata": {},
   "outputs": [],
   "source": [
    "# first for local usage pip install delta-spark\n",
    "\n",
    "builder = pyspark.sql.SparkSession.builder.appName(\"MyApp\") \\\n",
    "    .config(\"spark.sql.extensions\", \"io.delta.sql.DeltaSparkSessionExtension\") \\\n",
    "    .config(\"spark.sql.extensions\", \"io.delta.sql.DeltaSparkSessionExtension\") \\\n",
    "    .config(\"spark.sql.catalog.spark_catalog\", \"org.apache.spark.sql.delta.catalog.DeltaCatalog\") \\\n",
    "    .config(\"spark.jars\", \"/Users/alor/opt/spark/jars/spark-sql-kafka-0-10_2.12-3.3.1.jar, /Users/alor/opt/spark/jars/kafka-clients-3.3.1.jar, /Users/alor/opt/spark/jars/spark-avro_2.12-3.3.1.jar\") \\\n",
    "    .config(\"spark.driver.extraClassPath\",\"/Users/alor/opt/spark/jars/spark-sql-kafka-0-10_2.12-3.3.1.jar, /Users/alor/opt/spark/jars/kafka-clients-3.3.1.jar, /Users/alor/opt/spark/jars/spark-avro_2.12-3.3.1.jar\") \\\n",
    "    .config(\"spark.executor.extraClassPath\",\"/Users/alor/opt/spark/jars/spark-sql-kafka-0-10_2.12-3.3.1.jar, /Users/alor/opt/spark/jars/kafka-clients-3.3.1.jar, /Users/alor/opt/spark/jars/spark-avro_2.12-3.3.1.jar\")\n",
    "\n",
    "\n",
    "spark = configure_spark_with_delta_pip(builder).getOrCreate()\n",
    "\n",
    "sc=spark.sparkContext\n"
   ]
  },
  {
   "cell_type": "code",
   "execution_count": null,
   "id": "47151a37",
   "metadata": {},
   "outputs": [],
   "source": [
    "spark"
   ]
  },
  {
   "cell_type": "markdown",
   "id": "1d6cb209",
   "metadata": {},
   "source": [
    "# Bespiel 1: Tabelle Drop, Filter, Sort"
   ]
  },
  {
   "cell_type": "markdown",
   "id": "4ca9b3c3",
   "metadata": {},
   "source": [
    "## Dataframe - Drop, Filter, Sort"
   ]
  },
  {
   "cell_type": "code",
   "execution_count": null,
   "id": "2538bc40",
   "metadata": {},
   "outputs": [],
   "source": [
    "df=(spark\n",
    "    .read\n",
    "    .format(\"csv\")\n",
    "    .option(\"header\",True)\n",
    "    .option(\"delimiter\",\";\")\n",
    "    .load(\"../2_lab/data/simple/\")\n",
    "   )\n",
    "\n",
    "df.show(10)"
   ]
  },
  {
   "cell_type": "code",
   "execution_count": null,
   "id": "bde06462",
   "metadata": {},
   "outputs": [],
   "source": [
    "df2=(df\n",
    "     .drop(\"date\")\n",
    "     .where(col(\"anzahl\")>40)\n",
    "     .sort(col(\"name\").desc())\n",
    "    )\n",
    "\n",
    "df2.show(5)"
   ]
  },
  {
   "cell_type": "markdown",
   "id": "ba72a2ee",
   "metadata": {},
   "source": [
    "## RDD - Drop, Filter, Sort"
   ]
  },
  {
   "cell_type": "code",
   "execution_count": null,
   "id": "0e6fdd38",
   "metadata": {},
   "outputs": [],
   "source": [
    "rdd=sc.textFile(\"../2_lab/data/simple/\")\n",
    "\n",
    "# Zeilen von Strings\n",
    "rdd.take(10)"
   ]
  },
  {
   "cell_type": "code",
   "execution_count": null,
   "id": "1bd74d68",
   "metadata": {},
   "outputs": [],
   "source": [
    "header=rdd.first()\n",
    "rdd2=(rdd\n",
    "      # remove first line\n",
    "      .filter(lambda line: line != header )\n",
    "      # split string into array\n",
    "      .map(lambda line: line.split(\";\"))\n",
    "      # change second element in array to int, drittes Element entfernen\n",
    "      .map(lambda x: [x[0],int(x[1])])\n",
    "      # filter on second array element (anzahl) < 40\n",
    "      .filter(lambda x: x[1]>40)\n",
    "      # sortby first array element descending\n",
    "      .sortBy(lambda x: x[0],False)\n",
    "     )\n",
    "rdd2.take(5)"
   ]
  },
  {
   "cell_type": "code",
   "execution_count": null,
   "id": "7f8f5c33",
   "metadata": {},
   "outputs": [],
   "source": [
    "rdd2.toDF([\"name\",\"anzahl\"]).show(5)"
   ]
  },
  {
   "cell_type": "markdown",
   "id": "6058c677",
   "metadata": {},
   "source": [
    "# Beispiel 2: Word Count Fließtext"
   ]
  },
  {
   "cell_type": "markdown",
   "id": "e515603d",
   "metadata": {},
   "source": [
    "## RDD - reduce by key"
   ]
  },
  {
   "cell_type": "code",
   "execution_count": null,
   "id": "e6c8c043",
   "metadata": {},
   "outputs": [],
   "source": [
    "rdd4=sc.textFile(\"../2_lab/data/word-count/es-ist-nacht.txt\")\n",
    "\n",
    "# Zeilen von Strings\n",
    "rdd4.take(10)"
   ]
  },
  {
   "cell_type": "code",
   "execution_count": null,
   "id": "15fa747a",
   "metadata": {},
   "outputs": [],
   "source": [
    "rdd5=(rdd4\n",
    "      # splitte alles in Einzelworte und einen langen Datensatz\n",
    "      .flatMap(lambda line: line.split(\" \"))\n",
    "      # mape jedes Wort auf ein Tupel mit 1\n",
    "      .map(lambda word: (word,1))\n",
    "      # alles über Keys addieren/reduzieren\n",
    "      .reduceByKey(lambda x,y: x+y)\n",
    "      # über key sortieren\n",
    "      .sortByKey(False)\n",
    "      # über zweite Spalte sortieren\n",
    "      .sortBy(lambda x: x[1],False)\n",
    ")\n",
    "\n",
    "rdd5.take(10)"
   ]
  },
  {
   "cell_type": "markdown",
   "id": "5af9dea4",
   "metadata": {},
   "source": [
    "### Dataframe explode und groupby"
   ]
  },
  {
   "cell_type": "code",
   "execution_count": null,
   "id": "190d388f",
   "metadata": {},
   "outputs": [],
   "source": [
    "df4=(spark\n",
    "    .read\n",
    "    .format(\"text\")\n",
    "    .load(\"../2_lab/data/word-count/es-ist-nacht.txt\")\n",
    "   )\n",
    "\n",
    "df4.show(10, truncate=False)"
   ]
  },
  {
   "cell_type": "code",
   "execution_count": null,
   "id": "038fa9c5",
   "metadata": {},
   "outputs": [],
   "source": [
    "df5=(df4\n",
    "     # zeile in array splitten\n",
    "     .withColumn(\"words\",split(col(\"value\"),\" \"))\n",
    "     # array in zeile exploden\n",
    "     .withColumn(\"word\",explode(col(\"words\")))\n",
    "     # nach gleichen Wörtern gruppieren und addieren\n",
    "     .groupBy(\"word\")\n",
    "     .count()\n",
    "     # sortieren nach count und word\n",
    "     .sort(col(\"count\").desc(),col(\"word\").desc())\n",
    "    )\n",
    "\n",
    "df5.show(100,truncate=False)"
   ]
  },
  {
   "cell_type": "code",
   "execution_count": null,
   "id": "fbb9a562",
   "metadata": {},
   "outputs": [],
   "source": []
  },
  {
   "cell_type": "code",
   "execution_count": null,
   "id": "cc5ee82b",
   "metadata": {},
   "outputs": [],
   "source": []
  }
 ],
 "metadata": {
  "kernelspec": {
   "display_name": "Python 3",
   "language": "python",
   "name": "python3"
  },
  "language_info": {
   "codemirror_mode": {
    "name": "ipython",
    "version": 3
   },
   "file_extension": ".py",
   "mimetype": "text/x-python",
   "name": "python",
   "nbconvert_exporter": "python",
   "pygments_lexer": "ipython3",
   "version": "3.8.10"
  }
 },
 "nbformat": 4,
 "nbformat_minor": 5
}
