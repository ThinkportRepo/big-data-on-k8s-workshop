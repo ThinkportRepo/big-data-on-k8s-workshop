{
 "cells": [
  {
   "cell_type": "markdown",
   "id": "1e4884ad",
   "metadata": {},
   "source": [
    "# Twitter Data Generator\n",
    "Die kostenlose Twitter API wurde im Februar 2023 abgeschaltet. Deswegen geht der Use Case so nicht mehr. Um ihn schnell wieder zum laufen zu bekommen produzieren wir die Daten erstmal selbst"
   ]
  },
  {
   "cell_type": "code",
   "execution_count": 65,
   "id": "f96d207f",
   "metadata": {},
   "outputs": [],
   "source": [
    "import uuid\n",
    "import datetime\n",
    "import time\n",
    "from lorem_text import lorem\n",
    "import names\n",
    "import json\n",
    "import random"
   ]
  },
  {
   "cell_type": "code",
   "execution_count": 98,
   "id": "1df1500d",
   "metadata": {},
   "outputs": [
    {
     "data": {
      "text/plain": [
       "['iot']"
      ]
     },
     "execution_count": 98,
     "metadata": {},
     "output_type": "execute_result"
    }
   ],
   "source": [
    "#create random data\n",
    "\n",
    "# country list\n",
    "country_list=[\n",
    "              {\"country\": \"Germany\",\"language\": \"DE\"},\n",
    "              {\"country\": \"USA\",\"language\": \"EN\"},\n",
    "              {\"country\": \"United Kingdom\",\"language\": \"EN\"},\n",
    "              {\"country\": \"France\",\"language\": \"FR\"},\n",
    "              {\"country\": \"India\",\"language\": \"EN\"},\n",
    "              {\"country\": \"Spain\",\"language\": \"ES\"},\n",
    "              {\"country\": \"Brasil\",\"language\": \"PT\"}\n",
    "             ]\n",
    "\n",
    "# create name list of 50 names\n",
    "names_list=set()\n",
    "for n in range(50):\n",
    "    names_list.add(names.get_first_name())\n",
    "\n",
    "# create unique set of name, country, language\n",
    "user_country_list=[]\n",
    "for name in names_list:\n",
    "    random_country=random.choice(country_list)\n",
    "    user_country_list.append({\n",
    "        \"user_name\": name, \n",
    "        \"user_location\": random_country[\"country\"], \n",
    "        \"language\": random_country[\"language\"],\n",
    "        \"user_follower_count\": random.randint(100, 5000),\n",
    "        \"user_friends_count\": random.randint(1000, 50000)\n",
    "    })\n",
    "   \n",
    "\n",
    "# hasthag list\n",
    "hastag_list=[\"DataScience\",\"ML\",\"AI\",\"Data\",\"DataEngineering\",\"machinelearning\", \"iot\",\"analytics\",\"dataanlytics\",\"cloud\"]\n",
    "\n",
    "\n",
    "#random.choice(country_list)\n",
    "random.choices(hastag_list, k=random.randint(1, 5))\n"
   ]
  },
  {
   "cell_type": "code",
   "execution_count": 104,
   "id": "f565fe71",
   "metadata": {},
   "outputs": [
    {
     "name": "stdout",
     "output_type": "stream",
     "text": [
      "{'Id': '2b341604-c73e-11ed-b924-a615cce28169', 'Counter': '0', 'CreatedAt': 1679330534.508714, 'Text': 'Odio dolores corporis aut, suscipit tempore animi, similique minima nisi debitis dolores culpa accusantium a nulla non, quo debitis voluptatum dolorum?', 'User': {'ScreenName': 'Stephanie', 'Location': 'India', 'FollowersCount': 3782, 'FriendsCount': 42702}, 'Lang': 'EN', 'HashtagEntities': ['ML', 'machinelearning', 'ML', 'machinelearning'], 'RetweetCount': 477}\n",
      "###################################################################\n",
      "{'Id': '2b341afa-c73e-11ed-b924-a615cce28169', 'Counter': '1', 'CreatedAt': 1679330534.508835, 'Text': 'Magnam incidunt explicabo quas quos, animi voluptatem reiciendis aperiam dicta inventore suscipit.', 'User': {'ScreenName': 'David', 'Location': 'Brasil', 'FollowersCount': 1584, 'FriendsCount': 2877}, 'Lang': 'PT', 'HashtagEntities': ['machinelearning', 'DataEngineering', 'ML'], 'RetweetCount': 126}\n",
      "###################################################################\n",
      "{'Id': '2b342022-c73e-11ed-b924-a615cce28169', 'Counter': '2', 'CreatedAt': 1679330534.5089679, 'Text': 'Neque provident eligendi aperiam sed adipisci nemo sit, cum sint similique ipsa nihil quas itaque natus perspiciatis, repudiandae cupiditate voluptates iure corrupti non quo.', 'User': {'ScreenName': 'Carrie', 'Location': 'Brasil', 'FollowersCount': 4565, 'FriendsCount': 3641}, 'Lang': 'PT', 'HashtagEntities': ['Data', 'dataanlytics', 'Data', 'iot'], 'RetweetCount': 198}\n",
      "###################################################################\n",
      "{'Id': '2b3422fc-c73e-11ed-b924-a615cce28169', 'Counter': '3', 'CreatedAt': 1679330534.509035, 'Text': 'Odit adipisci necessitatibus vitae laudantium voluptate impedit eligendi, in earum optio beatae, laboriosam repellat nobis pariatur nam eius perferendis enim atque suscipit autem, ex impedit dolores aspernatur?', 'User': {'ScreenName': 'Kim', 'Location': 'Brasil', 'FollowersCount': 2022, 'FriendsCount': 38599}, 'Lang': 'PT', 'HashtagEntities': ['analytics', 'cloud', 'ML'], 'RetweetCount': 876}\n",
      "###################################################################\n",
      "{'Id': '2b3425d6-c73e-11ed-b924-a615cce28169', 'Counter': '4', 'CreatedAt': 1679330534.50911, 'Text': 'Assumenda nostrum quia quas iusto consequatur, id et animi eius vel ipsum quia tempora deleniti inventore veniam odio, facilis reprehenderit aut ipsa nesciunt doloremque, consequatur qui dolore ab dolorum sint explicabo culpa repellat tempore minima, possimus vero fugit sequi nihil.', 'User': {'ScreenName': 'Lynn', 'Location': 'India', 'FollowersCount': 1726, 'FriendsCount': 1204}, 'Lang': 'EN', 'HashtagEntities': ['Data'], 'RetweetCount': 73}\n",
      "###################################################################\n",
      "{'Id': '2b342c48-c73e-11ed-b924-a615cce28169', 'Counter': '5', 'CreatedAt': 1679330534.509276, 'Text': 'Distinctio porro quod nemo rerum totam error mollitia animi numquam, quaerat fugiat corporis perspiciatis assumenda autem.', 'User': {'ScreenName': 'Shawn', 'Location': 'United Kingdom', 'FollowersCount': 1020, 'FriendsCount': 1218}, 'Lang': 'EN', 'HashtagEntities': ['Data', 'cloud', 'Data', 'analytics'], 'RetweetCount': 278}\n",
      "###################################################################\n",
      "{'Id': '2b342f04-c73e-11ed-b924-a615cce28169', 'Counter': '6', 'CreatedAt': 1679330534.509344, 'Text': 'Eaque mollitia at ipsa quae accusamus aperiam dignissimos sapiente dolore beatae tempora, nihil doloribus molestiae ea necessitatibus, perferendis distinctio officiis beatae, eum veritatis provident facere dolorum aliquid?', 'User': {'ScreenName': 'Lois', 'Location': 'Brasil', 'FollowersCount': 1331, 'FriendsCount': 44702}, 'Lang': 'PT', 'HashtagEntities': ['ML', 'AI', 'AI', 'Data'], 'RetweetCount': 219}\n",
      "###################################################################\n",
      "{'Id': '2b343148-c73e-11ed-b924-a615cce28169', 'Counter': '7', 'CreatedAt': 1679330534.5094001, 'Text': 'Ipsum maxime et omnis aperiam, vero illum earum culpa ipsa obcaecati reiciendis iure ab recusandae eos, excepturi molestias magni a non exercitationem veritatis aperiam nulla recusandae quidem?', 'User': {'ScreenName': 'Gabriel', 'Location': 'Brasil', 'FollowersCount': 3596, 'FriendsCount': 25957}, 'Lang': 'PT', 'HashtagEntities': ['DataScience', 'DataScience', 'machinelearning'], 'RetweetCount': 968}\n",
      "###################################################################\n",
      "{'Id': '2b343346-c73e-11ed-b924-a615cce28169', 'Counter': '8', 'CreatedAt': 1679330534.50945, 'Text': 'Ipsum asperiores exercitationem, facere maxime eum nostrum placeat quis illum blanditiis iure vero magnam?', 'User': {'ScreenName': 'Richard', 'Location': 'India', 'FollowersCount': 319, 'FriendsCount': 21332}, 'Lang': 'EN', 'HashtagEntities': ['AI', 'DataEngineering', 'AI', 'machinelearning', 'AI'], 'RetweetCount': 259}\n",
      "###################################################################\n",
      "{'Id': '2b3435bc-c73e-11ed-b924-a615cce28169', 'Counter': '9', 'CreatedAt': 1679330534.509514, 'Text': 'Recusandae error magni in cum esse velit ab quidem, incidunt odit sapiente fugit non nobis modi veniam iste vitae voluptates recusandae, soluta iusto omnis laborum ipsam blanditiis obcaecati libero, voluptas praesentium exercitationem omnis odio fuga quaerat nobis labore veritatis dolorum, commodi tempore soluta explicabo voluptatibus numquam a ut molestiae?', 'User': {'ScreenName': 'Freda', 'Location': 'France', 'FollowersCount': 2119, 'FriendsCount': 37622}, 'Lang': 'FR', 'HashtagEntities': ['DataScience', 'cloud'], 'RetweetCount': 560}\n",
      "###################################################################\n"
     ]
    }
   ],
   "source": [
    "def create_random_message(counter):\n",
    "    random_user=random.choice(user_country_list)\n",
    "    message={\n",
    "        \"Id\": str(uuid.uuid1()),\n",
    "        \"Counter\": str(counter),\n",
    "        \"CreatedAt\": time.time(),\n",
    "        \"Text\": lorem.sentence(),\n",
    "        \"User\": {\n",
    "            \"ScreenName\": random_user[\"user_name\"],\n",
    "            \"Location\": random_user[\"user_location\"],\n",
    "            \"FollowersCount\": random_user[\"user_follower_count\"],\n",
    "            \"FriendsCount\": random_user[\"user_friends_count\"]\n",
    "        },\n",
    "        \"Lang\": random_user[\"language\"],\n",
    "        \"HashtagEntities\": random.choices(hastag_list, k=random.randint(1, 5)),\n",
    "        \"RetweetCount\": random.randint(0, 1000)\n",
    "    }\n",
    "\n",
    "    return message\n",
    "\n",
    "\n",
    "for counter in range(10):\n",
    "    print(create_random_message(counter))\n",
    "    print(\"###################################################################\")\n"
   ]
  },
  {
   "cell_type": "code",
   "execution_count": 106,
   "id": "5fd23232",
   "metadata": {},
   "outputs": [
    {
     "name": "stdout",
     "output_type": "stream",
     "text": [
      "tick\n",
      "tick\n",
      "tick\n",
      "tick\n",
      "tick\n",
      "tick\n",
      "tick\n"
     ]
    },
    {
     "ename": "KeyboardInterrupt",
     "evalue": "",
     "output_type": "error",
     "traceback": [
      "\u001b[0;31m---------------------------------------------------------------------------\u001b[0m",
      "\u001b[0;31mKeyboardInterrupt\u001b[0m                         Traceback (most recent call last)",
      "\u001b[0;32m<ipython-input-106-d7439c7794d2>\u001b[0m in \u001b[0;36m<module>\u001b[0;34m\u001b[0m\n\u001b[1;32m      3\u001b[0m \u001b[0;32mwhile\u001b[0m \u001b[0;32mTrue\u001b[0m\u001b[0;34m:\u001b[0m\u001b[0;34m\u001b[0m\u001b[0;34m\u001b[0m\u001b[0m\n\u001b[1;32m      4\u001b[0m     \u001b[0mprint\u001b[0m\u001b[0;34m(\u001b[0m\u001b[0;34m\"tick\"\u001b[0m\u001b[0;34m)\u001b[0m\u001b[0;34m\u001b[0m\u001b[0;34m\u001b[0m\u001b[0m\n\u001b[0;32m----> 5\u001b[0;31m     \u001b[0mtime\u001b[0m\u001b[0;34m.\u001b[0m\u001b[0msleep\u001b[0m\u001b[0;34m(\u001b[0m\u001b[0;36m5.0\u001b[0m \u001b[0;34m-\u001b[0m \u001b[0;34m(\u001b[0m\u001b[0;34m(\u001b[0m\u001b[0mtime\u001b[0m\u001b[0;34m.\u001b[0m\u001b[0mtime\u001b[0m\u001b[0;34m(\u001b[0m\u001b[0;34m)\u001b[0m \u001b[0;34m-\u001b[0m \u001b[0mstarttime\u001b[0m\u001b[0;34m)\u001b[0m \u001b[0;34m%\u001b[0m \u001b[0;36m5.0\u001b[0m\u001b[0;34m)\u001b[0m\u001b[0;34m)\u001b[0m\u001b[0;34m\u001b[0m\u001b[0;34m\u001b[0m\u001b[0m\n\u001b[0m",
      "\u001b[0;31mKeyboardInterrupt\u001b[0m: "
     ]
    }
   ],
   "source": [
    "starttime = time.time()\n",
    "while True:\n",
    "    message=create_random_message(counter)\n",
    "    time.sleep(5.0 - ((time.time() - starttime) % 5.0))"
   ]
  },
  {
   "cell_type": "code",
   "execution_count": 108,
   "id": "8999b2df",
   "metadata": {},
   "outputs": [
    {
     "name": "stdout",
     "output_type": "stream",
     "text": [
      "{'Id': '3c787ac6-c73f-11ed-b924-a615cce28169', 'Counter': '1', 'CreatedAt': 1679330992.9749389, 'Text': 'Quia fuga nemo laudantium veritatis, quam cum reiciendis temporibus provident esse itaque architecto obcaecati ad, voluptate vitae obcaecati molestias laudantium laboriosam ab deleniti magnam cum saepe porro.', 'User': {'ScreenName': 'Lynn', 'Location': 'India', 'FollowersCount': 1726, 'FriendsCount': 1204}, 'Lang': 'EN', 'HashtagEntities': ['analytics', 'AI', 'dataanlytics', 'dataanlytics', 'DataEngineering'], 'RetweetCount': 220}\n",
      "{'Id': '3c787f6c-c73f-11ed-b924-a615cce28169', 'Counter': '2', 'CreatedAt': 1679330992.9750478, 'Text': 'Nobis necessitatibus esse, nemo nam nesciunt enim laboriosam corporis dolores, neque amet tempora, ipsam earum ea hic, provident dicta qui distinctio saepe aut ipsam nobis molestias adipisci quia consectetur.', 'User': {'ScreenName': 'Billy', 'Location': 'Germany', 'FollowersCount': 3152, 'FriendsCount': 44587}, 'Lang': 'DE', 'HashtagEntities': ['analytics', 'cloud', 'machinelearning'], 'RetweetCount': 510}\n"
     ]
    }
   ],
   "source": [
    "consumer=[create_random_message(1),create_random_message(2)]\n",
    "\n",
    "for message in consumer:\n",
    "    print(message)"
   ]
  },
  {
   "cell_type": "code",
   "execution_count": null,
   "id": "1931c9ae",
   "metadata": {},
   "outputs": [],
   "source": [
    "or message in consumer:\n",
    "    counter=counter+1\n",
    "    result={\n",
    "        \"tweet_id\": str(message.value[\"payload\"][\"Id\"]),\n",
    "        \"created_at\": datetime.fromtimestamp(int(message.value[\"payload\"][\"CreatedAt\"])/1000).strftime('%Y-%m-%d %H:%M:%S'),\n",
    "        \"tweet_message\": message.value[\"payload\"][\"Text\"],\n",
    "        \"user_name\": message.value[\"payload\"][\"User\"][\"ScreenName\"],\n",
    "        \"user_location\": message.value[\"payload\"][\"User\"][\"Location\"],\n",
    "        \"user_follower_count\": int(message.value[\"payload\"][\"User\"][\"FollowersCount\"]),\n",
    "        \"user_friends_count\": int(message.value[\"payload\"][\"User\"][\"FriendsCount\"]),\n",
    "        \"retweet_count\": int(message.value[\"payload\"][\"RetweetCount\"]),\n",
    "        \"language\": message.value[\"payload\"][\"Lang\"],\n",
    "        \"hashtags\": [hashtag[\"Text\"] for hashtag in message.value[\"payload\"][\"HashtagEntities\"]]\n",
    "    }\n",
    "    print(\"++ total: \" + str(counter)+ \"+++++++++++++++++++++++++++++++++++++++++++\")\n",
    "    print(json.dumps(result))\n",
    "    producer.send(KAFKA_TARGET_TOPIC,value=result)"
   ]
  },
  {
   "cell_type": "code",
   "execution_count": 63,
   "id": "a16c219d",
   "metadata": {},
   "outputs": [
    {
     "name": "stdout",
     "output_type": "stream",
     "text": [
      "Case 4: No partition_by markus\n"
     ]
    }
   ],
   "source": []
  },
  {
   "cell_type": "code",
   "execution_count": 57,
   "id": "09cf6bf2",
   "metadata": {},
   "outputs": [
    {
     "name": "stdout",
     "output_type": "stream",
     "text": [
      "sucker\n"
     ]
    }
   ],
   "source": [
    "if(len(repartition_by_cols)==0):\n",
    "    print(\"sucker\")"
   ]
  },
  {
   "cell_type": "code",
   "execution_count": null,
   "id": "7718a961",
   "metadata": {},
   "outputs": [],
   "source": []
  }
 ],
 "metadata": {
  "kernelspec": {
   "display_name": "Python 3",
   "language": "python",
   "name": "python3"
  },
  "language_info": {
   "codemirror_mode": {
    "name": "ipython",
    "version": 3
   },
   "file_extension": ".py",
   "mimetype": "text/x-python",
   "name": "python",
   "nbconvert_exporter": "python",
   "pygments_lexer": "ipython3",
   "version": "3.8.10"
  }
 },
 "nbformat": 4,
 "nbformat_minor": 5
}
