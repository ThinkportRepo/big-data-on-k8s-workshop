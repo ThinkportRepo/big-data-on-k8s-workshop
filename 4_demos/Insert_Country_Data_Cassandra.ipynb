{
 "cells": [
  {
   "cell_type": "markdown",
   "id": "1e4884ad",
   "metadata": {},
   "source": [
    "# Country Data for Cassandra\n",
    "\n",
    "Notebook um Fake Daten nach Cassandra zu laden"
   ]
  },
  {
   "cell_type": "code",
   "execution_count": null,
   "id": "6b8820a4",
   "metadata": {},
   "outputs": [],
   "source": [
    "# install module if not in Image\n",
    "#!pip install cassandra-driver"
   ]
  },
  {
   "cell_type": "code",
   "execution_count": null,
   "id": "6241b314",
   "metadata": {},
   "outputs": [],
   "source": [
    "from cassandra.cluster import Cluster\n",
    "from cassandra.auth import PlainTextAuthProvider\n",
    "import json"
   ]
  },
  {
   "cell_type": "markdown",
   "id": "f608b3c3",
   "metadata": {},
   "source": [
    "### Configure connection to Cassandra"
   ]
  },
  {
   "cell_type": "code",
   "execution_count": 20,
   "id": "f96d207f",
   "metadata": {
    "scrolled": true
   },
   "outputs": [],
   "source": [
    "auth_provider = PlainTextAuthProvider(username='trainadm', password='train@thinkport')\n",
    "\n",
    "CASSANDRA_SERVER = \"cassandra.nosql.svc.cluster.local\"\n",
    "cluster = Cluster([CASSANDRA_SERVER], port=9042, auth_provider=auth_provider)\n",
    "session = cluster.connect()"
   ]
  },
  {
   "cell_type": "code",
   "execution_count": 1,
   "id": "0fd00346",
   "metadata": {},
   "outputs": [],
   "source": [
    "### Generate some Stammdaten for each Country"
   ]
  },
  {
   "cell_type": "code",
   "execution_count": 17,
   "id": "7939ad51",
   "metadata": {},
   "outputs": [],
   "source": [
    "country_data = [\n",
    "  {\n",
    "    \"id\": 1,\n",
    "    \"name\": \"USA\",\n",
    "    \"code\": \"US\",\n",
    "    \"population\": 329484123,\n",
    "    \"pct_under_20\": 24,\n",
    "    \"pct_urban\": 83,\n",
    "    \"pct_working_age\": 64\n",
    "  },\n",
    "  {\n",
    "    \"id\": 2,\n",
    "    \"name\": \"Brazil\",\n",
    "    \"code\": \"BR\",\n",
    "    \"population\": 212559409,\n",
    "    \"pct_under_20\": 28,\n",
    "    \"pct_urban\": 88,\n",
    "    \"pct_working_age\": 69\n",
    "  },\n",
    "  {\n",
    "    \"id\": 3,\n",
    "    \"name\": \"Spain\",\n",
    "    \"code\": \"ES\",\n",
    "    \"population\": 47351567,\n",
    "    \"pct_under_20\": 19,\n",
    "    \"pct_urban\": 80,\n",
    "    \"pct_working_age\": 66,\n",
    "    \"economic_indicators\": {\n",
    "        \"inflation_rate\": {\"value\": \"3.0\", \"unit\": \"%\"},\n",
    "        \"gdp_per_capita\": {\"value\": \"23450\", \"unit\": \"€\"},\n",
    "        \"goverment_gross_debt\": {\"value\": \"118.7\", \"unit\": \"%\"},\n",
    "        \"unemployment_rate\": {\"value\": \"14.8\", \"unit\": \"%\"},\n",
    "        \"goverment_deficit\": {\"value\": \"-6.9\", \"unit\": \"%\", \"year\": \"2021\"}\n",
    "    }\n",
    "  },\n",
    "  {\n",
    "    \"id\": 4,\n",
    "    \"name\": \"Germany\",\n",
    "    \"code\": \"DE\",\n",
    "    \"population\": 83240525,\n",
    "    \"pct_under_20\": 18,\n",
    "    \"pct_urban\": 76,\n",
    "    \"pct_working_age\": 64,\n",
    "    \"economic_indicators\": {\n",
    "        \"inflation_rate\": {\"value\": \"3.2\", \"unit\": \"%\"},\n",
    "        \"gdp_per_capita\": {\"value\": \"35480\", \"unit\": \"€\"},\n",
    "        \"goverment_gross_debt\": {\"value\": \"69.3\", \"unit\": \"%\"},\n",
    "        \"unemployment_rate\": {\"value\": \"3.7\", \"unit\": \"%\"}\n",
    "    }\n",
    "  },\n",
    "  {\n",
    "    \"id\": 5,\n",
    "    \"name\": \"United Kingdom\",\n",
    "    \"code\": \"UK\",\n",
    "    \"population\": 67215293,\n",
    "    \"pct_under_20\": 23,\n",
    "    \"pct_urban\": 83,\n",
    "    \"pct_working_age\": 63\n",
    "  },\n",
    "  {\n",
    "    \"id\": 6,\n",
    "    \"name\": \"India\",\n",
    "    \"code\": \"IN\",\n",
    "    \"population\": 1380004385,\n",
    "    \"pct_under_20\": 34,\n",
    "    \"pct_urban\": 35,\n",
    "    \"pct_working_age\": 69\n",
    "  },\n",
    "  {\n",
    "    \"id\": 7,\n",
    "    \"name\": \"France\",\n",
    "    \"code\": \"FR\",\n",
    "    \"population\": 67391582,\n",
    "    \"pct_under_20\": 23,\n",
    "    \"pct_urban\": 82,\n",
    "    \"pct_working_age\": 61,\n",
    "    \"economic_indicators\": {\n",
    "        \"inflation_rate\": {\"value\": \"2.1\", \"unit\": \"%\"},\n",
    "        \"gdp_per_capita\": {\"value\": \"32530\", \"unit\": \"€\"},\n",
    "        \"goverment_gross_debt\": {\"value\": \"112.9\", \"unit\": \"%\"},\n",
    "        \"unemployment_rate\": {\"value\": \"7.9\", \"unit\": \"%\"}\n",
    "    }\n",
    "  }\n",
    "]"
   ]
  },
  {
   "cell_type": "markdown",
   "id": "986cccc8",
   "metadata": {},
   "source": [
    "### 1) Create Keyspace"
   ]
  },
  {
   "cell_type": "code",
   "execution_count": 21,
   "id": "fafb30d3",
   "metadata": {},
   "outputs": [
    {
     "data": {
      "text/plain": [
       "<cassandra.cluster.ResultSet at 0x7f5c2d1d7af0>"
      ]
     },
     "execution_count": 21,
     "metadata": {},
     "output_type": "execute_result"
    }
   ],
   "source": [
    "session.execute(\n",
    "    \"\"\"\n",
    "    CREATE KEYSPACE IF NOT EXISTS countries \n",
    "    WITH REPLICATION = { 'class' : 'SimpleStrategy', 'replication_factor' : 1 }\n",
    "    \"\"\"\n",
    ")"
   ]
  },
  {
   "cell_type": "markdown",
   "id": "d14141ad",
   "metadata": {},
   "source": [
    "### 2) Create Table"
   ]
  },
  {
   "cell_type": "code",
   "execution_count": 23,
   "id": "9d60837d",
   "metadata": {},
   "outputs": [
    {
     "data": {
      "text/plain": [
       "<cassandra.cluster.ResultSet at 0x7f5c2c1563a0>"
      ]
     },
     "execution_count": 23,
     "metadata": {},
     "output_type": "execute_result"
    }
   ],
   "source": [
    "session.execute(\n",
    "    \"\"\"\n",
    "    CREATE TABLE IF NOT EXISTS countries.country_population (id int PRIMARY KEY, name text, code text, population bigint, pct_under_20 int, pct_urban int, pct_working_age int, economic_indicators frozen<map<text,map<text,text>>>);\n",
    "    \"\"\"\n",
    ")"
   ]
  },
  {
   "cell_type": "markdown",
   "id": "f8793385",
   "metadata": {},
   "source": [
    "### 3) Insert data as JSON"
   ]
  },
  {
   "cell_type": "code",
   "execution_count": null,
   "id": "6e7ad48e",
   "metadata": {},
   "outputs": [],
   "source": [
    "for country in country_data:\n",
    "    country_json=json.dumps(country)\n",
    "    #print(country)\n",
    "    sql=f\"\"\"\n",
    "        INSERT INTO countries.country_population JSON '{country_json}' \n",
    "        \"\"\"\n",
    "    print(sql)\n",
    "    session.execute(sql)"
   ]
  },
  {
   "cell_type": "markdown",
   "id": "078ff262",
   "metadata": {},
   "source": [
    "### 4) Alternative insert data relational"
   ]
  },
  {
   "cell_type": "code",
   "execution_count": 25,
   "id": "d21425b0",
   "metadata": {},
   "outputs": [],
   "source": [
    "for country in country_data:\n",
    "    session.execute(\n",
    "        \"\"\"\n",
    "        INSERT INTO countries.country_population (\n",
    "            id,\n",
    "            name,\n",
    "            code,\n",
    "            population,\n",
    "            pct_under_20,\n",
    "            pct_urban,\n",
    "            pct_working_age\n",
    "        ) VALUES (%s, %s, %s, %s, %s, %s, %s)\n",
    "        \"\"\", (\n",
    "        country[\"id\"],\n",
    "        country[\"name\"],\n",
    "        country[\"code\"],\n",
    "        country[\"population\"],\n",
    "        country[\"pct_under_20\"],\n",
    "        country[\"pct_urban\"],\n",
    "        country[\"pct_working_age\"]\n",
    "    )\n",
    "    )"
   ]
  },
  {
   "cell_type": "code",
   "execution_count": 27,
   "id": "87c3cc3f",
   "metadata": {},
   "outputs": [],
   "source": [
    "cluster.shutdown()"
   ]
  }
 ],
 "metadata": {
  "kernelspec": {
   "display_name": "Python 3",
   "language": "python",
   "name": "python3"
  },
  "language_info": {
   "codemirror_mode": {
    "name": "ipython",
    "version": 3
   },
   "file_extension": ".py",
   "mimetype": "text/x-python",
   "name": "python",
   "nbconvert_exporter": "python",
   "pygments_lexer": "ipython3",
   "version": "3.8.10"
  }
 },
 "nbformat": 4,
 "nbformat_minor": 5
}
