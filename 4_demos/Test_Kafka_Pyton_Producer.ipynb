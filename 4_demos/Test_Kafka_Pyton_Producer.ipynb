{
 "cells": [
  {
   "cell_type": "markdown",
   "id": "3a7314be",
   "metadata": {},
   "source": [
    "# Notebook to play around with the Python Kafka Modules"
   ]
  },
  {
   "cell_type": "code",
   "execution_count": 6,
   "id": "f689f676",
   "metadata": {},
   "outputs": [],
   "source": [
    "# !pip install kafka-python\n",
    "# ! pip install lorem_text names"
   ]
  },
  {
   "cell_type": "code",
   "execution_count": 33,
   "id": "f8506da8",
   "metadata": {},
   "outputs": [],
   "source": [
    "from kafka import KafkaProducer\n",
    "from kafka import KafkaConsumer\n",
    "\n",
    "import json\n",
    "import os\n",
    "import uuid\n",
    "from datetime import datetime\n",
    "import time\n",
    "from lorem_text import lorem\n",
    "import names\n",
    "import random\n",
    "\n",
    "KAFKA_SERVER = \"kafka.kafka.svc.cluster.local:9092\"\n",
    "KAFKA_TOPIC = \"twitter-raw\"\n",
    "GROUP_ID=str(uuid.uuid1())"
   ]
  },
  {
   "cell_type": "code",
   "execution_count": 23,
   "id": "1ecc642b",
   "metadata": {},
   "outputs": [],
   "source": [
    "# Initialize producer variable\n",
    "producer = KafkaProducer(bootstrap_servers=KAFKA_SERVER,value_serializer=lambda x: json.dumps(x).encode('utf-8')) \n",
    "\n"
   ]
  },
  {
   "cell_type": "markdown",
   "id": "8bb06639",
   "metadata": {},
   "source": [
    "## Random tweet generator"
   ]
  },
  {
   "cell_type": "code",
   "execution_count": 10,
   "id": "6e3622d1",
   "metadata": {},
   "outputs": [],
   "source": [
    "# create random data\n",
    "# #################################\n",
    "\n",
    "# country list\n",
    "country_list=[\n",
    "              {\"country\": \"Germany\",\"language\": \"DE\"},\n",
    "              {\"country\": \"USA\",\"language\": \"EN\"},\n",
    "              {\"country\": \"United Kingdom\",\"language\": \"EN\"},\n",
    "              {\"country\": \"France\",\"language\": \"FR\"},\n",
    "              {\"country\": \"India\",\"language\": \"EN\"},\n",
    "              {\"country\": \"Spain\",\"language\": \"ES\"},\n",
    "              {\"country\": \"Brasil\",\"language\": \"PT\"}\n",
    "             ]\n",
    "\n",
    "# create name list of 50 names\n",
    "names_list=set()\n",
    "for n in range(50):\n",
    "    names_list.add(names.get_first_name())\n",
    "\n",
    "# create unique set of name, country, language\n",
    "user_country_list=[]\n",
    "for name in names_list:\n",
    "    random_country=random.choice(country_list)\n",
    "    user_country_list.append({\n",
    "        \"user_name\": name, \n",
    "        \"user_location\": random_country[\"country\"], \n",
    "        \"language\": random_country[\"language\"],\n",
    "        \"user_follower_count\": random.randint(100, 5000),\n",
    "        \"user_friends_count\": random.randint(1000, 50000)\n",
    "    })\n",
    "   \n",
    "\n",
    "# hasthag list\n",
    "hastag_list=[\"DataScience\",\"ML\",\"AI\",\"Data\",\"DataEngineering\",\"machinelearning\", \"iot\",\"analytics\",\"dataanlytics\",\"cloud\"]\n"
   ]
  },
  {
   "cell_type": "code",
   "execution_count": 11,
   "id": "b931e021",
   "metadata": {},
   "outputs": [],
   "source": [
    "def create_random_message(counter):\n",
    "    random_user=random.choice(user_country_list)\n",
    "    message={\n",
    "        \"Id\": str(uuid.uuid1()),\n",
    "        \"Counter\": str(counter),\n",
    "        \"CreatedAt\": time.time(),\n",
    "        \"Text\": lorem.sentence(),\n",
    "        \"User\": {\n",
    "            \"ScreenName\": random_user[\"user_name\"],\n",
    "            \"Location\": random_user[\"user_location\"],\n",
    "            \"FollowersCount\": random_user[\"user_follower_count\"],\n",
    "            \"FriendsCount\": random_user[\"user_friends_count\"]\n",
    "        },\n",
    "        \"Lang\": random_user[\"language\"],\n",
    "        \"HashtagEntities\": random.choices(hastag_list, k=random.randint(1, 5)),\n",
    "        \"RetweetCount\": random.randint(0, 1000)\n",
    "    }\n",
    "\n",
    "    return message"
   ]
  },
  {
   "cell_type": "code",
   "execution_count": 20,
   "id": "bebe43db",
   "metadata": {},
   "outputs": [
    {
     "name": "stdout",
     "output_type": "stream",
     "text": [
      "++ message nr: 1+++++++++++++++++++++++++++++++++++++++++++\n",
      "{\"Id\": \"78839fd8-c8b0-11ed-ae74-5ecbfa752d46\", \"Counter\": \"0\", \"CreatedAt\": 1679489578.0045042, \"Text\": \"Eos fugiat nobis tempora eaque ipsam dolores eum voluptate consectetur, molestiae debitis consequuntur et possimus fuga quibusdam earum commodi ipsam distinctio esse, repellat laborum quaerat accusamus ratione minus distinctio voluptates sunt, veniam optio dicta fugit magnam delectus deserunt?\", \"User\": {\"ScreenName\": \"Bree\", \"Location\": \"France\", \"FollowersCount\": 4428, \"FriendsCount\": 1682}, \"Lang\": \"FR\", \"HashtagEntities\": [\"DataScience\", \"iot\"], \"RetweetCount\": 14}\n",
      "+++++++++++++++++++++++++++++++++++++++++++++++++++++++++++++++++++++++++++++\n",
      "++ message nr: 2+++++++++++++++++++++++++++++++++++++++++++\n",
      "{\"Id\": \"7ae68cae-c8b0-11ed-ae74-5ecbfa752d46\", \"Counter\": \"1\", \"CreatedAt\": 1679489582.0082948, \"Text\": \"Neque dolore nobis numquam magni consectetur eius earum pariatur, amet nesciunt ab error sunt voluptate assumenda placeat repudiandae dolorum quasi, quod aut earum id aliquid exercitationem rem culpa autem cumque, illum quam officia vel dolore eveniet illo asperiores doloribus autem ratione, deleniti pariatur blanditiis earum tenetur at quos distinctio omnis aut repudiandae quibusdam.\", \"User\": {\"ScreenName\": \"Karen\", \"Location\": \"Germany\", \"FollowersCount\": 131, \"FriendsCount\": 8982}, \"Lang\": \"DE\", \"HashtagEntities\": [\"dataanlytics\", \"iot\", \"DataScience\"], \"RetweetCount\": 365}\n",
      "+++++++++++++++++++++++++++++++++++++++++++++++++++++++++++++++++++++++++++++\n",
      "++ message nr: 3+++++++++++++++++++++++++++++++++++++++++++\n",
      "{\"Id\": \"7c17719c-c8b0-11ed-ae74-5ecbfa752d46\", \"Counter\": \"2\", \"CreatedAt\": 1679489584.0064318, \"Text\": \"Rerum maxime unde sunt voluptate nulla non, voluptas ratione repudiandae aspernatur.\", \"User\": {\"ScreenName\": \"Sadie\", \"Location\": \"United Kingdom\", \"FollowersCount\": 1850, \"FriendsCount\": 10455}, \"Lang\": \"EN\", \"HashtagEntities\": [\"analytics\", \"machinelearning\", \"AI\", \"ML\"], \"RetweetCount\": 169}\n",
      "+++++++++++++++++++++++++++++++++++++++++++++++++++++++++++++++++++++++++++++\n",
      "++ message nr: 4+++++++++++++++++++++++++++++++++++++++++++\n",
      "{\"Id\": \"7de140f2-c8b0-11ed-ae74-5ecbfa752d46\", \"Counter\": \"3\", \"CreatedAt\": 1679489587.0067537, \"Text\": \"Rerum sed nobis officiis magnam, ea molestias eius voluptates hic maxime consectetur cupiditate explicabo quam id libero?\", \"User\": {\"ScreenName\": \"Shirley\", \"Location\": \"USA\", \"FollowersCount\": 420, \"FriendsCount\": 9045}, \"Lang\": \"EN\", \"HashtagEntities\": [\"cloud\"], \"RetweetCount\": 309}\n",
      "+++++++++++++++++++++++++++++++++++++++++++++++++++++++++++++++++++++++++++++\n",
      "++ message nr: 5+++++++++++++++++++++++++++++++++++++++++++\n",
      "{\"Id\": \"7e79a676-c8b0-11ed-ae74-5ecbfa752d46\", \"Counter\": \"4\", \"CreatedAt\": 1679489588.0055034, \"Text\": \"Repellendus molestias excepturi vero non voluptatibus aspernatur sequi doloribus delectus, odit consequatur earum nemo maiores illo et quos magni rem voluptatum ad, incidunt illum exercitationem perspiciatis, saepe sint animi dignissimos modi accusantium.\", \"User\": {\"ScreenName\": \"Cathleen\", \"Location\": \"Spain\", \"FollowersCount\": 2445, \"FriendsCount\": 24146}, \"Lang\": \"ES\", \"HashtagEntities\": [\"DataEngineering\"], \"RetweetCount\": 792}\n",
      "+++++++++++++++++++++++++++++++++++++++++++++++++++++++++++++++++++++++++++++\n"
     ]
    },
    {
     "ename": "KeyboardInterrupt",
     "evalue": "",
     "output_type": "error",
     "traceback": [
      "\u001b[0;31m---------------------------------------------------------------------------\u001b[0m",
      "\u001b[0;31mKeyboardInterrupt\u001b[0m                         Traceback (most recent call last)",
      "Cell \u001b[0;32mIn[20], line 13\u001b[0m\n\u001b[1;32m     11\u001b[0m \u001b[38;5;66;03m#producer.send(KAFKA_TOPIC,key=message.get(\"Id\"),value=message)\u001b[39;00m\n\u001b[1;32m     12\u001b[0m producer\u001b[38;5;241m.\u001b[39msend(KAFKA_TOPIC,value\u001b[38;5;241m=\u001b[39mmessage)\n\u001b[0;32m---> 13\u001b[0m \u001b[43mtime\u001b[49m\u001b[38;5;241;43m.\u001b[39;49m\u001b[43msleep\u001b[49m\u001b[43m(\u001b[49m\u001b[43mlooptime\u001b[49m\u001b[43m \u001b[49m\u001b[38;5;241;43m-\u001b[39;49m\u001b[43m \u001b[49m\u001b[43m(\u001b[49m\u001b[43m(\u001b[49m\u001b[43mtime\u001b[49m\u001b[38;5;241;43m.\u001b[39;49m\u001b[43mtime\u001b[49m\u001b[43m(\u001b[49m\u001b[43m)\u001b[49m\u001b[43m \u001b[49m\u001b[38;5;241;43m-\u001b[39;49m\u001b[43m \u001b[49m\u001b[43mstarttime\u001b[49m\u001b[43m)\u001b[49m\u001b[43m \u001b[49m\u001b[38;5;241;43m%\u001b[39;49m\u001b[43m \u001b[49m\u001b[43mlooptime\u001b[49m\u001b[43m)\u001b[49m\u001b[43m)\u001b[49m\n",
      "\u001b[0;31mKeyboardInterrupt\u001b[0m: "
     ]
    }
   ],
   "source": [
    "starttime = time.time()\n",
    "counter=0\n",
    "looptime=1.0\n",
    "while True:\n",
    "    message=create_random_message(counter)\n",
    "    looptime=random.randint(1, 8)\n",
    "    counter=counter+1\n",
    "    print(\"++ message nr: \" + str(counter)+ \"+++++++++++++++++++++++++++++++++++++++++++\")\n",
    "    print(json.dumps(message))\n",
    "    print(\"+++++++++++++++++++++++++++++++++++++++++++++++++++++++++++++++++++++++++++++\")\n",
    "    #producer.send(KAFKA_TOPIC,key=message.get(\"Id\"),value=message)\n",
    "    producer.send(KAFKA_TOPIC,value=message)\n",
    "    time.sleep(looptime - ((time.time() - starttime) % looptime))\n",
    "    \n",
    "    "
   ]
  },
  {
   "cell_type": "markdown",
   "id": "39390dfa",
   "metadata": {},
   "source": [
    "## Tweet Stream Converter"
   ]
  },
  {
   "cell_type": "code",
   "execution_count": 24,
   "id": "18295653",
   "metadata": {},
   "outputs": [],
   "source": [
    "KAFKA_SOURCE_TOPIC = \"twitter-raw\"\n",
    "KAFKA_TARGET_TOPIC = \"twitter-table\"\n",
    "GROUP_ID=str(uuid.uuid1())\n",
    "\n",
    "# Initialize consumer variable\n",
    "consumer = KafkaConsumer (KAFKA_SOURCE_TOPIC, group_id =GROUP_ID,bootstrap_servers = KAFKA_SERVER, value_deserializer=lambda m: json.loads(m.decode('utf-8')))\n"
   ]
  },
  {
   "cell_type": "code",
   "execution_count": 35,
   "id": "3c77fa43",
   "metadata": {},
   "outputs": [
    {
     "name": "stdout",
     "output_type": "stream",
     "text": [
      "{'Id': '32572e12-c8ec-11ed-b911-4ab75a7cc0ea', 'Counter': '198', 'CreatedAt': 1679515230.0765338, 'Text': 'Saepe repellendus commodi facere non laborum iure labore illo ab corporis nulla, dolores amet sint ea?', 'User': {'ScreenName': 'Robert', 'Location': 'Brasil', 'FollowersCount': 2020, 'FriendsCount': 36419}, 'Lang': 'PT', 'HashtagEntities': ['cloud', 'iot', 'DataScience', 'Data', 'iot'], 'RetweetCount': 122}\n",
      "{'Id': '35ebb5f2-c8ec-11ed-b911-4ab75a7cc0ea', 'Counter': '199', 'CreatedAt': 1679515236.0831115, 'Text': 'Commodi fuga soluta tempora odio vel dolorem aliquid saepe sapiente neque, architecto esse debitis adipisci consequuntur qui quisquam voluptatum explicabo suscipit et voluptas, tempora est eius optio quos veritatis eligendi, ipsa quo soluta numquam consequatur eveniet atque quaerat?', 'User': {'ScreenName': 'Charles', 'Location': 'France', 'FollowersCount': 1229, 'FriendsCount': 1778}, 'Lang': 'FR', 'HashtagEntities': ['ML', 'machinelearning'], 'RetweetCount': 817}\n",
      "{'Id': '3ab1a47a-c8ec-11ed-b911-4ab75a7cc0ea', 'Counter': '200', 'CreatedAt': 1679515244.0911632, 'Text': 'Voluptatibus quaerat incidunt, vero voluptatem at fuga minus qui suscipit, nemo eaque consequatur laboriosam sequi quia illo est veniam non quo, perferendis magni veritatis quae, fuga id error ipsa eveniet maiores repellendus.', 'User': {'ScreenName': 'Betty', 'Location': 'Spain', 'FollowersCount': 3922, 'FriendsCount': 32952}, 'Lang': 'ES', 'HashtagEntities': ['ML', 'machinelearning', 'DataEngineering', 'DataEngineering'], 'RetweetCount': 283}\n",
      "{'Id': '3d147c7e-c8ec-11ed-b911-4ab75a7cc0ea', 'Counter': '201', 'CreatedAt': 1679515248.0943878, 'Text': 'Quidem reprehenderit dicta quas ipsum fugit repellendus ea in nam, maiores explicabo perferendis suscipit consequatur voluptatem.', 'User': {'ScreenName': 'Sara', 'Location': 'Germany', 'FollowersCount': 3523, 'FriendsCount': 23760}, 'Lang': 'DE', 'HashtagEntities': ['ML', 'ML', 'machinelearning', 'DataEngineering', 'analytics'], 'RetweetCount': 153}\n",
      "{'Id': '279a43ba-c8ec-11ed-b911-4ab75a7cc0ea', 'Counter': '194', 'CreatedAt': 1679515212.0612447, 'Text': 'Aperiam ducimus doloremque ipsam, repellat distinctio exercitationem non voluptates similique eos itaque fugiat dicta deleniti quia, in possimus doloremque, quis recusandae mollitia doloremque natus impedit expedita dicta distinctio, asperiores eos amet totam culpa?', 'User': {'ScreenName': 'Doris', 'Location': 'France', 'FollowersCount': 2815, 'FriendsCount': 15671}, 'Lang': 'FR', 'HashtagEntities': ['ML', 'machinelearning', 'AI', 'AI'], 'RetweetCount': 493}\n",
      "{'Id': '2e2a4ce8-c8ec-11ed-b911-4ab75a7cc0ea', 'Counter': '196', 'CreatedAt': 1679515223.071527, 'Text': 'Numquam exercitationem recusandae natus porro iste totam, necessitatibus cumque repellendus quaerat officiis placeat sequi?', 'User': {'ScreenName': 'Melanie', 'Location': 'Spain', 'FollowersCount': 3467, 'FriendsCount': 16998}, 'Lang': 'ES', 'HashtagEntities': ['cloud'], 'RetweetCount': 919}\n",
      "{'Id': '4141a4ca-c8ec-11ed-b911-4ab75a7cc0ea', 'Counter': '202', 'CreatedAt': 1679515255.101217, 'Text': 'Dolorem itaque delectus reiciendis accusamus architecto quia, ipsam quae tempore corporis.', 'User': {'ScreenName': 'Terry', 'Location': 'Brasil', 'FollowersCount': 2261, 'FriendsCount': 1394}, 'Lang': 'PT', 'HashtagEntities': ['DataEngineering', 'analytics', 'DataScience', 'Data'], 'RetweetCount': 653}\n",
      "{'Id': '47d1f2c2-c8ec-11ed-b911-4ab75a7cc0ea', 'Counter': '204', 'CreatedAt': 1679515266.1132638, 'Text': 'Explicabo in dolorum est soluta vel consequuntur tempora, architecto voluptas quis perspiciatis quibusdam, iusto unde provident atque?', 'User': {'ScreenName': 'Debbie', 'Location': 'Brasil', 'FollowersCount': 1606, 'FriendsCount': 10190}, 'Lang': 'PT', 'HashtagEntities': ['analytics', 'iot'], 'RetweetCount': 380}\n",
      "{'Id': '4e61e98a-c8ec-11ed-b911-4ab75a7cc0ea', 'Counter': '206', 'CreatedAt': 1679515277.1230767, 'Text': 'Recusandae aspernatur repellat dolores, facere rem ullam, atque modi maiores porro qui corrupti perspiciatis eum dolorem.', 'User': {'ScreenName': 'Essie', 'Location': 'Germany', 'FollowersCount': 3491, 'FriendsCount': 21563}, 'Lang': 'DE', 'HashtagEntities': ['DataScience', 'machinelearning', 'Data', 'AI'], 'RetweetCount': 375}\n",
      "{'Id': '54594252-c8ec-11ed-b911-4ab75a7cc0ea', 'Counter': '208', 'CreatedAt': 1679515287.1327007, 'Text': 'Alias possimus corrupti minus voluptas, veniam vero impedit quisquam voluptate voluptatum esse, magnam tempore optio molestiae dicta temporibus aspernatur minus corporis quasi, molestiae blanditiis dolorem?', 'User': {'ScreenName': 'Colby', 'Location': 'Brasil', 'FollowersCount': 826, 'FriendsCount': 41200}, 'Lang': 'PT', 'HashtagEntities': ['analytics'], 'RetweetCount': 772}\n",
      "{'Id': '57ed51f6-c8ec-11ed-b911-4ab75a7cc0ea', 'Counter': '209', 'CreatedAt': 1679515293.1362047, 'Text': 'Explicabo alias commodi eaque cum placeat, soluta accusamus cupiditate quisquam expedita, dolorem deserunt eveniet ea molestiae dolores culpa impedit dolore quibusdam velit?', 'User': {'ScreenName': 'Ian', 'Location': 'United Kingdom', 'FollowersCount': 1292, 'FriendsCount': 6523}, 'Lang': 'EN', 'HashtagEntities': ['ML'], 'RetweetCount': 26}\n",
      "{'Id': '5a50e5d4-c8ec-11ed-b911-4ab75a7cc0ea', 'Counter': '211', 'CreatedAt': 1679515297.1442163, 'Text': 'Debitis rem quia numquam inventore nam voluptatem dignissimos aut iusto, corrupti dolore modi facere sequi vel accusamus similique numquam ratione, odio temporibus laboriosam est quaerat tenetur rem sed id similique corrupti, quod sint in quis cupiditate a laudantium atque temporibus ipsam magnam, officiis velit voluptatibus quibusdam error explicabo?', 'User': {'ScreenName': 'Mee', 'Location': 'USA', 'FollowersCount': 4746, 'FriendsCount': 21536}, 'Lang': 'EN', 'HashtagEntities': ['ML', 'machinelearning', 'cloud', 'analytics', 'analytics'], 'RetweetCount': 757}\n",
      "{'Id': '5f164b04-c8ec-11ed-b911-4ab75a7cc0ea', 'Counter': '212', 'CreatedAt': 1679515305.1488612, 'Text': 'Debitis soluta dolorem, impedit corrupti tenetur, assumenda vel veniam vero.', 'User': {'ScreenName': 'Ethel', 'Location': 'Brasil', 'FollowersCount': 1674, 'FriendsCount': 6078}, 'Lang': 'PT', 'HashtagEntities': ['machinelearning', 'iot'], 'RetweetCount': 320}\n",
      "{'Id': '62aaccc2-c8ec-11ed-b911-4ab75a7cc0ea', 'Counter': '213', 'CreatedAt': 1679515311.155183, 'Text': 'Praesentium officiis voluptate suscipit unde sit quisquam, unde inventore magni?', 'User': {'ScreenName': 'Mary', 'Location': 'Germany', 'FollowersCount': 938, 'FriendsCount': 44079}, 'Lang': 'DE', 'HashtagEntities': ['AI', 'Data'], 'RetweetCount': 924}\n",
      "{'Id': '782511de-c8ec-11ed-b911-4ab75a7cc0ea', 'Counter': '221', 'CreatedAt': 1679515347.1886525, 'Text': 'Nemo dolor nulla necessitatibus officia fuga distinctio maiores debitis perspiciatis assumenda dolorem, quia numquam sunt fugit ipsum commodi, aliquid error nihil quae labore molestias dolore praesentium accusantium.', 'User': {'ScreenName': 'Rowena', 'Location': 'Germany', 'FollowersCount': 4834, 'FriendsCount': 49145}, 'Lang': 'DE', 'HashtagEntities': ['machinelearning', 'machinelearning', 'analytics'], 'RetweetCount': 126}\n",
      "{'Id': '43a4e66e-c8ec-11ed-b911-4ab75a7cc0ea', 'Counter': '203', 'CreatedAt': 1679515259.1071508, 'Text': 'Sapiente alias aliquid architecto ex recusandae cupiditate consequatur soluta quis, ducimus obcaecati cumque perferendis iusto consequatur dicta quaerat eveniet unde dolores, sequi voluptates distinctio nobis veniam.', 'User': {'ScreenName': 'Robert', 'Location': 'Brasil', 'FollowersCount': 2020, 'FriendsCount': 36419}, 'Lang': 'PT', 'HashtagEntities': ['cloud', 'cloud', 'DataScience'], 'RetweetCount': 412}\n",
      "{'Id': '4b6671a6-c8ec-11ed-b911-4ab75a7cc0ea', 'Counter': '205', 'CreatedAt': 1679515272.1196, 'Text': 'Voluptatibus non animi iure, perferendis ab adipisci quo delectus, commodi dicta sint delectus iusto eum aperiam ea placeat dolores?', 'User': {'ScreenName': 'Melanie', 'Location': 'Spain', 'FollowersCount': 3467, 'FriendsCount': 16998}, 'Lang': 'ES', 'HashtagEntities': ['ML', 'DataScience', 'analytics'], 'RetweetCount': 178}\n",
      "{'Id': '4f937f94-c8ec-11ed-b911-4ab75a7cc0ea', 'Counter': '207', 'CreatedAt': 1679515279.125774, 'Text': 'Repellendus ducimus nulla at recusandae adipisci fugit accusamus eius, consequuntur at ipsam ab dolore aliquid iure rem, aperiam molestias iure expedita, tenetur nihil doloribus sunt suscipit laborum eos deserunt iure sequi dolorum.', 'User': {'ScreenName': 'Lester', 'Location': 'India', 'FollowersCount': 4438, 'FriendsCount': 30148}, 'Lang': 'EN', 'HashtagEntities': ['cloud'], 'RetweetCount': 526}\n",
      "{'Id': '5886e6b8-c8ec-11ed-b911-4ab75a7cc0ea', 'Counter': '210', 'CreatedAt': 1679515294.1427078, 'Text': 'Quod et quibusdam obcaecati labore, dolorum maiores totam repellendus distinctio nostrum similique aperiam qui nemo illo rerum, magni sint voluptate exercitationem mollitia.', 'User': {'ScreenName': 'Michael', 'Location': 'United Kingdom', 'FollowersCount': 4018, 'FriendsCount': 18045}, 'Lang': 'EN', 'HashtagEntities': ['dataanlytics', 'cloud', 'cloud', 'DataScience', 'iot'], 'RetweetCount': 56}\n",
      "{'Id': '663f516e-c8ec-11ed-b911-4ab75a7cc0ea', 'Counter': '214', 'CreatedAt': 1679515317.161677, 'Text': 'Quas doloribus modi ut odit, praesentium autem repellendus dicta quod natus harum dolore dolorem laboriosam placeat.', 'User': {'ScreenName': 'Kellie', 'Location': 'India', 'FollowersCount': 1354, 'FriendsCount': 1853}, 'Lang': 'EN', 'HashtagEntities': ['iot', 'ML'], 'RetweetCount': 997}\n",
      "{'Id': '693b1664-c8ec-11ed-b911-4ab75a7cc0ea', 'Counter': '215', 'CreatedAt': 1679515322.1671166, 'Text': 'Beatae perspiciatis ullam quidem ab delectus, possimus minima rem doloribus consequuntur, asperiores natus totam provident architecto iste unde explicabo mollitia, illum accusantium debitis qui?', 'User': {'ScreenName': 'Sara', 'Location': 'Germany', 'FollowersCount': 3523, 'FriendsCount': 23760}, 'Lang': 'DE', 'HashtagEntities': ['ML', 'DataScience', 'analytics', 'ML'], 'RetweetCount': 712}\n",
      "{'Id': '6ccf835a-c8ec-11ed-b911-4ab75a7cc0ea', 'Counter': '216', 'CreatedAt': 1679515328.173026, 'Text': 'Cum veniam iusto, nemo consequatur vitae, veritatis quia alias soluta consequuntur rerum impedit consectetur.', 'User': {'ScreenName': 'Colby', 'Location': 'Brasil', 'FollowersCount': 826, 'FriendsCount': 41200}, 'Lang': 'PT', 'HashtagEntities': ['cloud', 'iot'], 'RetweetCount': 317}\n",
      "{'Id': '6f32330e-c8ec-11ed-b911-4ab75a7cc0ea', 'Counter': '217', 'CreatedAt': 1679515332.1752236, 'Text': 'Beatae harum voluptatum deserunt iure quidem ratione quos alias maxime quis assumenda, molestias facilis dolorum consequuntur reprehenderit tempore quidem recusandae exercitationem, laboriosam porro aliquam praesentium saepe placeat repellendus explicabo nulla eos, officia tenetur ea at excepturi vero totam.', 'User': {'ScreenName': 'Wayne', 'Location': 'France', 'FollowersCount': 1363, 'FriendsCount': 23080}, 'Lang': 'FR', 'HashtagEntities': ['AI', 'DataScience'], 'RetweetCount': 532}\n",
      "{'Id': '73f7fbb2-c8ec-11ed-b911-4ab75a7cc0ea', 'Counter': '218', 'CreatedAt': 1679515340.1822808, 'Text': 'Quisquam eaque eius omnis pariatur asperiores nam laboriosam placeat quod, repellendus quidem est doloremque voluptas tempore dolores hic unde eius praesentium iste, perspiciatis ducimus cum pariatur tempore ratione exercitationem hic placeat, inventore nisi reiciendis dignissimos eum rerum velit optio consequatur.', 'User': {'ScreenName': 'Cami', 'Location': 'USA', 'FollowersCount': 4560, 'FriendsCount': 28430}, 'Lang': 'EN', 'HashtagEntities': ['Data', 'iot', 'analytics', 'AI', 'machinelearning'], 'RetweetCount': 211}\n",
      "{'Id': '75c2532a-c8ec-11ed-b911-4ab75a7cc0ea', 'Counter': '219', 'CreatedAt': 1679515343.1860797, 'Text': 'Non ea iure dignissimos fuga, nobis et harum fuga in facilis voluptatum ducimus optio, ducimus quis nihil aliquid pariatur consectetur qui?', 'User': {'ScreenName': 'Essie', 'Location': 'Germany', 'FollowersCount': 3491, 'FriendsCount': 21563}, 'Lang': 'DE', 'HashtagEntities': ['machinelearning', 'iot', 'cloud', 'iot', 'dataanlytics'], 'RetweetCount': 421}\n",
      "{'Id': '76f3a94c-c8ec-11ed-b911-4ab75a7cc0ea', 'Counter': '220', 'CreatedAt': 1679515345.1871226, 'Text': 'Quos nemo perferendis iste officiis quaerat ullam laborum eligendi, iure praesentium doloribus tempore dolorum exercitationem quaerat minus cum repudiandae asperiores animi?', 'User': {'ScreenName': 'Colby', 'Location': 'Brasil', 'FollowersCount': 826, 'FriendsCount': 41200}, 'Lang': 'PT', 'HashtagEntities': ['dataanlytics'], 'RetweetCount': 468}\n"
     ]
    },
    {
     "ename": "KeyboardInterrupt",
     "evalue": "",
     "output_type": "error",
     "traceback": [
      "\u001b[0;31m---------------------------------------------------------------------------\u001b[0m",
      "\u001b[0;31mKeyboardInterrupt\u001b[0m                         Traceback (most recent call last)",
      "Cell \u001b[0;32mIn[35], line 1\u001b[0m\n\u001b[0;32m----> 1\u001b[0m \u001b[38;5;28;01mfor\u001b[39;00m message \u001b[38;5;129;01min\u001b[39;00m consumer:\n\u001b[1;32m      2\u001b[0m     \u001b[38;5;28mprint\u001b[39m(message\u001b[38;5;241m.\u001b[39mvalue)\n",
      "File \u001b[0;32m/usr/local/lib/python3.9/dist-packages/kafka/consumer/group.py:1193\u001b[0m, in \u001b[0;36mKafkaConsumer.__next__\u001b[0;34m(self)\u001b[0m\n\u001b[1;32m   1191\u001b[0m     \u001b[38;5;28;01mreturn\u001b[39;00m \u001b[38;5;28mself\u001b[39m\u001b[38;5;241m.\u001b[39mnext_v1()\n\u001b[1;32m   1192\u001b[0m \u001b[38;5;28;01melse\u001b[39;00m:\n\u001b[0;32m-> 1193\u001b[0m     \u001b[38;5;28;01mreturn\u001b[39;00m \u001b[38;5;28;43mself\u001b[39;49m\u001b[38;5;241;43m.\u001b[39;49m\u001b[43mnext_v2\u001b[49m\u001b[43m(\u001b[49m\u001b[43m)\u001b[49m\n",
      "File \u001b[0;32m/usr/local/lib/python3.9/dist-packages/kafka/consumer/group.py:1201\u001b[0m, in \u001b[0;36mKafkaConsumer.next_v2\u001b[0;34m(self)\u001b[0m\n\u001b[1;32m   1199\u001b[0m     \u001b[38;5;28mself\u001b[39m\u001b[38;5;241m.\u001b[39m_iterator \u001b[38;5;241m=\u001b[39m \u001b[38;5;28mself\u001b[39m\u001b[38;5;241m.\u001b[39m_message_generator_v2()\n\u001b[1;32m   1200\u001b[0m \u001b[38;5;28;01mtry\u001b[39;00m:\n\u001b[0;32m-> 1201\u001b[0m     \u001b[38;5;28;01mreturn\u001b[39;00m \u001b[38;5;28;43mnext\u001b[39;49m\u001b[43m(\u001b[49m\u001b[38;5;28;43mself\u001b[39;49m\u001b[38;5;241;43m.\u001b[39;49m\u001b[43m_iterator\u001b[49m\u001b[43m)\u001b[49m\n\u001b[1;32m   1202\u001b[0m \u001b[38;5;28;01mexcept\u001b[39;00m \u001b[38;5;167;01mStopIteration\u001b[39;00m:\n\u001b[1;32m   1203\u001b[0m     \u001b[38;5;28mself\u001b[39m\u001b[38;5;241m.\u001b[39m_iterator \u001b[38;5;241m=\u001b[39m \u001b[38;5;28;01mNone\u001b[39;00m\n",
      "File \u001b[0;32m/usr/local/lib/python3.9/dist-packages/kafka/consumer/group.py:1116\u001b[0m, in \u001b[0;36mKafkaConsumer._message_generator_v2\u001b[0;34m(self)\u001b[0m\n\u001b[1;32m   1114\u001b[0m \u001b[38;5;28;01mdef\u001b[39;00m \u001b[38;5;21m_message_generator_v2\u001b[39m(\u001b[38;5;28mself\u001b[39m):\n\u001b[1;32m   1115\u001b[0m     timeout_ms \u001b[38;5;241m=\u001b[39m \u001b[38;5;241m1000\u001b[39m \u001b[38;5;241m*\u001b[39m (\u001b[38;5;28mself\u001b[39m\u001b[38;5;241m.\u001b[39m_consumer_timeout \u001b[38;5;241m-\u001b[39m time\u001b[38;5;241m.\u001b[39mtime())\n\u001b[0;32m-> 1116\u001b[0m     record_map \u001b[38;5;241m=\u001b[39m \u001b[38;5;28;43mself\u001b[39;49m\u001b[38;5;241;43m.\u001b[39;49m\u001b[43mpoll\u001b[49m\u001b[43m(\u001b[49m\u001b[43mtimeout_ms\u001b[49m\u001b[38;5;241;43m=\u001b[39;49m\u001b[43mtimeout_ms\u001b[49m\u001b[43m,\u001b[49m\u001b[43m \u001b[49m\u001b[43mupdate_offsets\u001b[49m\u001b[38;5;241;43m=\u001b[39;49m\u001b[38;5;28;43;01mFalse\u001b[39;49;00m\u001b[43m)\u001b[49m\n\u001b[1;32m   1117\u001b[0m     \u001b[38;5;28;01mfor\u001b[39;00m tp, records \u001b[38;5;129;01min\u001b[39;00m six\u001b[38;5;241m.\u001b[39miteritems(record_map):\n\u001b[1;32m   1118\u001b[0m         \u001b[38;5;66;03m# Generators are stateful, and it is possible that the tp / records\u001b[39;00m\n\u001b[1;32m   1119\u001b[0m         \u001b[38;5;66;03m# here may become stale during iteration -- i.e., we seek to a\u001b[39;00m\n\u001b[1;32m   1120\u001b[0m         \u001b[38;5;66;03m# different offset, pause consumption, or lose assignment.\u001b[39;00m\n\u001b[1;32m   1121\u001b[0m         \u001b[38;5;28;01mfor\u001b[39;00m record \u001b[38;5;129;01min\u001b[39;00m records:\n\u001b[1;32m   1122\u001b[0m             \u001b[38;5;66;03m# is_fetchable(tp) should handle assignment changes and offset\u001b[39;00m\n\u001b[1;32m   1123\u001b[0m             \u001b[38;5;66;03m# resets; for all other changes (e.g., seeks) we'll rely on the\u001b[39;00m\n\u001b[1;32m   1124\u001b[0m             \u001b[38;5;66;03m# outer function destroying the existing iterator/generator\u001b[39;00m\n\u001b[1;32m   1125\u001b[0m             \u001b[38;5;66;03m# via self._iterator = None\u001b[39;00m\n",
      "File \u001b[0;32m/usr/local/lib/python3.9/dist-packages/kafka/consumer/group.py:655\u001b[0m, in \u001b[0;36mKafkaConsumer.poll\u001b[0;34m(self, timeout_ms, max_records, update_offsets)\u001b[0m\n\u001b[1;32m    653\u001b[0m remaining \u001b[38;5;241m=\u001b[39m timeout_ms\n\u001b[1;32m    654\u001b[0m \u001b[38;5;28;01mwhile\u001b[39;00m \u001b[38;5;28;01mTrue\u001b[39;00m:\n\u001b[0;32m--> 655\u001b[0m     records \u001b[38;5;241m=\u001b[39m \u001b[38;5;28;43mself\u001b[39;49m\u001b[38;5;241;43m.\u001b[39;49m\u001b[43m_poll_once\u001b[49m\u001b[43m(\u001b[49m\u001b[43mremaining\u001b[49m\u001b[43m,\u001b[49m\u001b[43m \u001b[49m\u001b[43mmax_records\u001b[49m\u001b[43m,\u001b[49m\u001b[43m \u001b[49m\u001b[43mupdate_offsets\u001b[49m\u001b[38;5;241;43m=\u001b[39;49m\u001b[43mupdate_offsets\u001b[49m\u001b[43m)\u001b[49m\n\u001b[1;32m    656\u001b[0m     \u001b[38;5;28;01mif\u001b[39;00m records:\n\u001b[1;32m    657\u001b[0m         \u001b[38;5;28;01mreturn\u001b[39;00m records\n",
      "File \u001b[0;32m/usr/local/lib/python3.9/dist-packages/kafka/consumer/group.py:702\u001b[0m, in \u001b[0;36mKafkaConsumer._poll_once\u001b[0;34m(self, timeout_ms, max_records, update_offsets)\u001b[0m\n\u001b[1;32m    699\u001b[0m     \u001b[38;5;28mself\u001b[39m\u001b[38;5;241m.\u001b[39m_client\u001b[38;5;241m.\u001b[39mpoll(timeout_ms\u001b[38;5;241m=\u001b[39m\u001b[38;5;241m0\u001b[39m)\n\u001b[1;32m    701\u001b[0m timeout_ms \u001b[38;5;241m=\u001b[39m \u001b[38;5;28mmin\u001b[39m(timeout_ms, \u001b[38;5;28mself\u001b[39m\u001b[38;5;241m.\u001b[39m_coordinator\u001b[38;5;241m.\u001b[39mtime_to_next_poll() \u001b[38;5;241m*\u001b[39m \u001b[38;5;241m1000\u001b[39m)\n\u001b[0;32m--> 702\u001b[0m \u001b[38;5;28;43mself\u001b[39;49m\u001b[38;5;241;43m.\u001b[39;49m\u001b[43m_client\u001b[49m\u001b[38;5;241;43m.\u001b[39;49m\u001b[43mpoll\u001b[49m\u001b[43m(\u001b[49m\u001b[43mtimeout_ms\u001b[49m\u001b[38;5;241;43m=\u001b[39;49m\u001b[43mtimeout_ms\u001b[49m\u001b[43m)\u001b[49m\n\u001b[1;32m    703\u001b[0m \u001b[38;5;66;03m# after the long poll, we should check whether the group needs to rebalance\u001b[39;00m\n\u001b[1;32m    704\u001b[0m \u001b[38;5;66;03m# prior to returning data so that the group can stabilize faster\u001b[39;00m\n\u001b[1;32m    705\u001b[0m \u001b[38;5;28;01mif\u001b[39;00m \u001b[38;5;28mself\u001b[39m\u001b[38;5;241m.\u001b[39m_coordinator\u001b[38;5;241m.\u001b[39mneed_rejoin():\n",
      "File \u001b[0;32m/usr/local/lib/python3.9/dist-packages/kafka/client_async.py:602\u001b[0m, in \u001b[0;36mKafkaClient.poll\u001b[0;34m(self, timeout_ms, future)\u001b[0m\n\u001b[1;32m    599\u001b[0m             timeout \u001b[38;5;241m=\u001b[39m \u001b[38;5;28mmin\u001b[39m(timeout, \u001b[38;5;28mself\u001b[39m\u001b[38;5;241m.\u001b[39mconfig[\u001b[38;5;124m'\u001b[39m\u001b[38;5;124mretry_backoff_ms\u001b[39m\u001b[38;5;124m'\u001b[39m])\n\u001b[1;32m    600\u001b[0m         timeout \u001b[38;5;241m=\u001b[39m \u001b[38;5;28mmax\u001b[39m(\u001b[38;5;241m0\u001b[39m, timeout)  \u001b[38;5;66;03m# avoid negative timeouts\u001b[39;00m\n\u001b[0;32m--> 602\u001b[0m     \u001b[38;5;28;43mself\u001b[39;49m\u001b[38;5;241;43m.\u001b[39;49m\u001b[43m_poll\u001b[49m\u001b[43m(\u001b[49m\u001b[43mtimeout\u001b[49m\u001b[43m \u001b[49m\u001b[38;5;241;43m/\u001b[39;49m\u001b[43m \u001b[49m\u001b[38;5;241;43m1000\u001b[39;49m\u001b[43m)\u001b[49m\n\u001b[1;32m    604\u001b[0m \u001b[38;5;66;03m# called without the lock to avoid deadlock potential\u001b[39;00m\n\u001b[1;32m    605\u001b[0m \u001b[38;5;66;03m# if handlers need to acquire locks\u001b[39;00m\n\u001b[1;32m    606\u001b[0m responses\u001b[38;5;241m.\u001b[39mextend(\u001b[38;5;28mself\u001b[39m\u001b[38;5;241m.\u001b[39m_fire_pending_completed_requests())\n",
      "File \u001b[0;32m/usr/local/lib/python3.9/dist-packages/kafka/client_async.py:634\u001b[0m, in \u001b[0;36mKafkaClient._poll\u001b[0;34m(self, timeout)\u001b[0m\n\u001b[1;32m    631\u001b[0m \u001b[38;5;28mself\u001b[39m\u001b[38;5;241m.\u001b[39m_register_send_sockets()\n\u001b[1;32m    633\u001b[0m start_select \u001b[38;5;241m=\u001b[39m time\u001b[38;5;241m.\u001b[39mtime()\n\u001b[0;32m--> 634\u001b[0m ready \u001b[38;5;241m=\u001b[39m \u001b[38;5;28;43mself\u001b[39;49m\u001b[38;5;241;43m.\u001b[39;49m\u001b[43m_selector\u001b[49m\u001b[38;5;241;43m.\u001b[39;49m\u001b[43mselect\u001b[49m\u001b[43m(\u001b[49m\u001b[43mtimeout\u001b[49m\u001b[43m)\u001b[49m\n\u001b[1;32m    635\u001b[0m end_select \u001b[38;5;241m=\u001b[39m time\u001b[38;5;241m.\u001b[39mtime()\n\u001b[1;32m    636\u001b[0m \u001b[38;5;28;01mif\u001b[39;00m \u001b[38;5;28mself\u001b[39m\u001b[38;5;241m.\u001b[39m_sensors:\n",
      "File \u001b[0;32m/usr/lib/python3.9/selectors.py:469\u001b[0m, in \u001b[0;36mEpollSelector.select\u001b[0;34m(self, timeout)\u001b[0m\n\u001b[1;32m    467\u001b[0m ready \u001b[38;5;241m=\u001b[39m []\n\u001b[1;32m    468\u001b[0m \u001b[38;5;28;01mtry\u001b[39;00m:\n\u001b[0;32m--> 469\u001b[0m     fd_event_list \u001b[38;5;241m=\u001b[39m \u001b[38;5;28;43mself\u001b[39;49m\u001b[38;5;241;43m.\u001b[39;49m\u001b[43m_selector\u001b[49m\u001b[38;5;241;43m.\u001b[39;49m\u001b[43mpoll\u001b[49m\u001b[43m(\u001b[49m\u001b[43mtimeout\u001b[49m\u001b[43m,\u001b[49m\u001b[43m \u001b[49m\u001b[43mmax_ev\u001b[49m\u001b[43m)\u001b[49m\n\u001b[1;32m    470\u001b[0m \u001b[38;5;28;01mexcept\u001b[39;00m \u001b[38;5;167;01mInterruptedError\u001b[39;00m:\n\u001b[1;32m    471\u001b[0m     \u001b[38;5;28;01mreturn\u001b[39;00m ready\n",
      "\u001b[0;31mKeyboardInterrupt\u001b[0m: "
     ]
    }
   ],
   "source": [
    "for message in consumer:\n",
    "    print(message.value)"
   ]
  },
  {
   "cell_type": "code",
   "execution_count": 36,
   "id": "86d1be06",
   "metadata": {},
   "outputs": [
    {
     "name": "stdout",
     "output_type": "stream",
     "text": [
      "##########################################################\n",
      "+++ starting stream conversion...\n",
      "++ total: 1+++++++++++++++++++++++++++++++++++++++++++\n",
      "{\"tweet_id\": \"7a8a1082-c8ec-11ed-b911-4ab75a7cc0ea\", \"created_at\": \"1970-01-20 10:31:55\", \"tweet_message\": \"At suscipit iure, explicabo commodi recusandae exercitationem molestiae doloribus est nesciunt tenetur nulla porro, in modi odio, quas illum vero reprehenderit similique in, officia commodi quos deserunt blanditiis aut repellendus quam?\", \"user_name\": \"Leah\", \"user_location\": \"Germany\", \"user_follower_count\": 2408, \"user_friends_count\": 41788, \"retweet_count\": 26, \"language\": \"DE\", \"hashtags\": [\"ML\", \"dataanlytics\"]}\n",
      "++ total: 2+++++++++++++++++++++++++++++++++++++++++++\n",
      "{\"tweet_id\": \"7ced3764-c8ec-11ed-b911-4ab75a7cc0ea\", \"created_at\": \"1970-01-20 10:31:55\", \"tweet_message\": \"Laudantium cumque rerum adipisci ullam quisquam tempora culpa harum libero nobis, amet odit et eligendi nostrum doloremque possimus deleniti mollitia quod unde, animi omnis magnam harum assumenda cumque possimus voluptate voluptatem natus?\", \"user_name\": \"Anthony\", \"user_location\": \"USA\", \"user_follower_count\": 4617, \"user_friends_count\": 33964, \"retweet_count\": 220, \"language\": \"EN\", \"hashtags\": [\"dataanlytics\", \"DataScience\", \"DataEngineering\", \"analytics\"]}\n",
      "++ total: 3+++++++++++++++++++++++++++++++++++++++++++\n",
      "{\"tweet_id\": \"837d2ee0-c8ec-11ed-b911-4ab75a7cc0ea\", \"created_at\": \"1970-01-20 10:31:55\", \"tweet_message\": \"Nostrum cumque velit culpa magnam, sequi amet omnis, in ea aliquid porro quam autem voluptatem minus?\", \"user_name\": \"Gena\", \"user_location\": \"France\", \"user_follower_count\": 3047, \"user_friends_count\": 27250, \"retweet_count\": 365, \"language\": \"FR\", \"hashtags\": [\"iot\"]}\n",
      "++ total: 4+++++++++++++++++++++++++++++++++++++++++++\n",
      "{\"tweet_id\": \"8711a5fe-c8ec-11ed-b911-4ab75a7cc0ea\", \"created_at\": \"1970-01-20 10:31:55\", \"tweet_message\": \"Quos unde pariatur neque architecto repudiandae ullam dolores expedita esse quam, blanditiis quas ratione quis numquam aliquam nam eaque in velit, laboriosam doloremque dicta, quos pariatur explicabo tenetur ad itaque error saepe veritatis quisquam ipsam?\", \"user_name\": \"Daisy\", \"user_location\": \"Spain\", \"user_follower_count\": 377, \"user_friends_count\": 30793, \"retweet_count\": 838, \"language\": \"ES\", \"hashtags\": [\"dataanlytics\", \"Data\", \"ML\", \"DataScience\", \"ML\"]}\n",
      "++ total: 5+++++++++++++++++++++++++++++++++++++++++++\n",
      "{\"tweet_id\": \"8f6c4e2a-c8ec-11ed-b911-4ab75a7cc0ea\", \"created_at\": \"1970-01-20 10:31:55\", \"tweet_message\": \"Blanditiis aliquid laborum optio dolorum quaerat, cupiditate natus sed sapiente odit consequatur est nostrum sit cum tempora.\", \"user_name\": \"Lana\", \"user_location\": \"India\", \"user_follower_count\": 517, \"user_friends_count\": 29478, \"retweet_count\": 866, \"language\": \"EN\", \"hashtags\": [\"machinelearning\", \"DataScience\", \"DataScience\", \"analytics\"]}\n",
      "++ total: 6+++++++++++++++++++++++++++++++++++++++++++\n",
      "{\"tweet_id\": \"7fe8c32a-c8ec-11ed-b911-4ab75a7cc0ea\", \"created_at\": \"1970-01-20 10:31:55\", \"tweet_message\": \"Omnis laborum deleniti quasi quisquam quo aliquam, eaque eos distinctio id perspiciatis sapiente fugiat cupiditate deleniti?\", \"user_name\": \"Juan\", \"user_location\": \"United Kingdom\", \"user_follower_count\": 3060, \"user_friends_count\": 31549, \"retweet_count\": 263, \"language\": \"EN\", \"hashtags\": [\"machinelearning\", \"iot\", \"iot\"]}\n",
      "++ total: 7+++++++++++++++++++++++++++++++++++++++++++\n",
      "{\"tweet_id\": \"80819992-c8ec-11ed-b911-4ab75a7cc0ea\", \"created_at\": \"1970-01-20 10:31:55\", \"tweet_message\": \"Molestias eligendi ullam quam nihil quas voluptatem aspernatur, beatae quidem et a aperiam suscipit nihil quae deserunt minus iste, perspiciatis aliquam illum architecto iste ipsum in iure corporis.\", \"user_name\": \"Jennifer\", \"user_location\": \"Brasil\", \"user_follower_count\": 2927, \"user_friends_count\": 39555, \"retweet_count\": 709, \"language\": \"PT\", \"hashtags\": [\"DataEngineering\", \"Data\", \"ML\", \"DataScience\", \"cloud\"]}\n",
      "++ total: 8+++++++++++++++++++++++++++++++++++++++++++\n",
      "{\"tweet_id\": \"8bd7bab0-c8ec-11ed-b911-4ab75a7cc0ea\", \"created_at\": \"1970-01-20 10:31:55\", \"tweet_message\": \"Corporis blanditiis sit molestiae aut enim, necessitatibus ex dolores eos voluptatum minima, minima iste quas facere odio perferendis delectus nesciunt maiores doloribus nulla omnis, at aliquam perspiciatis repellendus quisquam dolore saepe velit?\", \"user_name\": \"Robert\", \"user_location\": \"Brasil\", \"user_follower_count\": 2020, \"user_friends_count\": 36419, \"retweet_count\": 221, \"language\": \"PT\", \"hashtags\": [\"DataEngineering\", \"DataEngineering\", \"AI\", \"dataanlytics\", \"Data\"]}\n",
      "++ total: 9+++++++++++++++++++++++++++++++++++++++++++\n",
      "{\"tweet_id\": \"926802b8-c8ec-11ed-b911-4ab75a7cc0ea\", \"created_at\": \"1970-01-20 10:31:55\", \"tweet_message\": \"Quae earum quidem maxime consequatur temporibus amet in ipsum numquam, odio ipsum quis, molestias reiciendis facere molestiae dolorum quibusdam nobis, repellat dolorem sed delectus quod eaque quam, dignissimos doloribus asperiores animi saepe perspiciatis dolore aliquid doloremque?\", \"user_name\": \"Terry\", \"user_location\": \"Brasil\", \"user_follower_count\": 2261, \"user_friends_count\": 1394, \"retweet_count\": 81, \"language\": \"PT\", \"hashtags\": [\"dataanlytics\", \"iot\", \"machinelearning\", \"dataanlytics\"]}\n",
      "++ total: 10+++++++++++++++++++++++++++++++++++++++++++\n",
      "{\"tweet_id\": \"94cb0b04-c8ec-11ed-b911-4ab75a7cc0ea\", \"created_at\": \"1970-01-20 10:31:55\", \"tweet_message\": \"Consequuntur quam excepturi laudantium dolor obcaecati id debitis minus accusamus ab aut, neque nobis accusantium magni hic numquam quasi asperiores fugiat sapiente, beatae amet rerum similique a nostrum enim nam, explicabo quos adipisci ipsam accusamus iste?\", \"user_name\": \"Kellie\", \"user_location\": \"India\", \"user_follower_count\": 1354, \"user_friends_count\": 1853, \"retweet_count\": 545, \"language\": \"EN\", \"hashtags\": [\"ML\", \"ML\", \"cloud\", \"DataEngineering\"]}\n",
      "++ total: 11+++++++++++++++++++++++++++++++++++++++++++\n",
      "{\"tweet_id\": \"97c6602e-c8ec-11ed-b911-4ab75a7cc0ea\", \"created_at\": \"1970-01-20 10:31:55\", \"tweet_message\": \"Quas eaque quaerat a laboriosam, optio aspernatur unde sapiente possimus ullam ratione, omnis magnam illum architecto ratione id ullam voluptas temporibus nihil suscipit, harum molestias qui est rerum alias consequatur sapiente autem, labore nisi consequatur?\", \"user_name\": \"Terry\", \"user_location\": \"Brasil\", \"user_follower_count\": 2261, \"user_friends_count\": 1394, \"retweet_count\": 753, \"language\": \"PT\", \"hashtags\": [\"AI\"]}\n"
     ]
    },
    {
     "ename": "KeyboardInterrupt",
     "evalue": "",
     "output_type": "error",
     "traceback": [
      "\u001b[0;31m---------------------------------------------------------------------------\u001b[0m",
      "\u001b[0;31mKeyboardInterrupt\u001b[0m                         Traceback (most recent call last)",
      "Cell \u001b[0;32mIn[36], line 4\u001b[0m\n\u001b[1;32m      2\u001b[0m \u001b[38;5;28mprint\u001b[39m(\u001b[38;5;124m\"\u001b[39m\u001b[38;5;124m+++ starting stream conversion...\u001b[39m\u001b[38;5;124m\"\u001b[39m)\n\u001b[1;32m      3\u001b[0m counter\u001b[38;5;241m=\u001b[39m\u001b[38;5;241m0\u001b[39m\n\u001b[0;32m----> 4\u001b[0m \u001b[38;5;28;01mfor\u001b[39;00m message \u001b[38;5;129;01min\u001b[39;00m consumer:\n\u001b[1;32m      5\u001b[0m     counter\u001b[38;5;241m=\u001b[39mcounter\u001b[38;5;241m+\u001b[39m\u001b[38;5;241m1\u001b[39m\n\u001b[1;32m      6\u001b[0m     result\u001b[38;5;241m=\u001b[39m{\n\u001b[1;32m      7\u001b[0m         \u001b[38;5;124m\"\u001b[39m\u001b[38;5;124mtweet_id\u001b[39m\u001b[38;5;124m\"\u001b[39m: \u001b[38;5;28mstr\u001b[39m(message\u001b[38;5;241m.\u001b[39mvalue[\u001b[38;5;124m\"\u001b[39m\u001b[38;5;124mId\u001b[39m\u001b[38;5;124m\"\u001b[39m]),\n\u001b[1;32m      8\u001b[0m         \u001b[38;5;124m\"\u001b[39m\u001b[38;5;124mcreated_at\u001b[39m\u001b[38;5;124m\"\u001b[39m: datetime\u001b[38;5;241m.\u001b[39mfromtimestamp(\u001b[38;5;28mint\u001b[39m(message\u001b[38;5;241m.\u001b[39mvalue[\u001b[38;5;124m\"\u001b[39m\u001b[38;5;124mCreatedAt\u001b[39m\u001b[38;5;124m\"\u001b[39m])\u001b[38;5;241m/\u001b[39m\u001b[38;5;241m1000\u001b[39m)\u001b[38;5;241m.\u001b[39mstrftime(\u001b[38;5;124m'\u001b[39m\u001b[38;5;124m%\u001b[39m\u001b[38;5;124mY-\u001b[39m\u001b[38;5;124m%\u001b[39m\u001b[38;5;124mm-\u001b[39m\u001b[38;5;132;01m%d\u001b[39;00m\u001b[38;5;124m \u001b[39m\u001b[38;5;124m%\u001b[39m\u001b[38;5;124mH:\u001b[39m\u001b[38;5;124m%\u001b[39m\u001b[38;5;124mM:\u001b[39m\u001b[38;5;124m%\u001b[39m\u001b[38;5;124mS\u001b[39m\u001b[38;5;124m'\u001b[39m),\n\u001b[0;32m   (...)\u001b[0m\n\u001b[1;32m     16\u001b[0m         \u001b[38;5;124m\"\u001b[39m\u001b[38;5;124mhashtags\u001b[39m\u001b[38;5;124m\"\u001b[39m: message\u001b[38;5;241m.\u001b[39mvalue[\u001b[38;5;124m\"\u001b[39m\u001b[38;5;124mHashtagEntities\u001b[39m\u001b[38;5;124m\"\u001b[39m]\n\u001b[1;32m     17\u001b[0m     }\n",
      "File \u001b[0;32m/usr/local/lib/python3.9/dist-packages/kafka/consumer/group.py:1193\u001b[0m, in \u001b[0;36mKafkaConsumer.__next__\u001b[0;34m(self)\u001b[0m\n\u001b[1;32m   1191\u001b[0m     \u001b[38;5;28;01mreturn\u001b[39;00m \u001b[38;5;28mself\u001b[39m\u001b[38;5;241m.\u001b[39mnext_v1()\n\u001b[1;32m   1192\u001b[0m \u001b[38;5;28;01melse\u001b[39;00m:\n\u001b[0;32m-> 1193\u001b[0m     \u001b[38;5;28;01mreturn\u001b[39;00m \u001b[38;5;28;43mself\u001b[39;49m\u001b[38;5;241;43m.\u001b[39;49m\u001b[43mnext_v2\u001b[49m\u001b[43m(\u001b[49m\u001b[43m)\u001b[49m\n",
      "File \u001b[0;32m/usr/local/lib/python3.9/dist-packages/kafka/consumer/group.py:1201\u001b[0m, in \u001b[0;36mKafkaConsumer.next_v2\u001b[0;34m(self)\u001b[0m\n\u001b[1;32m   1199\u001b[0m     \u001b[38;5;28mself\u001b[39m\u001b[38;5;241m.\u001b[39m_iterator \u001b[38;5;241m=\u001b[39m \u001b[38;5;28mself\u001b[39m\u001b[38;5;241m.\u001b[39m_message_generator_v2()\n\u001b[1;32m   1200\u001b[0m \u001b[38;5;28;01mtry\u001b[39;00m:\n\u001b[0;32m-> 1201\u001b[0m     \u001b[38;5;28;01mreturn\u001b[39;00m \u001b[38;5;28;43mnext\u001b[39;49m\u001b[43m(\u001b[49m\u001b[38;5;28;43mself\u001b[39;49m\u001b[38;5;241;43m.\u001b[39;49m\u001b[43m_iterator\u001b[49m\u001b[43m)\u001b[49m\n\u001b[1;32m   1202\u001b[0m \u001b[38;5;28;01mexcept\u001b[39;00m \u001b[38;5;167;01mStopIteration\u001b[39;00m:\n\u001b[1;32m   1203\u001b[0m     \u001b[38;5;28mself\u001b[39m\u001b[38;5;241m.\u001b[39m_iterator \u001b[38;5;241m=\u001b[39m \u001b[38;5;28;01mNone\u001b[39;00m\n",
      "File \u001b[0;32m/usr/local/lib/python3.9/dist-packages/kafka/consumer/group.py:1116\u001b[0m, in \u001b[0;36mKafkaConsumer._message_generator_v2\u001b[0;34m(self)\u001b[0m\n\u001b[1;32m   1114\u001b[0m \u001b[38;5;28;01mdef\u001b[39;00m \u001b[38;5;21m_message_generator_v2\u001b[39m(\u001b[38;5;28mself\u001b[39m):\n\u001b[1;32m   1115\u001b[0m     timeout_ms \u001b[38;5;241m=\u001b[39m \u001b[38;5;241m1000\u001b[39m \u001b[38;5;241m*\u001b[39m (\u001b[38;5;28mself\u001b[39m\u001b[38;5;241m.\u001b[39m_consumer_timeout \u001b[38;5;241m-\u001b[39m time\u001b[38;5;241m.\u001b[39mtime())\n\u001b[0;32m-> 1116\u001b[0m     record_map \u001b[38;5;241m=\u001b[39m \u001b[38;5;28;43mself\u001b[39;49m\u001b[38;5;241;43m.\u001b[39;49m\u001b[43mpoll\u001b[49m\u001b[43m(\u001b[49m\u001b[43mtimeout_ms\u001b[49m\u001b[38;5;241;43m=\u001b[39;49m\u001b[43mtimeout_ms\u001b[49m\u001b[43m,\u001b[49m\u001b[43m \u001b[49m\u001b[43mupdate_offsets\u001b[49m\u001b[38;5;241;43m=\u001b[39;49m\u001b[38;5;28;43;01mFalse\u001b[39;49;00m\u001b[43m)\u001b[49m\n\u001b[1;32m   1117\u001b[0m     \u001b[38;5;28;01mfor\u001b[39;00m tp, records \u001b[38;5;129;01min\u001b[39;00m six\u001b[38;5;241m.\u001b[39miteritems(record_map):\n\u001b[1;32m   1118\u001b[0m         \u001b[38;5;66;03m# Generators are stateful, and it is possible that the tp / records\u001b[39;00m\n\u001b[1;32m   1119\u001b[0m         \u001b[38;5;66;03m# here may become stale during iteration -- i.e., we seek to a\u001b[39;00m\n\u001b[1;32m   1120\u001b[0m         \u001b[38;5;66;03m# different offset, pause consumption, or lose assignment.\u001b[39;00m\n\u001b[1;32m   1121\u001b[0m         \u001b[38;5;28;01mfor\u001b[39;00m record \u001b[38;5;129;01min\u001b[39;00m records:\n\u001b[1;32m   1122\u001b[0m             \u001b[38;5;66;03m# is_fetchable(tp) should handle assignment changes and offset\u001b[39;00m\n\u001b[1;32m   1123\u001b[0m             \u001b[38;5;66;03m# resets; for all other changes (e.g., seeks) we'll rely on the\u001b[39;00m\n\u001b[1;32m   1124\u001b[0m             \u001b[38;5;66;03m# outer function destroying the existing iterator/generator\u001b[39;00m\n\u001b[1;32m   1125\u001b[0m             \u001b[38;5;66;03m# via self._iterator = None\u001b[39;00m\n",
      "File \u001b[0;32m/usr/local/lib/python3.9/dist-packages/kafka/consumer/group.py:655\u001b[0m, in \u001b[0;36mKafkaConsumer.poll\u001b[0;34m(self, timeout_ms, max_records, update_offsets)\u001b[0m\n\u001b[1;32m    653\u001b[0m remaining \u001b[38;5;241m=\u001b[39m timeout_ms\n\u001b[1;32m    654\u001b[0m \u001b[38;5;28;01mwhile\u001b[39;00m \u001b[38;5;28;01mTrue\u001b[39;00m:\n\u001b[0;32m--> 655\u001b[0m     records \u001b[38;5;241m=\u001b[39m \u001b[38;5;28;43mself\u001b[39;49m\u001b[38;5;241;43m.\u001b[39;49m\u001b[43m_poll_once\u001b[49m\u001b[43m(\u001b[49m\u001b[43mremaining\u001b[49m\u001b[43m,\u001b[49m\u001b[43m \u001b[49m\u001b[43mmax_records\u001b[49m\u001b[43m,\u001b[49m\u001b[43m \u001b[49m\u001b[43mupdate_offsets\u001b[49m\u001b[38;5;241;43m=\u001b[39;49m\u001b[43mupdate_offsets\u001b[49m\u001b[43m)\u001b[49m\n\u001b[1;32m    656\u001b[0m     \u001b[38;5;28;01mif\u001b[39;00m records:\n\u001b[1;32m    657\u001b[0m         \u001b[38;5;28;01mreturn\u001b[39;00m records\n",
      "File \u001b[0;32m/usr/local/lib/python3.9/dist-packages/kafka/consumer/group.py:702\u001b[0m, in \u001b[0;36mKafkaConsumer._poll_once\u001b[0;34m(self, timeout_ms, max_records, update_offsets)\u001b[0m\n\u001b[1;32m    699\u001b[0m     \u001b[38;5;28mself\u001b[39m\u001b[38;5;241m.\u001b[39m_client\u001b[38;5;241m.\u001b[39mpoll(timeout_ms\u001b[38;5;241m=\u001b[39m\u001b[38;5;241m0\u001b[39m)\n\u001b[1;32m    701\u001b[0m timeout_ms \u001b[38;5;241m=\u001b[39m \u001b[38;5;28mmin\u001b[39m(timeout_ms, \u001b[38;5;28mself\u001b[39m\u001b[38;5;241m.\u001b[39m_coordinator\u001b[38;5;241m.\u001b[39mtime_to_next_poll() \u001b[38;5;241m*\u001b[39m \u001b[38;5;241m1000\u001b[39m)\n\u001b[0;32m--> 702\u001b[0m \u001b[38;5;28;43mself\u001b[39;49m\u001b[38;5;241;43m.\u001b[39;49m\u001b[43m_client\u001b[49m\u001b[38;5;241;43m.\u001b[39;49m\u001b[43mpoll\u001b[49m\u001b[43m(\u001b[49m\u001b[43mtimeout_ms\u001b[49m\u001b[38;5;241;43m=\u001b[39;49m\u001b[43mtimeout_ms\u001b[49m\u001b[43m)\u001b[49m\n\u001b[1;32m    703\u001b[0m \u001b[38;5;66;03m# after the long poll, we should check whether the group needs to rebalance\u001b[39;00m\n\u001b[1;32m    704\u001b[0m \u001b[38;5;66;03m# prior to returning data so that the group can stabilize faster\u001b[39;00m\n\u001b[1;32m    705\u001b[0m \u001b[38;5;28;01mif\u001b[39;00m \u001b[38;5;28mself\u001b[39m\u001b[38;5;241m.\u001b[39m_coordinator\u001b[38;5;241m.\u001b[39mneed_rejoin():\n",
      "File \u001b[0;32m/usr/local/lib/python3.9/dist-packages/kafka/client_async.py:602\u001b[0m, in \u001b[0;36mKafkaClient.poll\u001b[0;34m(self, timeout_ms, future)\u001b[0m\n\u001b[1;32m    599\u001b[0m             timeout \u001b[38;5;241m=\u001b[39m \u001b[38;5;28mmin\u001b[39m(timeout, \u001b[38;5;28mself\u001b[39m\u001b[38;5;241m.\u001b[39mconfig[\u001b[38;5;124m'\u001b[39m\u001b[38;5;124mretry_backoff_ms\u001b[39m\u001b[38;5;124m'\u001b[39m])\n\u001b[1;32m    600\u001b[0m         timeout \u001b[38;5;241m=\u001b[39m \u001b[38;5;28mmax\u001b[39m(\u001b[38;5;241m0\u001b[39m, timeout)  \u001b[38;5;66;03m# avoid negative timeouts\u001b[39;00m\n\u001b[0;32m--> 602\u001b[0m     \u001b[38;5;28;43mself\u001b[39;49m\u001b[38;5;241;43m.\u001b[39;49m\u001b[43m_poll\u001b[49m\u001b[43m(\u001b[49m\u001b[43mtimeout\u001b[49m\u001b[43m \u001b[49m\u001b[38;5;241;43m/\u001b[39;49m\u001b[43m \u001b[49m\u001b[38;5;241;43m1000\u001b[39;49m\u001b[43m)\u001b[49m\n\u001b[1;32m    604\u001b[0m \u001b[38;5;66;03m# called without the lock to avoid deadlock potential\u001b[39;00m\n\u001b[1;32m    605\u001b[0m \u001b[38;5;66;03m# if handlers need to acquire locks\u001b[39;00m\n\u001b[1;32m    606\u001b[0m responses\u001b[38;5;241m.\u001b[39mextend(\u001b[38;5;28mself\u001b[39m\u001b[38;5;241m.\u001b[39m_fire_pending_completed_requests())\n",
      "File \u001b[0;32m/usr/local/lib/python3.9/dist-packages/kafka/client_async.py:634\u001b[0m, in \u001b[0;36mKafkaClient._poll\u001b[0;34m(self, timeout)\u001b[0m\n\u001b[1;32m    631\u001b[0m \u001b[38;5;28mself\u001b[39m\u001b[38;5;241m.\u001b[39m_register_send_sockets()\n\u001b[1;32m    633\u001b[0m start_select \u001b[38;5;241m=\u001b[39m time\u001b[38;5;241m.\u001b[39mtime()\n\u001b[0;32m--> 634\u001b[0m ready \u001b[38;5;241m=\u001b[39m \u001b[38;5;28;43mself\u001b[39;49m\u001b[38;5;241;43m.\u001b[39;49m\u001b[43m_selector\u001b[49m\u001b[38;5;241;43m.\u001b[39;49m\u001b[43mselect\u001b[49m\u001b[43m(\u001b[49m\u001b[43mtimeout\u001b[49m\u001b[43m)\u001b[49m\n\u001b[1;32m    635\u001b[0m end_select \u001b[38;5;241m=\u001b[39m time\u001b[38;5;241m.\u001b[39mtime()\n\u001b[1;32m    636\u001b[0m \u001b[38;5;28;01mif\u001b[39;00m \u001b[38;5;28mself\u001b[39m\u001b[38;5;241m.\u001b[39m_sensors:\n",
      "File \u001b[0;32m/usr/lib/python3.9/selectors.py:469\u001b[0m, in \u001b[0;36mEpollSelector.select\u001b[0;34m(self, timeout)\u001b[0m\n\u001b[1;32m    467\u001b[0m ready \u001b[38;5;241m=\u001b[39m []\n\u001b[1;32m    468\u001b[0m \u001b[38;5;28;01mtry\u001b[39;00m:\n\u001b[0;32m--> 469\u001b[0m     fd_event_list \u001b[38;5;241m=\u001b[39m \u001b[38;5;28;43mself\u001b[39;49m\u001b[38;5;241;43m.\u001b[39;49m\u001b[43m_selector\u001b[49m\u001b[38;5;241;43m.\u001b[39;49m\u001b[43mpoll\u001b[49m\u001b[43m(\u001b[49m\u001b[43mtimeout\u001b[49m\u001b[43m,\u001b[49m\u001b[43m \u001b[49m\u001b[43mmax_ev\u001b[49m\u001b[43m)\u001b[49m\n\u001b[1;32m    470\u001b[0m \u001b[38;5;28;01mexcept\u001b[39;00m \u001b[38;5;167;01mInterruptedError\u001b[39;00m:\n\u001b[1;32m    471\u001b[0m     \u001b[38;5;28;01mreturn\u001b[39;00m ready\n",
      "\u001b[0;31mKeyboardInterrupt\u001b[0m: "
     ]
    }
   ],
   "source": [
    "print(\"##########################################################\")\n",
    "print(\"+++ starting stream conversion...\")\n",
    "counter=0\n",
    "for message in consumer:\n",
    "    counter=counter+1\n",
    "    result={\n",
    "        \"tweet_id\": str(message.value[\"Id\"]),\n",
    "        \"created_at\": datetime.fromtimestamp(int(message.value[\"CreatedAt\"])/1000).strftime('%Y-%m-%d %H:%M:%S'),\n",
    "        \"tweet_message\": message.value[\"Text\"],\n",
    "        \"user_name\": message.value[\"User\"][\"ScreenName\"],\n",
    "        \"user_location\": message.value[\"User\"][\"Location\"],\n",
    "        \"user_follower_count\": int(message.value[\"User\"][\"FollowersCount\"]),\n",
    "        \"user_friends_count\": int(message.value[\"User\"][\"FriendsCount\"]),\n",
    "        \"retweet_count\": int(message.value[\"RetweetCount\"]),\n",
    "        \"language\": message.value[\"Lang\"],\n",
    "        \"hashtags\": message.value[\"HashtagEntities\"]\n",
    "    }\n",
    "    print(\"++ total: \" + str(counter)+ \"+++++++++++++++++++++++++++++++++++++++++++\")\n",
    "    print(json.dumps(result))\n",
    "    #producer.send(KAFKA_TARGET_TOPIC,value=result)"
   ]
  },
  {
   "cell_type": "code",
   "execution_count": null,
   "id": "74a42b59",
   "metadata": {},
   "outputs": [],
   "source": []
  }
 ],
 "metadata": {
  "kernelspec": {
   "display_name": "Python 3 (ipykernel)",
   "language": "python",
   "name": "python3"
  },
  "language_info": {
   "codemirror_mode": {
    "name": "ipython",
    "version": 3
   },
   "file_extension": ".py",
   "mimetype": "text/x-python",
   "name": "python",
   "nbconvert_exporter": "python",
   "pygments_lexer": "ipython3",
   "version": "3.9.2"
  }
 },
 "nbformat": 4,
 "nbformat_minor": 5
}
